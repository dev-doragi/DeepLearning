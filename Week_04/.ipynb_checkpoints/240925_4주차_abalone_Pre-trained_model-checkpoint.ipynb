{
 "cells": [
  {
   "cell_type": "markdown",
   "id": "11f57a73-e886-4175-9894-92c324751187",
   "metadata": {},
   "source": [
    "# 4주차 Report"
   ]
  },
  {
   "cell_type": "markdown",
   "id": "c4ea4484-4284-4a17-a5a9-e2632986432b",
   "metadata": {},
   "source": [
    "Convolution 신경망을 통해 전복의 Ring 수를 예측하는 모델을 만들고,\n",
    "\n",
    "해당 모델을 전이학습을 통해 성멸을 예측하는 Pre-trained model을 만들어보자."
   ]
  },
  {
   "cell_type": "markdown",
   "id": "7cc92178-3ba6-4ceb-a270-d3f63619e466",
   "metadata": {},
   "source": [
    "## 1. Data Load"
   ]
  },
  {
   "cell_type": "code",
   "execution_count": 83,
   "id": "6ef556b7-931f-4b43-af48-165c0578f006",
   "metadata": {},
   "outputs": [],
   "source": [
    "import pandas as pd\n",
    "import numpy as np\n",
    "import matplotlib.pyplot as plt\n",
    "from sklearn.model_selection import train_test_split\n",
    "from sklearn.preprocessing import StandardScaler, LabelEncoder\n",
    "from sklearn.neighbors import KNeighborsClassifier\n",
    "import seaborn as sns\n",
    "import tensorflow as tf\n",
    "from tensorflow import keras"
   ]
  },
  {
   "cell_type": "code",
   "execution_count": 84,
   "id": "8bd9234d-d20c-411a-85e8-c86499ef592e",
   "metadata": {},
   "outputs": [
    {
     "data": {
      "text/html": [
       "<div>\n",
       "<style scoped>\n",
       "    .dataframe tbody tr th:only-of-type {\n",
       "        vertical-align: middle;\n",
       "    }\n",
       "\n",
       "    .dataframe tbody tr th {\n",
       "        vertical-align: top;\n",
       "    }\n",
       "\n",
       "    .dataframe thead th {\n",
       "        text-align: right;\n",
       "    }\n",
       "</style>\n",
       "<table border=\"1\" class=\"dataframe\">\n",
       "  <thead>\n",
       "    <tr style=\"text-align: right;\">\n",
       "      <th></th>\n",
       "      <th>Sex</th>\n",
       "      <th>Length</th>\n",
       "      <th>Diameter</th>\n",
       "      <th>Height</th>\n",
       "      <th>Whole weight</th>\n",
       "      <th>Shucked weight</th>\n",
       "      <th>Viscera weight</th>\n",
       "      <th>Shell weight</th>\n",
       "      <th>Rings</th>\n",
       "    </tr>\n",
       "    <tr>\n",
       "      <th>id</th>\n",
       "      <th></th>\n",
       "      <th></th>\n",
       "      <th></th>\n",
       "      <th></th>\n",
       "      <th></th>\n",
       "      <th></th>\n",
       "      <th></th>\n",
       "      <th></th>\n",
       "      <th></th>\n",
       "    </tr>\n",
       "  </thead>\n",
       "  <tbody>\n",
       "    <tr>\n",
       "      <th>0</th>\n",
       "      <td>M</td>\n",
       "      <td>0.455</td>\n",
       "      <td>0.365</td>\n",
       "      <td>0.095</td>\n",
       "      <td>0.5140</td>\n",
       "      <td>0.2245</td>\n",
       "      <td>0.1010</td>\n",
       "      <td>0.1500</td>\n",
       "      <td>15</td>\n",
       "    </tr>\n",
       "    <tr>\n",
       "      <th>1</th>\n",
       "      <td>M</td>\n",
       "      <td>0.350</td>\n",
       "      <td>0.265</td>\n",
       "      <td>0.090</td>\n",
       "      <td>0.2255</td>\n",
       "      <td>0.0995</td>\n",
       "      <td>0.0485</td>\n",
       "      <td>0.0700</td>\n",
       "      <td>7</td>\n",
       "    </tr>\n",
       "    <tr>\n",
       "      <th>2</th>\n",
       "      <td>F</td>\n",
       "      <td>0.530</td>\n",
       "      <td>0.420</td>\n",
       "      <td>0.135</td>\n",
       "      <td>0.6770</td>\n",
       "      <td>0.2565</td>\n",
       "      <td>0.1415</td>\n",
       "      <td>0.2100</td>\n",
       "      <td>9</td>\n",
       "    </tr>\n",
       "    <tr>\n",
       "      <th>3</th>\n",
       "      <td>M</td>\n",
       "      <td>0.440</td>\n",
       "      <td>0.365</td>\n",
       "      <td>0.125</td>\n",
       "      <td>0.5160</td>\n",
       "      <td>0.2155</td>\n",
       "      <td>0.1140</td>\n",
       "      <td>0.1550</td>\n",
       "      <td>10</td>\n",
       "    </tr>\n",
       "    <tr>\n",
       "      <th>4</th>\n",
       "      <td>I</td>\n",
       "      <td>0.330</td>\n",
       "      <td>0.255</td>\n",
       "      <td>0.080</td>\n",
       "      <td>0.2050</td>\n",
       "      <td>0.0895</td>\n",
       "      <td>0.0395</td>\n",
       "      <td>0.0550</td>\n",
       "      <td>7</td>\n",
       "    </tr>\n",
       "    <tr>\n",
       "      <th>...</th>\n",
       "      <td>...</td>\n",
       "      <td>...</td>\n",
       "      <td>...</td>\n",
       "      <td>...</td>\n",
       "      <td>...</td>\n",
       "      <td>...</td>\n",
       "      <td>...</td>\n",
       "      <td>...</td>\n",
       "      <td>...</td>\n",
       "    </tr>\n",
       "    <tr>\n",
       "      <th>4172</th>\n",
       "      <td>F</td>\n",
       "      <td>0.565</td>\n",
       "      <td>0.450</td>\n",
       "      <td>0.165</td>\n",
       "      <td>0.8870</td>\n",
       "      <td>0.3700</td>\n",
       "      <td>0.2390</td>\n",
       "      <td>0.2490</td>\n",
       "      <td>11</td>\n",
       "    </tr>\n",
       "    <tr>\n",
       "      <th>4173</th>\n",
       "      <td>M</td>\n",
       "      <td>0.590</td>\n",
       "      <td>0.440</td>\n",
       "      <td>0.135</td>\n",
       "      <td>0.9660</td>\n",
       "      <td>0.4390</td>\n",
       "      <td>0.2145</td>\n",
       "      <td>0.2605</td>\n",
       "      <td>10</td>\n",
       "    </tr>\n",
       "    <tr>\n",
       "      <th>4174</th>\n",
       "      <td>M</td>\n",
       "      <td>0.600</td>\n",
       "      <td>0.475</td>\n",
       "      <td>0.205</td>\n",
       "      <td>1.1760</td>\n",
       "      <td>0.5255</td>\n",
       "      <td>0.2875</td>\n",
       "      <td>0.3080</td>\n",
       "      <td>9</td>\n",
       "    </tr>\n",
       "    <tr>\n",
       "      <th>4175</th>\n",
       "      <td>F</td>\n",
       "      <td>0.625</td>\n",
       "      <td>0.485</td>\n",
       "      <td>0.150</td>\n",
       "      <td>1.0945</td>\n",
       "      <td>0.5310</td>\n",
       "      <td>0.2610</td>\n",
       "      <td>0.2960</td>\n",
       "      <td>10</td>\n",
       "    </tr>\n",
       "    <tr>\n",
       "      <th>4176</th>\n",
       "      <td>M</td>\n",
       "      <td>0.710</td>\n",
       "      <td>0.555</td>\n",
       "      <td>0.195</td>\n",
       "      <td>1.9485</td>\n",
       "      <td>0.9455</td>\n",
       "      <td>0.3765</td>\n",
       "      <td>0.4950</td>\n",
       "      <td>12</td>\n",
       "    </tr>\n",
       "  </tbody>\n",
       "</table>\n",
       "<p>4177 rows × 9 columns</p>\n",
       "</div>"
      ],
      "text/plain": [
       "     Sex  Length  Diameter  Height  Whole weight  Shucked weight  \\\n",
       "id                                                                 \n",
       "0      M   0.455     0.365   0.095        0.5140          0.2245   \n",
       "1      M   0.350     0.265   0.090        0.2255          0.0995   \n",
       "2      F   0.530     0.420   0.135        0.6770          0.2565   \n",
       "3      M   0.440     0.365   0.125        0.5160          0.2155   \n",
       "4      I   0.330     0.255   0.080        0.2050          0.0895   \n",
       "...   ..     ...       ...     ...           ...             ...   \n",
       "4172   F   0.565     0.450   0.165        0.8870          0.3700   \n",
       "4173   M   0.590     0.440   0.135        0.9660          0.4390   \n",
       "4174   M   0.600     0.475   0.205        1.1760          0.5255   \n",
       "4175   F   0.625     0.485   0.150        1.0945          0.5310   \n",
       "4176   M   0.710     0.555   0.195        1.9485          0.9455   \n",
       "\n",
       "      Viscera weight  Shell weight  Rings  \n",
       "id                                         \n",
       "0             0.1010        0.1500     15  \n",
       "1             0.0485        0.0700      7  \n",
       "2             0.1415        0.2100      9  \n",
       "3             0.1140        0.1550     10  \n",
       "4             0.0395        0.0550      7  \n",
       "...              ...           ...    ...  \n",
       "4172          0.2390        0.2490     11  \n",
       "4173          0.2145        0.2605     10  \n",
       "4174          0.2875        0.3080      9  \n",
       "4175          0.2610        0.2960     10  \n",
       "4176          0.3765        0.4950     12  \n",
       "\n",
       "[4177 rows x 9 columns]"
      ]
     },
     "execution_count": 84,
     "metadata": {},
     "output_type": "execute_result"
    }
   ],
   "source": [
    "df = pd.read_csv(\"C:/Project/DeepLearning/Data/abalone.csv\", index_col=0) # \\는 콜백문자 때문에 \\\\로 사용한다.\n",
    "df.columns = ['Sex', 'Length', 'Diameter', 'Height', 'Whole weight', 'Shucked weight', 'Viscera weight', 'Shell weight', 'Rings']\n",
    "df"
   ]
  },
  {
   "cell_type": "code",
   "execution_count": 85,
   "id": "572af67c-10b1-4674-8f87-38c0367db5a7",
   "metadata": {},
   "outputs": [
    {
     "data": {
      "text/plain": [
       "Sex               0\n",
       "Length            0\n",
       "Diameter          0\n",
       "Height            0\n",
       "Whole weight      0\n",
       "Shucked weight    0\n",
       "Viscera weight    0\n",
       "Shell weight      0\n",
       "Rings             0\n",
       "dtype: int64"
      ]
     },
     "execution_count": 85,
     "metadata": {},
     "output_type": "execute_result"
    }
   ],
   "source": [
    "# 결측치 확인\n",
    "df.isnull().sum()"
   ]
  },
  {
   "cell_type": "code",
   "execution_count": 86,
   "id": "1a8874a4-3f3a-4a2f-a4b8-a95a585f8945",
   "metadata": {},
   "outputs": [
    {
     "data": {
      "text/plain": [
       "Sex               0\n",
       "Length            0\n",
       "Diameter          0\n",
       "Height            0\n",
       "Whole weight      0\n",
       "Shucked weight    0\n",
       "Viscera weight    0\n",
       "Shell weight      0\n",
       "Rings             0\n",
       "dtype: int64"
      ]
     },
     "execution_count": 86,
     "metadata": {},
     "output_type": "execute_result"
    }
   ],
   "source": [
    "# 결측치 제거\n",
    "df = df.dropna()\n",
    "df.isnull().sum()"
   ]
  },
  {
   "cell_type": "code",
   "execution_count": 87,
   "id": "f784c7e6-0667-4ec6-84d8-3fe61956522d",
   "metadata": {},
   "outputs": [
    {
     "data": {
      "text/plain": [
       "array([[<Axes: title={'center': 'Length'}>,\n",
       "        <Axes: title={'center': 'Diameter'}>,\n",
       "        <Axes: title={'center': 'Height'}>],\n",
       "       [<Axes: title={'center': 'Whole weight'}>,\n",
       "        <Axes: title={'center': 'Shucked weight'}>,\n",
       "        <Axes: title={'center': 'Viscera weight'}>],\n",
       "       [<Axes: title={'center': 'Shell weight'}>,\n",
       "        <Axes: title={'center': 'Rings'}>, <Axes: >]], dtype=object)"
      ]
     },
     "execution_count": 87,
     "metadata": {},
     "output_type": "execute_result"
    },
    {
     "data": {
      "image/png": "[encoded data removed]",
      "text/plain": [
       "<Figure size 1500x1000 with 9 Axes>"
      ]
     },
     "metadata": {},
     "output_type": "display_data"
    }
   ],
   "source": [
    "df.hist(figsize=(15, 10), grid=False, alpha=0.5, color='purple')"
   ]
  },
  {
   "cell_type": "code",
   "execution_count": 88,
   "id": "37d61b62-4daf-4ecb-9f86-ad5ada5f75e1",
   "metadata": {},
   "outputs": [
    {
     "data": {
      "text/plain": [
       "Text(0.5, 1.0, 'Rings of abalone')"
      ]
     },
     "execution_count": 88,
     "metadata": {},
     "output_type": "execute_result"
    },
    {
     "data": {
      "image/png": "[encoded data removed]",
      "text/plain": [
       "<Figure size 640x480 with 1 Axes>"
      ]
     },
     "metadata": {},
     "output_type": "display_data"
    }
   ],
   "source": [
    "# 레이블 갯수 확인 (그래프)\n",
    "sns.countplot(data = df, x=\"Rings\")\n",
    "plt.xlabel(\"Rings\")\n",
    "plt.ylabel(\"Count\")\n",
    "plt.title(\"Rings of abalone\")"
   ]
  },
  {
   "cell_type": "code",
   "execution_count": 89,
   "id": "c6b63ce9-d76c-492a-9723-f0d044b5d548",
   "metadata": {},
   "outputs": [
    {
     "data": {
      "text/plain": [
       "9     689\n",
       "10    634\n",
       "8     568\n",
       "11    487\n",
       "7     391\n",
       "12    267\n",
       "6     259\n",
       "13    203\n",
       "14    126\n",
       "5     115\n",
       "15    103\n",
       "16     67\n",
       "17     58\n",
       "4      57\n",
       "18     42\n",
       "19     32\n",
       "20     26\n",
       "3      15\n",
       "21     14\n",
       "23      9\n",
       "22      6\n",
       "27      2\n",
       "24      2\n",
       "1       1\n",
       "26      1\n",
       "29      1\n",
       "2       1\n",
       "25      1\n",
       "Name: Rings, dtype: int64"
      ]
     },
     "execution_count": 89,
     "metadata": {},
     "output_type": "execute_result"
    }
   ],
   "source": [
    "df['Rings'].value_counts()"
   ]
  },
  {
   "cell_type": "code",
   "execution_count": 90,
   "id": "3f10d69c-e228-4ffc-906c-7032db6c73e3",
   "metadata": {},
   "outputs": [
    {
     "data": {
      "text/plain": [
       "9     689\n",
       "10    634\n",
       "8     568\n",
       "11    487\n",
       "7     391\n",
       "12    267\n",
       "6     259\n",
       "13    203\n",
       "14    126\n",
       "5     115\n",
       "15    103\n",
       "16     67\n",
       "17     58\n",
       "4      57\n",
       "18     42\n",
       "19     32\n",
       "20     26\n",
       "3      15\n",
       "21     14\n",
       "23      9\n",
       "22      6\n",
       "27      2\n",
       "24      2\n",
       "1       1\n",
       "26      1\n",
       "29      1\n",
       "2       1\n",
       "25      1\n",
       "0       1\n",
       "28      1\n",
       "Name: Rings, dtype: int64"
      ]
     },
     "execution_count": 90,
     "metadata": {},
     "output_type": "execute_result"
    }
   ],
   "source": [
    "import pandas as pd\n",
    "\n",
    "# 기존 abalone 데이터셋 로드\n",
    "# 데이터가 abalone.csv 파일에 있다고 가정\n",
    "\n",
    "# rings=1인 데이터와 rings=29인 데이터 추출\n",
    "rings_1_data = df[df['Rings'] == 1].copy()\n",
    "rings_29_data = df[df['Rings'] == 29].copy()\n",
    "\n",
    "# rings=1인 데이터를 rings=0으로 변경\n",
    "rings_1_data['Rings'] = 0\n",
    "\n",
    "# rings=29인 데이터를 rings=28로 변경\n",
    "rings_29_data['Rings'] = 28\n",
    "\n",
    "# 기존 데이터에 rings=0과 rings=28 데이터를 추가\n",
    "df = pd.concat([df, rings_1_data, rings_29_data], ignore_index=True)\n",
    "\n",
    "# 추가된 데이터 확인\n",
    "df['Rings'].value_counts()\n"
   ]
  },
  {
   "cell_type": "code",
   "execution_count": 91,
   "id": "06281bf5-be19-4c37-948a-2d352750d7b6",
   "metadata": {},
   "outputs": [
    {
     "data": {
      "text/html": [
       "<div>\n",
       "<style scoped>\n",
       "    .dataframe tbody tr th:only-of-type {\n",
       "        vertical-align: middle;\n",
       "    }\n",
       "\n",
       "    .dataframe tbody tr th {\n",
       "        vertical-align: top;\n",
       "    }\n",
       "\n",
       "    .dataframe thead th {\n",
       "        text-align: right;\n",
       "    }\n",
       "</style>\n",
       "<table border=\"1\" class=\"dataframe\">\n",
       "  <thead>\n",
       "    <tr style=\"text-align: right;\">\n",
       "      <th></th>\n",
       "      <th>Sex</th>\n",
       "      <th>Length</th>\n",
       "      <th>Diameter</th>\n",
       "      <th>Height</th>\n",
       "      <th>Whole weight</th>\n",
       "      <th>Shucked weight</th>\n",
       "      <th>Viscera weight</th>\n",
       "      <th>Shell weight</th>\n",
       "      <th>Rings</th>\n",
       "    </tr>\n",
       "  </thead>\n",
       "  <tbody>\n",
       "    <tr>\n",
       "      <th>0</th>\n",
       "      <td>2</td>\n",
       "      <td>0.455</td>\n",
       "      <td>0.365</td>\n",
       "      <td>0.095</td>\n",
       "      <td>0.5140</td>\n",
       "      <td>0.2245</td>\n",
       "      <td>0.1010</td>\n",
       "      <td>0.1500</td>\n",
       "      <td>15</td>\n",
       "    </tr>\n",
       "    <tr>\n",
       "      <th>1</th>\n",
       "      <td>2</td>\n",
       "      <td>0.350</td>\n",
       "      <td>0.265</td>\n",
       "      <td>0.090</td>\n",
       "      <td>0.2255</td>\n",
       "      <td>0.0995</td>\n",
       "      <td>0.0485</td>\n",
       "      <td>0.0700</td>\n",
       "      <td>7</td>\n",
       "    </tr>\n",
       "    <tr>\n",
       "      <th>2</th>\n",
       "      <td>0</td>\n",
       "      <td>0.530</td>\n",
       "      <td>0.420</td>\n",
       "      <td>0.135</td>\n",
       "      <td>0.6770</td>\n",
       "      <td>0.2565</td>\n",
       "      <td>0.1415</td>\n",
       "      <td>0.2100</td>\n",
       "      <td>9</td>\n",
       "    </tr>\n",
       "    <tr>\n",
       "      <th>3</th>\n",
       "      <td>2</td>\n",
       "      <td>0.440</td>\n",
       "      <td>0.365</td>\n",
       "      <td>0.125</td>\n",
       "      <td>0.5160</td>\n",
       "      <td>0.2155</td>\n",
       "      <td>0.1140</td>\n",
       "      <td>0.1550</td>\n",
       "      <td>10</td>\n",
       "    </tr>\n",
       "    <tr>\n",
       "      <th>4</th>\n",
       "      <td>1</td>\n",
       "      <td>0.330</td>\n",
       "      <td>0.255</td>\n",
       "      <td>0.080</td>\n",
       "      <td>0.2050</td>\n",
       "      <td>0.0895</td>\n",
       "      <td>0.0395</td>\n",
       "      <td>0.0550</td>\n",
       "      <td>7</td>\n",
       "    </tr>\n",
       "    <tr>\n",
       "      <th>...</th>\n",
       "      <td>...</td>\n",
       "      <td>...</td>\n",
       "      <td>...</td>\n",
       "      <td>...</td>\n",
       "      <td>...</td>\n",
       "      <td>...</td>\n",
       "      <td>...</td>\n",
       "      <td>...</td>\n",
       "      <td>...</td>\n",
       "    </tr>\n",
       "    <tr>\n",
       "      <th>4174</th>\n",
       "      <td>2</td>\n",
       "      <td>0.600</td>\n",
       "      <td>0.475</td>\n",
       "      <td>0.205</td>\n",
       "      <td>1.1760</td>\n",
       "      <td>0.5255</td>\n",
       "      <td>0.2875</td>\n",
       "      <td>0.3080</td>\n",
       "      <td>9</td>\n",
       "    </tr>\n",
       "    <tr>\n",
       "      <th>4175</th>\n",
       "      <td>0</td>\n",
       "      <td>0.625</td>\n",
       "      <td>0.485</td>\n",
       "      <td>0.150</td>\n",
       "      <td>1.0945</td>\n",
       "      <td>0.5310</td>\n",
       "      <td>0.2610</td>\n",
       "      <td>0.2960</td>\n",
       "      <td>10</td>\n",
       "    </tr>\n",
       "    <tr>\n",
       "      <th>4176</th>\n",
       "      <td>2</td>\n",
       "      <td>0.710</td>\n",
       "      <td>0.555</td>\n",
       "      <td>0.195</td>\n",
       "      <td>1.9485</td>\n",
       "      <td>0.9455</td>\n",
       "      <td>0.3765</td>\n",
       "      <td>0.4950</td>\n",
       "      <td>12</td>\n",
       "    </tr>\n",
       "    <tr>\n",
       "      <th>4177</th>\n",
       "      <td>1</td>\n",
       "      <td>0.075</td>\n",
       "      <td>0.055</td>\n",
       "      <td>0.010</td>\n",
       "      <td>0.0020</td>\n",
       "      <td>0.0010</td>\n",
       "      <td>0.0005</td>\n",
       "      <td>0.0015</td>\n",
       "      <td>0</td>\n",
       "    </tr>\n",
       "    <tr>\n",
       "      <th>4178</th>\n",
       "      <td>0</td>\n",
       "      <td>0.700</td>\n",
       "      <td>0.585</td>\n",
       "      <td>0.185</td>\n",
       "      <td>1.8075</td>\n",
       "      <td>0.7055</td>\n",
       "      <td>0.3215</td>\n",
       "      <td>0.4750</td>\n",
       "      <td>28</td>\n",
       "    </tr>\n",
       "  </tbody>\n",
       "</table>\n",
       "<p>4179 rows × 9 columns</p>\n",
       "</div>"
      ],
      "text/plain": [
       "      Sex  Length  Diameter  Height  Whole weight  Shucked weight  \\\n",
       "0       2   0.455     0.365   0.095        0.5140          0.2245   \n",
       "1       2   0.350     0.265   0.090        0.2255          0.0995   \n",
       "2       0   0.530     0.420   0.135        0.6770          0.2565   \n",
       "3       2   0.440     0.365   0.125        0.5160          0.2155   \n",
       "4       1   0.330     0.255   0.080        0.2050          0.0895   \n",
       "...   ...     ...       ...     ...           ...             ...   \n",
       "4174    2   0.600     0.475   0.205        1.1760          0.5255   \n",
       "4175    0   0.625     0.485   0.150        1.0945          0.5310   \n",
       "4176    2   0.710     0.555   0.195        1.9485          0.9455   \n",
       "4177    1   0.075     0.055   0.010        0.0020          0.0010   \n",
       "4178    0   0.700     0.585   0.185        1.8075          0.7055   \n",
       "\n",
       "      Viscera weight  Shell weight  Rings  \n",
       "0             0.1010        0.1500     15  \n",
       "1             0.0485        0.0700      7  \n",
       "2             0.1415        0.2100      9  \n",
       "3             0.1140        0.1550     10  \n",
       "4             0.0395        0.0550      7  \n",
       "...              ...           ...    ...  \n",
       "4174          0.2875        0.3080      9  \n",
       "4175          0.2610        0.2960     10  \n",
       "4176          0.3765        0.4950     12  \n",
       "4177          0.0005        0.0015      0  \n",
       "4178          0.3215        0.4750     28  \n",
       "\n",
       "[4179 rows x 9 columns]"
      ]
     },
     "execution_count": 91,
     "metadata": {},
     "output_type": "execute_result"
    }
   ],
   "source": [
    "#레이블을 숫자로 변환\n",
    "from sklearn.preprocessing import StandardScaler, LabelEncoder\n",
    "\n",
    "# LabelEncoder 객체 생성\n",
    "label = LabelEncoder()\n",
    "\n",
    "# 문자로 지정된 열의 데이터에 대해 LabelEncoder를 적용하여 변환\n",
    "df['Sex'] = label.fit_transform(df['Sex'])\n",
    "\n",
    "df"
   ]
  },
  {
   "cell_type": "code",
   "execution_count": 92,
   "id": "2ae39710-bdab-4485-8ff4-30368a6fd785",
   "metadata": {},
   "outputs": [
    {
     "data": {
      "image/png": "[encoded data removed]",
      "text/plain": [
       "<Figure size 1000x1000 with 1 Axes>"
      ]
     },
     "metadata": {},
     "output_type": "display_data"
    }
   ],
   "source": [
    "df_corr = df[[ 'Sex', 'Length', 'Diameter', 'Height', 'Whole weight', 'Shucked weight', 'Viscera weight', 'Shell weight', 'Rings']]\n",
    "\n",
    "#상관 관계 행렬\n",
    "# 0.3 이상인 경우 상관관계가 있고, 0.7이상이면 아주 높음\n",
    "\n",
    "df_corr=df_corr.corr()\n",
    "\n",
    "#히트맵\n",
    "plt.figure(figsize=(10,10))\n",
    "sns.set(font_scale=0.8)\n",
    "sns.heatmap(df_corr, annot=True, cbar=False)\n",
    "plt.show()"
   ]
  },
  {
   "cell_type": "markdown",
   "id": "fa3bbc48-2fdc-485b-b7f5-9b8531b154ba",
   "metadata": {},
   "source": [
    "Sex, Rings은 다른 특성들과의 상관관계가 특히 낮다. \n",
    "\n",
    "Abalone 데이터에 따르면, Rings 값에 1.5를 더하면 전복의 나이가 된다고 한다."
   ]
  },
  {
   "cell_type": "code",
   "execution_count": 93,
   "id": "62546f87-e6ed-487f-83fc-b3f68dafb7b4",
   "metadata": {},
   "outputs": [],
   "source": [
    "# Convert RingCount to Age by adding 1.5, accoring to codebook\n",
    "df['Age'] = df['Rings'] + 1.5\n",
    "# df.drop('Rings', axis=1, inplace=True)"
   ]
  },
  {
   "cell_type": "markdown",
   "id": "3c4dd211-a0a2-4fb2-993c-1a24c57e0779",
   "metadata": {},
   "source": [
    "## 2. Train Test Split"
   ]
  },
  {
   "cell_type": "markdown",
   "id": "7c699396-1b45-4839-bd68-ba397e4001c6",
   "metadata": {},
   "source": [
    "## Deep Learning Classification"
   ]
  },
  {
   "cell_type": "markdown",
   "id": "1a3b3cc0-a5d1-4c35-9d12-29f4fba70120",
   "metadata": {},
   "source": [
    "y label\r\n",
    "No of Classes : 0\r\n",
    "\r\n",
    "1 -> Rings <= 8\r\n",
    "\r\n",
    "2 -> Rings > 8 && Rings <= 11\r\n",
    "\r\n",
    "3 -> Rings > 11"
   ]
  },
  {
   "cell_type": "code",
   "execution_count": 94,
   "id": "1b9934c8-af19-4f5e-8452-5f7b08a0c4dc",
   "metadata": {},
   "outputs": [
    {
     "data": {
      "text/html": [
       "<div>\n",
       "<style scoped>\n",
       "    .dataframe tbody tr th:only-of-type {\n",
       "        vertical-align: middle;\n",
       "    }\n",
       "\n",
       "    .dataframe tbody tr th {\n",
       "        vertical-align: top;\n",
       "    }\n",
       "\n",
       "    .dataframe thead th {\n",
       "        text-align: right;\n",
       "    }\n",
       "</style>\n",
       "<table border=\"1\" class=\"dataframe\">\n",
       "  <thead>\n",
       "    <tr style=\"text-align: right;\">\n",
       "      <th></th>\n",
       "      <th>Length</th>\n",
       "      <th>Diameter</th>\n",
       "      <th>Height</th>\n",
       "      <th>Whole weight</th>\n",
       "      <th>Shucked weight</th>\n",
       "      <th>Viscera weight</th>\n",
       "      <th>Shell weight</th>\n",
       "    </tr>\n",
       "  </thead>\n",
       "  <tbody>\n",
       "    <tr>\n",
       "      <th>0</th>\n",
       "      <td>0.455</td>\n",
       "      <td>0.365</td>\n",
       "      <td>0.095</td>\n",
       "      <td>0.5140</td>\n",
       "      <td>0.2245</td>\n",
       "      <td>0.1010</td>\n",
       "      <td>0.150</td>\n",
       "    </tr>\n",
       "    <tr>\n",
       "      <th>1</th>\n",
       "      <td>0.350</td>\n",
       "      <td>0.265</td>\n",
       "      <td>0.090</td>\n",
       "      <td>0.2255</td>\n",
       "      <td>0.0995</td>\n",
       "      <td>0.0485</td>\n",
       "      <td>0.070</td>\n",
       "    </tr>\n",
       "    <tr>\n",
       "      <th>2</th>\n",
       "      <td>0.530</td>\n",
       "      <td>0.420</td>\n",
       "      <td>0.135</td>\n",
       "      <td>0.6770</td>\n",
       "      <td>0.2565</td>\n",
       "      <td>0.1415</td>\n",
       "      <td>0.210</td>\n",
       "    </tr>\n",
       "    <tr>\n",
       "      <th>3</th>\n",
       "      <td>0.440</td>\n",
       "      <td>0.365</td>\n",
       "      <td>0.125</td>\n",
       "      <td>0.5160</td>\n",
       "      <td>0.2155</td>\n",
       "      <td>0.1140</td>\n",
       "      <td>0.155</td>\n",
       "    </tr>\n",
       "    <tr>\n",
       "      <th>4</th>\n",
       "      <td>0.330</td>\n",
       "      <td>0.255</td>\n",
       "      <td>0.080</td>\n",
       "      <td>0.2050</td>\n",
       "      <td>0.0895</td>\n",
       "      <td>0.0395</td>\n",
       "      <td>0.055</td>\n",
       "    </tr>\n",
       "  </tbody>\n",
       "</table>\n",
       "</div>"
      ],
      "text/plain": [
       "   Length  Diameter  Height  Whole weight  Shucked weight  Viscera weight  \\\n",
       "0   0.455     0.365   0.095        0.5140          0.2245          0.1010   \n",
       "1   0.350     0.265   0.090        0.2255          0.0995          0.0485   \n",
       "2   0.530     0.420   0.135        0.6770          0.2565          0.1415   \n",
       "3   0.440     0.365   0.125        0.5160          0.2155          0.1140   \n",
       "4   0.330     0.255   0.080        0.2050          0.0895          0.0395   \n",
       "\n",
       "   Shell weight  \n",
       "0         0.150  \n",
       "1         0.070  \n",
       "2         0.210  \n",
       "3         0.155  \n",
       "4         0.055  "
      ]
     },
     "execution_count": 94,
     "metadata": {},
     "output_type": "execute_result"
    }
   ],
   "source": [
    "X_ring=df.drop(['Sex', 'Age', 'Rings'], axis=1)\n",
    "\n",
    "X_ring.head()\n",
    "# head()는 첫 5행만 출력함."
   ]
  },
  {
   "cell_type": "code",
   "execution_count": 125,
   "id": "d281066f-d54c-4e5f-bb23-2d832c493b9e",
   "metadata": {},
   "outputs": [],
   "source": [
    "new_df['newRings_1'] = np.where(df['Rings'] <= 8, 1,0)\n",
    "new_df['newRings_2'] = np.where(((df['Rings'] > 8) & (df['Rings'] <= 10)), 2,0)\n",
    "new_df['newRings_3'] = np.where(df['Rings'] > 10, 3,0)\n",
    "\n",
    "new_df['newRings'] = new_df['newRings_1'] + new_df['newRings_2'] + new_df['newRings_3']"
   ]
  },
  {
   "cell_type": "code",
   "execution_count": 126,
   "id": "0de66087-1f46-4741-a5e1-c831b48ee042",
   "metadata": {},
   "outputs": [
    {
     "data": {
      "text/plain": [
       "1    1408\n",
       "2    1323\n",
       "3    1448\n",
       "Name: newRings, dtype: int64"
      ]
     },
     "execution_count": 126,
     "metadata": {},
     "output_type": "execute_result"
    }
   ],
   "source": [
    "y_ring = new_df['newRings']\n",
    "y_ring.value_counts().sort_index(ascending=True)"
   ]
  },
  {
   "cell_type": "code",
   "execution_count": 127,
   "id": "8df9e8a6-6b06-454f-bf14-71a5eaa66b0e",
   "metadata": {},
   "outputs": [
    {
     "data": {
      "text/plain": [
       "array([[0, 0, 1],\n",
       "       [1, 0, 0],\n",
       "       [0, 1, 0],\n",
       "       ...,\n",
       "       [0, 0, 1],\n",
       "       [1, 0, 0],\n",
       "       [0, 0, 1]], dtype=uint8)"
      ]
     },
     "execution_count": 127,
     "metadata": {},
     "output_type": "execute_result"
    }
   ],
   "source": [
    "#one hot encoding 하기\n",
    "\n",
    "y_ring = pd.get_dummies(y_ring).values\n",
    "y_ring"
   ]
  },
  {
   "cell_type": "code",
   "execution_count": 128,
   "id": "496ea71a-77f8-46d1-9f7d-4a4a9663e826",
   "metadata": {},
   "outputs": [
    {
     "data": {
      "text/html": [
       "<div>\n",
       "<style scoped>\n",
       "    .dataframe tbody tr th:only-of-type {\n",
       "        vertical-align: middle;\n",
       "    }\n",
       "\n",
       "    .dataframe tbody tr th {\n",
       "        vertical-align: top;\n",
       "    }\n",
       "\n",
       "    .dataframe thead th {\n",
       "        text-align: right;\n",
       "    }\n",
       "</style>\n",
       "<table border=\"1\" class=\"dataframe\">\n",
       "  <thead>\n",
       "    <tr style=\"text-align: right;\">\n",
       "      <th></th>\n",
       "      <th>Length</th>\n",
       "      <th>Diameter</th>\n",
       "      <th>Height</th>\n",
       "      <th>Whole weight</th>\n",
       "      <th>Shucked weight</th>\n",
       "      <th>Viscera weight</th>\n",
       "      <th>Shell weight</th>\n",
       "    </tr>\n",
       "  </thead>\n",
       "  <tbody>\n",
       "    <tr>\n",
       "      <th>2788</th>\n",
       "      <td>0.615</td>\n",
       "      <td>0.460</td>\n",
       "      <td>0.150</td>\n",
       "      <td>1.0265</td>\n",
       "      <td>0.4935</td>\n",
       "      <td>0.2010</td>\n",
       "      <td>0.2745</td>\n",
       "    </tr>\n",
       "    <tr>\n",
       "      <th>1752</th>\n",
       "      <td>0.710</td>\n",
       "      <td>0.560</td>\n",
       "      <td>0.220</td>\n",
       "      <td>2.0150</td>\n",
       "      <td>0.9215</td>\n",
       "      <td>0.4540</td>\n",
       "      <td>0.5660</td>\n",
       "    </tr>\n",
       "    <tr>\n",
       "      <th>2224</th>\n",
       "      <td>0.550</td>\n",
       "      <td>0.425</td>\n",
       "      <td>0.145</td>\n",
       "      <td>0.7970</td>\n",
       "      <td>0.2970</td>\n",
       "      <td>0.1500</td>\n",
       "      <td>0.2650</td>\n",
       "    </tr>\n",
       "    <tr>\n",
       "      <th>3389</th>\n",
       "      <td>0.565</td>\n",
       "      <td>0.465</td>\n",
       "      <td>0.150</td>\n",
       "      <td>1.1285</td>\n",
       "      <td>0.3770</td>\n",
       "      <td>0.3525</td>\n",
       "      <td>0.3300</td>\n",
       "    </tr>\n",
       "    <tr>\n",
       "      <th>3851</th>\n",
       "      <td>0.560</td>\n",
       "      <td>0.440</td>\n",
       "      <td>0.130</td>\n",
       "      <td>0.8255</td>\n",
       "      <td>0.2425</td>\n",
       "      <td>0.2020</td>\n",
       "      <td>0.2850</td>\n",
       "    </tr>\n",
       "    <tr>\n",
       "      <th>...</th>\n",
       "      <td>...</td>\n",
       "      <td>...</td>\n",
       "      <td>...</td>\n",
       "      <td>...</td>\n",
       "      <td>...</td>\n",
       "      <td>...</td>\n",
       "      <td>...</td>\n",
       "    </tr>\n",
       "    <tr>\n",
       "      <th>1033</th>\n",
       "      <td>0.650</td>\n",
       "      <td>0.525</td>\n",
       "      <td>0.185</td>\n",
       "      <td>1.6220</td>\n",
       "      <td>0.6645</td>\n",
       "      <td>0.3225</td>\n",
       "      <td>0.4770</td>\n",
       "    </tr>\n",
       "    <tr>\n",
       "      <th>3264</th>\n",
       "      <td>0.655</td>\n",
       "      <td>0.500</td>\n",
       "      <td>0.140</td>\n",
       "      <td>1.1705</td>\n",
       "      <td>0.5405</td>\n",
       "      <td>0.3175</td>\n",
       "      <td>0.2850</td>\n",
       "    </tr>\n",
       "    <tr>\n",
       "      <th>1653</th>\n",
       "      <td>0.595</td>\n",
       "      <td>0.450</td>\n",
       "      <td>0.145</td>\n",
       "      <td>0.9590</td>\n",
       "      <td>0.4630</td>\n",
       "      <td>0.2065</td>\n",
       "      <td>0.2535</td>\n",
       "    </tr>\n",
       "    <tr>\n",
       "      <th>2607</th>\n",
       "      <td>0.625</td>\n",
       "      <td>0.490</td>\n",
       "      <td>0.165</td>\n",
       "      <td>1.1270</td>\n",
       "      <td>0.4770</td>\n",
       "      <td>0.2365</td>\n",
       "      <td>0.3185</td>\n",
       "    </tr>\n",
       "    <tr>\n",
       "      <th>2732</th>\n",
       "      <td>0.410</td>\n",
       "      <td>0.325</td>\n",
       "      <td>0.110</td>\n",
       "      <td>0.3260</td>\n",
       "      <td>0.1325</td>\n",
       "      <td>0.0750</td>\n",
       "      <td>0.1010</td>\n",
       "    </tr>\n",
       "  </tbody>\n",
       "</table>\n",
       "<p>3134 rows × 7 columns</p>\n",
       "</div>"
      ],
      "text/plain": [
       "      Length  Diameter  Height  Whole weight  Shucked weight  Viscera weight  \\\n",
       "2788   0.615     0.460   0.150        1.0265          0.4935          0.2010   \n",
       "1752   0.710     0.560   0.220        2.0150          0.9215          0.4540   \n",
       "2224   0.550     0.425   0.145        0.7970          0.2970          0.1500   \n",
       "3389   0.565     0.465   0.150        1.1285          0.3770          0.3525   \n",
       "3851   0.560     0.440   0.130        0.8255          0.2425          0.2020   \n",
       "...      ...       ...     ...           ...             ...             ...   \n",
       "1033   0.650     0.525   0.185        1.6220          0.6645          0.3225   \n",
       "3264   0.655     0.500   0.140        1.1705          0.5405          0.3175   \n",
       "1653   0.595     0.450   0.145        0.9590          0.4630          0.2065   \n",
       "2607   0.625     0.490   0.165        1.1270          0.4770          0.2365   \n",
       "2732   0.410     0.325   0.110        0.3260          0.1325          0.0750   \n",
       "\n",
       "      Shell weight  \n",
       "2788        0.2745  \n",
       "1752        0.5660  \n",
       "2224        0.2650  \n",
       "3389        0.3300  \n",
       "3851        0.2850  \n",
       "...            ...  \n",
       "1033        0.4770  \n",
       "3264        0.2850  \n",
       "1653        0.2535  \n",
       "2607        0.3185  \n",
       "2732        0.1010  \n",
       "\n",
       "[3134 rows x 7 columns]"
      ]
     },
     "execution_count": 128,
     "metadata": {},
     "output_type": "execute_result"
    }
   ],
   "source": [
    "from sklearn.model_selection import train_test_split\n",
    "\n",
    "X_ring_train, X_ring_test, y_ring_train, y_ring_test = train_test_split(X_ring, y_ring, test_size=0.25, random_state=0)\n",
    "# random_state는 데이터를 무작위로 나누거나 섞을 때 사용되는 난수 발생기의 시드(seed) 값\n",
    "X_ring_train"
   ]
  },
  {
   "cell_type": "code",
   "execution_count": 130,
   "id": "8c23dd65-9d1e-42e2-b49a-22a936d76a12",
   "metadata": {},
   "outputs": [],
   "source": [
    "# Scale X\n",
    "scaler = StandardScaler()\n",
    "scaler.fit(X_ring_train)\n",
    "X_ring_train = pd.DataFrame(scaler.transform(X_ring_train), columns=X_ring.columns)\n",
    "X_ring_test = pd.DataFrame(scaler.transform(X_ring_test), columns=X_ring.columns)"
   ]
  },
  {
   "cell_type": "code",
   "execution_count": 131,
   "id": "9a0ac168-8d18-4413-81db-2f377679eb2a",
   "metadata": {},
   "outputs": [
    {
     "data": {
      "text/html": [
       "<div>\n",
       "<style scoped>\n",
       "    .dataframe tbody tr th:only-of-type {\n",
       "        vertical-align: middle;\n",
       "    }\n",
       "\n",
       "    .dataframe tbody tr th {\n",
       "        vertical-align: top;\n",
       "    }\n",
       "\n",
       "    .dataframe thead th {\n",
       "        text-align: right;\n",
       "    }\n",
       "</style>\n",
       "<table border=\"1\" class=\"dataframe\">\n",
       "  <thead>\n",
       "    <tr style=\"text-align: right;\">\n",
       "      <th></th>\n",
       "      <th>Length</th>\n",
       "      <th>Diameter</th>\n",
       "      <th>Height</th>\n",
       "      <th>Whole weight</th>\n",
       "      <th>Shucked weight</th>\n",
       "      <th>Viscera weight</th>\n",
       "      <th>Shell weight</th>\n",
       "    </tr>\n",
       "  </thead>\n",
       "  <tbody>\n",
       "    <tr>\n",
       "      <th>0</th>\n",
       "      <td>0.732948</td>\n",
       "      <td>0.501811</td>\n",
       "      <td>0.221653</td>\n",
       "      <td>0.370960</td>\n",
       "      <td>0.571376</td>\n",
       "      <td>0.156254</td>\n",
       "      <td>0.229588</td>\n",
       "    </tr>\n",
       "    <tr>\n",
       "      <th>1</th>\n",
       "      <td>1.524491</td>\n",
       "      <td>1.512691</td>\n",
       "      <td>1.850403</td>\n",
       "      <td>2.376329</td>\n",
       "      <td>2.487103</td>\n",
       "      <td>2.442738</td>\n",
       "      <td>2.324811</td>\n",
       "    </tr>\n",
       "    <tr>\n",
       "      <th>2</th>\n",
       "      <td>0.191366</td>\n",
       "      <td>0.148003</td>\n",
       "      <td>0.105314</td>\n",
       "      <td>-0.094626</td>\n",
       "      <td>-0.308158</td>\n",
       "      <td>-0.304658</td>\n",
       "      <td>0.161304</td>\n",
       "    </tr>\n",
       "    <tr>\n",
       "      <th>3</th>\n",
       "      <td>0.316346</td>\n",
       "      <td>0.552355</td>\n",
       "      <td>0.221653</td>\n",
       "      <td>0.577887</td>\n",
       "      <td>0.049922</td>\n",
       "      <td>1.525433</td>\n",
       "      <td>0.628507</td>\n",
       "    </tr>\n",
       "    <tr>\n",
       "      <th>4</th>\n",
       "      <td>0.274686</td>\n",
       "      <td>0.299635</td>\n",
       "      <td>-0.243704</td>\n",
       "      <td>-0.036809</td>\n",
       "      <td>-0.552099</td>\n",
       "      <td>0.165292</td>\n",
       "      <td>0.305059</td>\n",
       "    </tr>\n",
       "    <tr>\n",
       "      <th>...</th>\n",
       "      <td>...</td>\n",
       "      <td>...</td>\n",
       "      <td>...</td>\n",
       "      <td>...</td>\n",
       "      <td>...</td>\n",
       "      <td>...</td>\n",
       "      <td>...</td>\n",
       "    </tr>\n",
       "    <tr>\n",
       "      <th>3129</th>\n",
       "      <td>1.024569</td>\n",
       "      <td>1.158883</td>\n",
       "      <td>1.036028</td>\n",
       "      <td>1.579051</td>\n",
       "      <td>1.336771</td>\n",
       "      <td>1.254309</td>\n",
       "      <td>1.685103</td>\n",
       "    </tr>\n",
       "    <tr>\n",
       "      <th>3130</th>\n",
       "      <td>1.066229</td>\n",
       "      <td>0.906163</td>\n",
       "      <td>-0.011025</td>\n",
       "      <td>0.663093</td>\n",
       "      <td>0.781748</td>\n",
       "      <td>1.209121</td>\n",
       "      <td>0.305059</td>\n",
       "    </tr>\n",
       "    <tr>\n",
       "      <th>3131</th>\n",
       "      <td>0.566307</td>\n",
       "      <td>0.400723</td>\n",
       "      <td>0.105314</td>\n",
       "      <td>0.234023</td>\n",
       "      <td>0.434858</td>\n",
       "      <td>0.205960</td>\n",
       "      <td>0.078645</td>\n",
       "    </tr>\n",
       "    <tr>\n",
       "      <th>3132</th>\n",
       "      <td>0.816268</td>\n",
       "      <td>0.805075</td>\n",
       "      <td>0.570671</td>\n",
       "      <td>0.574844</td>\n",
       "      <td>0.497522</td>\n",
       "      <td>0.477085</td>\n",
       "      <td>0.545848</td>\n",
       "    </tr>\n",
       "    <tr>\n",
       "      <th>3133</th>\n",
       "      <td>-0.975119</td>\n",
       "      <td>-0.862877</td>\n",
       "      <td>-0.709061</td>\n",
       "      <td>-1.050144</td>\n",
       "      <td>-1.044459</td>\n",
       "      <td>-0.982469</td>\n",
       "      <td>-1.017484</td>\n",
       "    </tr>\n",
       "  </tbody>\n",
       "</table>\n",
       "<p>3134 rows × 7 columns</p>\n",
       "</div>"
      ],
      "text/plain": [
       "        Length  Diameter    Height  Whole weight  Shucked weight  \\\n",
       "0     0.732948  0.501811  0.221653      0.370960        0.571376   \n",
       "1     1.524491  1.512691  1.850403      2.376329        2.487103   \n",
       "2     0.191366  0.148003  0.105314     -0.094626       -0.308158   \n",
       "3     0.316346  0.552355  0.221653      0.577887        0.049922   \n",
       "4     0.274686  0.299635 -0.243704     -0.036809       -0.552099   \n",
       "...        ...       ...       ...           ...             ...   \n",
       "3129  1.024569  1.158883  1.036028      1.579051        1.336771   \n",
       "3130  1.066229  0.906163 -0.011025      0.663093        0.781748   \n",
       "3131  0.566307  0.400723  0.105314      0.234023        0.434858   \n",
       "3132  0.816268  0.805075  0.570671      0.574844        0.497522   \n",
       "3133 -0.975119 -0.862877 -0.709061     -1.050144       -1.044459   \n",
       "\n",
       "      Viscera weight  Shell weight  \n",
       "0           0.156254      0.229588  \n",
       "1           2.442738      2.324811  \n",
       "2          -0.304658      0.161304  \n",
       "3           1.525433      0.628507  \n",
       "4           0.165292      0.305059  \n",
       "...              ...           ...  \n",
       "3129        1.254309      1.685103  \n",
       "3130        1.209121      0.305059  \n",
       "3131        0.205960      0.078645  \n",
       "3132        0.477085      0.545848  \n",
       "3133       -0.982469     -1.017484  \n",
       "\n",
       "[3134 rows x 7 columns]"
      ]
     },
     "execution_count": 131,
     "metadata": {},
     "output_type": "execute_result"
    }
   ],
   "source": [
    "X_ring_train"
   ]
  },
  {
   "cell_type": "code",
   "execution_count": 132,
   "id": "2381ea49-68fb-4cf8-8beb-6d764fbf7103",
   "metadata": {},
   "outputs": [
    {
     "data": {
      "text/plain": [
       "array([[0, 0, 1],\n",
       "       [0, 0, 1],\n",
       "       [1, 0, 0],\n",
       "       ...,\n",
       "       [0, 1, 0],\n",
       "       [1, 0, 0],\n",
       "       [0, 1, 0]], dtype=uint8)"
      ]
     },
     "execution_count": 132,
     "metadata": {},
     "output_type": "execute_result"
    }
   ],
   "source": [
    "y_ring_test"
   ]
  },
  {
   "cell_type": "code",
   "execution_count": 133,
   "id": "ffa7c074-81f8-4f47-aaf8-a2cf20fe0025",
   "metadata": {},
   "outputs": [],
   "source": [
    "def split_sequences(sequences, n_steps):\n",
    "    X, y = list(), list()\n",
    "    for i in range(len(sequences)):\n",
    "        # find the end of this pattern\n",
    "        end_ix = i + n_steps\n",
    "        # check if we are beyond the dataset\n",
    "        if end_ix > len(sequences):\n",
    "            break\n",
    "        # gather input and output parts of the pattern\n",
    "        seq_x, seq_y = sequences[i:end_ix, :7], sequences[end_ix-1, 7:]\n",
    "        X.append(seq_x)\n",
    "        y.append(seq_y)\n",
    "    return np.array(X), np.array(y)"
   ]
  },
  {
   "cell_type": "code",
   "execution_count": 134,
   "id": "7cfc78a2-4729-4769-b2eb-2cec97589598",
   "metadata": {},
   "outputs": [
    {
     "name": "stdout",
     "output_type": "stream",
     "text": [
      "[[ 1.19120934  1.05779512  0.68701044 ...  0.          0.\n",
      "   1.        ]\n",
      " [ 1.27452966  1.51269105  1.26870674 ...  0.          0.\n",
      "   1.        ]\n",
      " [-1.51670092 -1.57049248 -1.05807848 ...  1.          0.\n",
      "   0.        ]\n",
      " ...\n",
      " [ 0.27468587  0.35017923  0.91968896 ...  0.          1.\n",
      "   0.        ]\n",
      " [-1.60002124 -1.62103647 -1.17441775 ...  1.          0.\n",
      "   0.        ]\n",
      " [ 0.4413265   0.50181121 -0.01102513 ...  0.          1.\n",
      "   0.        ]]\n"
     ]
    }
   ],
   "source": [
    "# Merge train and test X/y data to apply sequence transformation function\n",
    "y_ring_train_array = np.array(y_ring_train)\n",
    "# np.c_ : 배열을 열 방향으로 이어붙인다.\n",
    "ring_train_set = np.c_[X_ring_train, y_ring_train_array]\n",
    "\n",
    "y_ring_test_array = np.array(y_ring_test)\n",
    "ring_test_set = np.c_[X_ring_test, y_ring_test_array]\n",
    "\n",
    "# 7개의 features와 3개의 label이 합쳐진 train_set, test_set\n",
    "print(ring_test_set)"
   ]
  },
  {
   "cell_type": "code",
   "execution_count": 135,
   "id": "84381b0b-c77b-4727-a085-e904280cdef7",
   "metadata": {},
   "outputs": [
    {
     "name": "stdout",
     "output_type": "stream",
     "text": [
      "(3130, 5, 7) (3130, 3)\n",
      "(1041, 5, 7) (1041, 3)\n"
     ]
    }
   ],
   "source": [
    "# Apply sequence transformation using time step of 25 for both train and test data\n",
    "# All sensing modalities are recorded at a sampling rate of 50 Hz, which is considered sufficient for capturing human activity.\n",
    "\n",
    "X_ring_train, y_ring_train = split_sequences(ring_train_set, 5)\n",
    "print(X_ring_train.shape, y_ring_train.shape)\n",
    "\n",
    "X_ring_test, y_ring_test = split_sequences(ring_test_set, 5)\n",
    "print(X_ring_test.shape, y_ring_test.shape)   "
   ]
  },
  {
   "cell_type": "code",
   "execution_count": 136,
   "id": "cd541616-d0e2-49ce-ab0a-8a407e764e6a",
   "metadata": {},
   "outputs": [
    {
     "name": "stdout",
     "output_type": "stream",
     "text": [
      "5 7 3\n"
     ]
    }
   ],
   "source": [
    "# 각각 스텝 수, feature 수, label 수\n",
    "n_timesteps, n_features, n_outputs = X_ring_train.shape[1], X_ring_train.shape[2], y_ring_train.shape[1]\n",
    "print(n_timesteps, n_features, n_outputs)"
   ]
  },
  {
   "cell_type": "markdown",
   "id": "ce5e3dd9-7e6c-4ddb-8762-89bf439c3513",
   "metadata": {},
   "source": [
    "## 3. Make Dense Layer"
   ]
  },
  {
   "cell_type": "code",
   "execution_count": 137,
   "id": "0f835048-1c9d-48f2-95f7-14fe5129d540",
   "metadata": {},
   "outputs": [],
   "source": [
    "from keras.models import Sequential, Model\n",
    "from keras.layers import Dense, Input, Conv1D\n",
    "from keras.optimizers import Adam\n",
    "from tensorflow.keras import layers\n",
    "from keras.callbacks import EarlyStopping"
   ]
  },
  {
   "cell_type": "code",
   "execution_count": 146,
   "id": "32b6e1fb-2daa-45d1-9166-2162c48f3b36",
   "metadata": {},
   "outputs": [
    {
     "name": "stdout",
     "output_type": "stream",
     "text": [
      "Model: \"model_17\"\n",
      "_________________________________________________________________\n",
      " Layer (type)                Output Shape              Param #   \n",
      "=================================================================\n",
      " input_25 (InputLayer)       [(None, 5, 7)]            0         \n",
      "                                                                 \n",
      " conv1d_27 (Conv1D)          (None, 4, 64)             960       \n",
      "                                                                 \n",
      " dense_44 (Dense)            (None, 4, 128)            8320      \n",
      "                                                                 \n",
      " dropout_23 (Dropout)        (None, 4, 128)            0         \n",
      "                                                                 \n",
      " dense_45 (Dense)            (None, 4, 128)            16512     \n",
      "                                                                 \n",
      " flatten_19 (Flatten)        (None, 512)               0         \n",
      "                                                                 \n",
      " dense_46 (Dense)            (None, 3)                 1539      \n",
      "                                                                 \n",
      "=================================================================\n",
      "Total params: 27331 (106.76 KB)\n",
      "Trainable params: 27331 (106.76 KB)\n",
      "Non-trainable params: 0 (0.00 Byte)\n",
      "_________________________________________________________________\n"
     ]
    }
   ],
   "source": [
    "# Define the model architecture\n",
    "inputs = Input(shape=(n_timesteps, n_features,))\n",
    "\n",
    "x = Conv1D(64, 2, activation='relu')(inputs)\n",
    "x = Dense(128, activation='relu')(x)\n",
    "x = layers.Dropout(0.3)(x)\n",
    "x = Dense(128, activation='relu')(x)\n",
    "x = Flatten()(x)\n",
    "predictions = Dense(3, activation='softmax')(x)  # 클래스 수에 맞춰 수정\n",
    "\n",
    "# Create the model\n",
    "model = Model(inputs=inputs, outputs=predictions)\n",
    "\n",
    "# Compile the model with categorical_crossentropy\n",
    "model.compile(optimizer=Adam(), loss='categorical_crossentropy', metrics=['accuracy'])\n",
    "\n",
    "model.summary()"
   ]
  },
  {
   "cell_type": "code",
   "execution_count": 147,
   "id": "797368a5-5d34-4581-85ee-7257c2aa70b3",
   "metadata": {},
   "outputs": [
    {
     "name": "stdout",
     "output_type": "stream",
     "text": [
      "Epoch 1/50\n",
      "89/89 [==============================] - 1s 4ms/step - loss: 0.9126 - accuracy: 0.5307 - val_loss: 0.8474 - val_accuracy: 0.5559\n",
      "Epoch 2/50\n",
      "89/89 [==============================] - 0s 2ms/step - loss: 0.8397 - accuracy: 0.5811 - val_loss: 0.8164 - val_accuracy: 0.5719\n",
      "Epoch 3/50\n",
      "89/89 [==============================] - 0s 2ms/step - loss: 0.8140 - accuracy: 0.6180 - val_loss: 0.7949 - val_accuracy: 0.5879\n",
      "Epoch 4/50\n",
      "89/89 [==============================] - 0s 2ms/step - loss: 0.7865 - accuracy: 0.6152 - val_loss: 0.7629 - val_accuracy: 0.6038\n",
      "Epoch 5/50\n",
      "89/89 [==============================] - 0s 2ms/step - loss: 0.7623 - accuracy: 0.6372 - val_loss: 0.7530 - val_accuracy: 0.6422\n",
      "Epoch 6/50\n",
      "89/89 [==============================] - 0s 2ms/step - loss: 0.7610 - accuracy: 0.6425 - val_loss: 0.7425 - val_accuracy: 0.6486\n",
      "Epoch 7/50\n",
      "89/89 [==============================] - 0s 2ms/step - loss: 0.7523 - accuracy: 0.6535 - val_loss: 0.7470 - val_accuracy: 0.6422\n",
      "Epoch 8/50\n",
      "89/89 [==============================] - 0s 2ms/step - loss: 0.7397 - accuracy: 0.6606 - val_loss: 0.7360 - val_accuracy: 0.6486\n",
      "Epoch 9/50\n",
      "89/89 [==============================] - 0s 2ms/step - loss: 0.7396 - accuracy: 0.6581 - val_loss: 0.7420 - val_accuracy: 0.6390\n",
      "Epoch 10/50\n",
      "89/89 [==============================] - 0s 2ms/step - loss: 0.7340 - accuracy: 0.6621 - val_loss: 0.7342 - val_accuracy: 0.6358\n",
      "Epoch 11/50\n",
      "89/89 [==============================] - 0s 2ms/step - loss: 0.7340 - accuracy: 0.6567 - val_loss: 0.7364 - val_accuracy: 0.6486\n",
      "Epoch 12/50\n",
      "89/89 [==============================] - 0s 2ms/step - loss: 0.7201 - accuracy: 0.6638 - val_loss: 0.7328 - val_accuracy: 0.6454\n",
      "Epoch 13/50\n",
      "89/89 [==============================] - 0s 2ms/step - loss: 0.7280 - accuracy: 0.6702 - val_loss: 0.7297 - val_accuracy: 0.6454\n",
      "Epoch 14/50\n",
      "89/89 [==============================] - 0s 2ms/step - loss: 0.7260 - accuracy: 0.6706 - val_loss: 0.7510 - val_accuracy: 0.6294\n",
      "Epoch 15/50\n",
      "89/89 [==============================] - 0s 2ms/step - loss: 0.7188 - accuracy: 0.6716 - val_loss: 0.7283 - val_accuracy: 0.6486\n",
      "Epoch 16/50\n",
      "89/89 [==============================] - 0s 2ms/step - loss: 0.7134 - accuracy: 0.6688 - val_loss: 0.7577 - val_accuracy: 0.6102\n",
      "Epoch 17/50\n",
      "89/89 [==============================] - 0s 2ms/step - loss: 0.7103 - accuracy: 0.6748 - val_loss: 0.7549 - val_accuracy: 0.6102\n",
      "Epoch 18/50\n",
      "89/89 [==============================] - 0s 2ms/step - loss: 0.6992 - accuracy: 0.6826 - val_loss: 0.7570 - val_accuracy: 0.6326\n",
      "Epoch 19/50\n",
      "89/89 [==============================] - 0s 2ms/step - loss: 0.7076 - accuracy: 0.6763 - val_loss: 0.7666 - val_accuracy: 0.6134\n",
      "Epoch 20/50\n",
      "89/89 [==============================] - 0s 2ms/step - loss: 0.6987 - accuracy: 0.6763 - val_loss: 0.7455 - val_accuracy: 0.6230\n",
      "Epoch 21/50\n",
      "89/89 [==============================] - 0s 2ms/step - loss: 0.6917 - accuracy: 0.6865 - val_loss: 0.7433 - val_accuracy: 0.6326\n",
      "Epoch 22/50\n",
      "89/89 [==============================] - 0s 2ms/step - loss: 0.6853 - accuracy: 0.6805 - val_loss: 0.7567 - val_accuracy: 0.6326\n",
      "Epoch 23/50\n",
      "89/89 [==============================] - 0s 2ms/step - loss: 0.6808 - accuracy: 0.6936 - val_loss: 0.7605 - val_accuracy: 0.6070\n",
      "Epoch 24/50\n",
      "89/89 [==============================] - 0s 2ms/step - loss: 0.6746 - accuracy: 0.6958 - val_loss: 0.7700 - val_accuracy: 0.6262\n",
      "Epoch 25/50\n",
      "89/89 [==============================] - 0s 2ms/step - loss: 0.6716 - accuracy: 0.6968 - val_loss: 0.7561 - val_accuracy: 0.6422\n",
      "Epoch 26/50\n",
      "89/89 [==============================] - 0s 2ms/step - loss: 0.6935 - accuracy: 0.6862 - val_loss: 0.7557 - val_accuracy: 0.6294\n",
      "Epoch 27/50\n",
      "89/89 [==============================] - 0s 2ms/step - loss: 0.6592 - accuracy: 0.7004 - val_loss: 0.7806 - val_accuracy: 0.6422\n",
      "Epoch 28/50\n",
      "89/89 [==============================] - 0s 2ms/step - loss: 0.6767 - accuracy: 0.6951 - val_loss: 0.7384 - val_accuracy: 0.6677\n",
      "Epoch 29/50\n",
      "89/89 [==============================] - 0s 2ms/step - loss: 0.6634 - accuracy: 0.7018 - val_loss: 0.7437 - val_accuracy: 0.6613\n",
      "Epoch 30/50\n",
      "89/89 [==============================] - 0s 2ms/step - loss: 0.6596 - accuracy: 0.7110 - val_loss: 0.7420 - val_accuracy: 0.6486\n",
      "Epoch 31/50\n",
      "89/89 [==============================] - 0s 2ms/step - loss: 0.6577 - accuracy: 0.7114 - val_loss: 0.7761 - val_accuracy: 0.6294\n",
      "Epoch 32/50\n",
      "89/89 [==============================] - 0s 2ms/step - loss: 0.6530 - accuracy: 0.7022 - val_loss: 0.8024 - val_accuracy: 0.6070\n",
      "Epoch 33/50\n",
      "89/89 [==============================] - 0s 2ms/step - loss: 0.6672 - accuracy: 0.6972 - val_loss: 0.7800 - val_accuracy: 0.6230\n",
      "Epoch 34/50\n",
      "89/89 [==============================] - 0s 2ms/step - loss: 0.6368 - accuracy: 0.7235 - val_loss: 0.7535 - val_accuracy: 0.6454\n",
      "Epoch 35/50\n",
      "89/89 [==============================] - 0s 2ms/step - loss: 0.6423 - accuracy: 0.7142 - val_loss: 0.7582 - val_accuracy: 0.6358\n",
      "Epoch 36/50\n",
      "89/89 [==============================] - 0s 2ms/step - loss: 0.6374 - accuracy: 0.7118 - val_loss: 0.7754 - val_accuracy: 0.6262\n",
      "Epoch 37/50\n",
      "89/89 [==============================] - 0s 2ms/step - loss: 0.6199 - accuracy: 0.7309 - val_loss: 0.7531 - val_accuracy: 0.6613\n",
      "Epoch 38/50\n",
      "89/89 [==============================] - 0s 2ms/step - loss: 0.6234 - accuracy: 0.7295 - val_loss: 0.7729 - val_accuracy: 0.6518\n",
      "Epoch 39/50\n",
      "89/89 [==============================] - 0s 2ms/step - loss: 0.6181 - accuracy: 0.7291 - val_loss: 0.8114 - val_accuracy: 0.6262\n",
      "Epoch 40/50\n",
      "89/89 [==============================] - 0s 2ms/step - loss: 0.6024 - accuracy: 0.7391 - val_loss: 0.7723 - val_accuracy: 0.6550\n",
      "Epoch 41/50\n",
      "89/89 [==============================] - 0s 2ms/step - loss: 0.6013 - accuracy: 0.7327 - val_loss: 0.7928 - val_accuracy: 0.6486\n",
      "Epoch 42/50\n",
      "89/89 [==============================] - 0s 2ms/step - loss: 0.6121 - accuracy: 0.7242 - val_loss: 0.7951 - val_accuracy: 0.6262\n",
      "Epoch 43/50\n",
      "89/89 [==============================] - 0s 2ms/step - loss: 0.5874 - accuracy: 0.7377 - val_loss: 0.7996 - val_accuracy: 0.6230\n",
      "Epoch 44/50\n",
      "89/89 [==============================] - 0s 2ms/step - loss: 0.5816 - accuracy: 0.7469 - val_loss: 0.8027 - val_accuracy: 0.6518\n",
      "Epoch 45/50\n",
      "89/89 [==============================] - 0s 2ms/step - loss: 0.5932 - accuracy: 0.7472 - val_loss: 0.8348 - val_accuracy: 0.6038\n",
      "Epoch 46/50\n",
      "89/89 [==============================] - 0s 2ms/step - loss: 0.5891 - accuracy: 0.7334 - val_loss: 0.7899 - val_accuracy: 0.6486\n",
      "Epoch 47/50\n",
      "89/89 [==============================] - 0s 2ms/step - loss: 0.5713 - accuracy: 0.7583 - val_loss: 0.8025 - val_accuracy: 0.6518\n",
      "Epoch 48/50\n",
      "89/89 [==============================] - 0s 2ms/step - loss: 0.5749 - accuracy: 0.7462 - val_loss: 0.8208 - val_accuracy: 0.6486\n",
      "Epoch 49/50\n",
      "89/89 [==============================] - 0s 2ms/step - loss: 0.5858 - accuracy: 0.7380 - val_loss: 0.7962 - val_accuracy: 0.6326\n",
      "Epoch 50/50\n",
      "89/89 [==============================] - 0s 2ms/step - loss: 0.5613 - accuracy: 0.7643 - val_loss: 0.8053 - val_accuracy: 0.6486\n",
      "33/33 [==============================] - 0s 829us/step\n"
     ]
    }
   ],
   "source": [
    "model_history=model.fit(x=X_ring_train, y=y_ring_train, epochs=50, batch_size=32, validation_split = 0.1, shuffle = True)\n",
    "pred_DL = model.predict(X_ring_test)\n",
    "\n",
    "y_test_class = np.argmax(y_ring_test,axis=1) # 배열에서 최댓값을 가지는 원소의 인덱스를 반환하는 함수\n",
    "y_pred_class = np.argmax(pred_DL,axis=1)"
   ]
  },
  {
   "cell_type": "code",
   "execution_count": 148,
   "id": "e28ec4d0-3087-45c1-832b-13a8df2b8bda",
   "metadata": {},
   "outputs": [
    {
     "data": {
      "image/png": "[encoded data removed]",
      "text/plain": [
       "<Figure size 640x480 with 1 Axes>"
      ]
     },
     "metadata": {},
     "output_type": "display_data"
    }
   ],
   "source": [
    "import matplotlib.pyplot as plt\n",
    "import seaborn as sns\n",
    "\n",
    "# 훈련 손실(training loss)과 검증 손실(validation loss) 추출\n",
    "loss = model_history.history['loss']\n",
    "val_loss = model_history.history['val_loss']\n",
    "\n",
    "# 에포크(epoch) 범위 생성\n",
    "epochs = range(1, len(loss) + 1)\n",
    "\n",
    "# 훈련 손실(training loss)과 검증 손실(validation loss) 시각화\n",
    "plt.plot(epochs, loss, 'y', label='Training loss')  # 훈련 손실을 노란색(yellow)으로 플롯\n",
    "plt.plot(epochs, val_loss, 'r', label='Validation loss')  # 검증 손실을 빨간색(red)으로 플롯\n",
    "plt.title('Training and validation loss')  # 그래프 제목 설정\n",
    "plt.xlabel('Epochs')  # x축 레이블 설정\n",
    "plt.ylabel('Loss')  # y축 레이블 설정\n",
    "plt.legend()  # 범례(legend) 표시\n",
    "plt.show()  # 그래프 출력"
   ]
  },
  {
   "cell_type": "code",
   "execution_count": 149,
   "id": "fd09d179-8ef7-4497-9483-669ab10d17ed",
   "metadata": {},
   "outputs": [
    {
     "data": {
      "image/png": "[encoded data removed]",
      "text/plain": [
       "<Figure size 640x480 with 1 Axes>"
      ]
     },
     "metadata": {},
     "output_type": "display_data"
    }
   ],
   "source": [
    "acc =model_history.history['accuracy']\n",
    "val_acc =model_history.history['val_accuracy']\n",
    "plt.plot(epochs, acc, 'y', label='Training acc')\n",
    "plt.plot(epochs, val_acc, 'r', label='Validation acc')\n",
    "plt.title('Training and validation accuracy')\n",
    "plt.xlabel('Epochs')\n",
    "plt.ylabel('Accuracy')\n",
    "plt.legend()\n",
    "plt.show()"
   ]
  },
  {
   "cell_type": "code",
   "execution_count": 150,
   "id": "4852bb60-6d2d-495d-a5af-ea7c7aafb55f",
   "metadata": {},
   "outputs": [
    {
     "name": "stdout",
     "output_type": "stream",
     "text": [
      "              precision    recall  f1-score   support\n",
      "\n",
      "           0       0.76      0.74      0.75       387\n",
      "           1       0.45      0.44      0.45       297\n",
      "           2       0.65      0.68      0.67       357\n",
      "\n",
      "    accuracy                           0.63      1041\n",
      "   macro avg       0.62      0.62      0.62      1041\n",
      "weighted avg       0.63      0.63      0.63      1041\n",
      "\n",
      "[[287  77  23]\n",
      " [ 61 131 105]\n",
      " [ 32  82 243]]\n"
     ]
    }
   ],
   "source": [
    "from sklearn.metrics import accuracy_score, confusion_matrix, classification_report\n",
    "#Accuracy of the predicted values\n",
    "print(classification_report(y_test_class, y_pred_class))\n",
    "print(confusion_matrix(y_test_class, y_pred_class))"
   ]
  },
  {
   "cell_type": "markdown",
   "id": "5678ece7-c04d-45d7-ba03-d9649b0263a8",
   "metadata": {},
   "source": [
    "---"
   ]
  },
  {
   "cell_type": "markdown",
   "id": "3b9662ab-c4cf-438b-9de6-a2b714cd180c",
   "metadata": {},
   "source": [
    "## 4. Make Pre-trained model"
   ]
  },
  {
   "cell_type": "code",
   "execution_count": 151,
   "id": "603587ef-5c4a-44c9-90a9-1bcd45efca75",
   "metadata": {},
   "outputs": [
    {
     "name": "stdout",
     "output_type": "stream",
     "text": [
      "33/33 [==============================] - 0s 887us/step - loss: 0.8190 - accuracy: 0.6350\n",
      "model saved at  C:/Project/DeepLearning/Data/Abalone_model.h5\n",
      "Accuracy >63.496637\n",
      "Base Loss >0.82\n"
     ]
    },
    {
     "name": "stderr",
     "output_type": "stream",
     "text": [
      "C:\\Users\\Choij\\AppData\\Local\\Temp\\ipykernel_21408\\485659847.py:5: UserWarning: You are saving your model as an HDF5 file via `model.save()`. This file format is considered legacy. We recommend using instead the native Keras format, e.g. `model.save('my_model.keras')`.\n",
      "  tf.keras.models.save_model(model, model_file, include_optimizer=False)\n"
     ]
    }
   ],
   "source": [
    "base_loss,base_accuracy=model.evaluate(X_ring_test, y_ring_test)\n",
    "\n",
    "model_file='C:/Project/DeepLearning/Data/Abalone_model.h5'\n",
    "  \n",
    "tf.keras.models.save_model(model, model_file, include_optimizer=False)\n",
    "print('model saved at ', model_file)\n",
    "#score,keras_file=evaluate_model(trainX,trainy,testX,testy)\n",
    "score=base_accuracy*100\n",
    "print('Accuracy >{:f}'.format(score))\n",
    "print('Base Loss >{:.2f}'.format(base_loss))"
   ]
  },
  {
   "cell_type": "code",
   "execution_count": 152,
   "id": "5501c821-0c6a-49c2-9a4a-906d7a2d3009",
   "metadata": {},
   "outputs": [
    {
     "name": "stdout",
     "output_type": "stream",
     "text": [
      "WARNING:tensorflow:No training configuration found in the save file, so the model was *not* compiled. Compile it manually.\n"
     ]
    }
   ],
   "source": [
    "# Base 모델을 로드 (RA_Model.h5)\n",
    "from tensorflow.keras.models import load_model\n",
    "\n",
    "base_model = load_model(model_file)"
   ]
  },
  {
   "cell_type": "code",
   "execution_count": 153,
   "id": "4856493a-8174-4b6e-b64d-4613bb546137",
   "metadata": {},
   "outputs": [
    {
     "name": "stdout",
     "output_type": "stream",
     "text": [
      "Number of layers in the base model:  7\n"
     ]
    }
   ],
   "source": [
    "print(\"Number of layers in the base model: \", len(base_model.layers))"
   ]
  },
  {
   "cell_type": "markdown",
   "id": "ac2073b0-d80c-44ec-a51c-1f773698c151",
   "metadata": {},
   "source": [
    "---"
   ]
  },
  {
   "cell_type": "markdown",
   "id": "d009bb87-8d0b-4a03-a28c-e5dc4235574e",
   "metadata": {},
   "source": [
    "# Pre-trained model \n",
    "## abalone sex classification"
   ]
  },
  {
   "cell_type": "markdown",
   "id": "0fc11542-5224-4868-9df7-76a82ef478d1",
   "metadata": {},
   "source": [
    "만들어진 Pre-trained model로 이번에는 abalone의 성별을 예측하는 모델로 전이학습을 진행해보자."
   ]
  },
  {
   "cell_type": "markdown",
   "id": "8042d536-75bb-4c32-af39-c8ac324c5126",
   "metadata": {},
   "source": [
    "## 1. Data Load"
   ]
  },
  {
   "cell_type": "code",
   "execution_count": 154,
   "id": "5b7e79f9-efb1-41e9-a31d-d07dc830164e",
   "metadata": {},
   "outputs": [
    {
     "data": {
      "text/html": [
       "<div>\n",
       "<style scoped>\n",
       "    .dataframe tbody tr th:only-of-type {\n",
       "        vertical-align: middle;\n",
       "    }\n",
       "\n",
       "    .dataframe tbody tr th {\n",
       "        vertical-align: top;\n",
       "    }\n",
       "\n",
       "    .dataframe thead th {\n",
       "        text-align: right;\n",
       "    }\n",
       "</style>\n",
       "<table border=\"1\" class=\"dataframe\">\n",
       "  <thead>\n",
       "    <tr style=\"text-align: right;\">\n",
       "      <th></th>\n",
       "      <th>Sex</th>\n",
       "      <th>Length</th>\n",
       "      <th>Diameter</th>\n",
       "      <th>Height</th>\n",
       "      <th>Whole weight</th>\n",
       "      <th>Shucked weight</th>\n",
       "      <th>Viscera weight</th>\n",
       "      <th>Shell weight</th>\n",
       "      <th>Rings</th>\n",
       "      <th>Age</th>\n",
       "    </tr>\n",
       "  </thead>\n",
       "  <tbody>\n",
       "    <tr>\n",
       "      <th>0</th>\n",
       "      <td>2</td>\n",
       "      <td>0.455</td>\n",
       "      <td>0.365</td>\n",
       "      <td>0.095</td>\n",
       "      <td>0.5140</td>\n",
       "      <td>0.2245</td>\n",
       "      <td>0.1010</td>\n",
       "      <td>0.1500</td>\n",
       "      <td>15</td>\n",
       "      <td>16.5</td>\n",
       "    </tr>\n",
       "    <tr>\n",
       "      <th>1</th>\n",
       "      <td>2</td>\n",
       "      <td>0.350</td>\n",
       "      <td>0.265</td>\n",
       "      <td>0.090</td>\n",
       "      <td>0.2255</td>\n",
       "      <td>0.0995</td>\n",
       "      <td>0.0485</td>\n",
       "      <td>0.0700</td>\n",
       "      <td>7</td>\n",
       "      <td>8.5</td>\n",
       "    </tr>\n",
       "    <tr>\n",
       "      <th>2</th>\n",
       "      <td>0</td>\n",
       "      <td>0.530</td>\n",
       "      <td>0.420</td>\n",
       "      <td>0.135</td>\n",
       "      <td>0.6770</td>\n",
       "      <td>0.2565</td>\n",
       "      <td>0.1415</td>\n",
       "      <td>0.2100</td>\n",
       "      <td>9</td>\n",
       "      <td>10.5</td>\n",
       "    </tr>\n",
       "    <tr>\n",
       "      <th>3</th>\n",
       "      <td>2</td>\n",
       "      <td>0.440</td>\n",
       "      <td>0.365</td>\n",
       "      <td>0.125</td>\n",
       "      <td>0.5160</td>\n",
       "      <td>0.2155</td>\n",
       "      <td>0.1140</td>\n",
       "      <td>0.1550</td>\n",
       "      <td>10</td>\n",
       "      <td>11.5</td>\n",
       "    </tr>\n",
       "    <tr>\n",
       "      <th>4</th>\n",
       "      <td>1</td>\n",
       "      <td>0.330</td>\n",
       "      <td>0.255</td>\n",
       "      <td>0.080</td>\n",
       "      <td>0.2050</td>\n",
       "      <td>0.0895</td>\n",
       "      <td>0.0395</td>\n",
       "      <td>0.0550</td>\n",
       "      <td>7</td>\n",
       "      <td>8.5</td>\n",
       "    </tr>\n",
       "    <tr>\n",
       "      <th>...</th>\n",
       "      <td>...</td>\n",
       "      <td>...</td>\n",
       "      <td>...</td>\n",
       "      <td>...</td>\n",
       "      <td>...</td>\n",
       "      <td>...</td>\n",
       "      <td>...</td>\n",
       "      <td>...</td>\n",
       "      <td>...</td>\n",
       "      <td>...</td>\n",
       "    </tr>\n",
       "    <tr>\n",
       "      <th>4174</th>\n",
       "      <td>2</td>\n",
       "      <td>0.600</td>\n",
       "      <td>0.475</td>\n",
       "      <td>0.205</td>\n",
       "      <td>1.1760</td>\n",
       "      <td>0.5255</td>\n",
       "      <td>0.2875</td>\n",
       "      <td>0.3080</td>\n",
       "      <td>9</td>\n",
       "      <td>10.5</td>\n",
       "    </tr>\n",
       "    <tr>\n",
       "      <th>4175</th>\n",
       "      <td>0</td>\n",
       "      <td>0.625</td>\n",
       "      <td>0.485</td>\n",
       "      <td>0.150</td>\n",
       "      <td>1.0945</td>\n",
       "      <td>0.5310</td>\n",
       "      <td>0.2610</td>\n",
       "      <td>0.2960</td>\n",
       "      <td>10</td>\n",
       "      <td>11.5</td>\n",
       "    </tr>\n",
       "    <tr>\n",
       "      <th>4176</th>\n",
       "      <td>2</td>\n",
       "      <td>0.710</td>\n",
       "      <td>0.555</td>\n",
       "      <td>0.195</td>\n",
       "      <td>1.9485</td>\n",
       "      <td>0.9455</td>\n",
       "      <td>0.3765</td>\n",
       "      <td>0.4950</td>\n",
       "      <td>12</td>\n",
       "      <td>13.5</td>\n",
       "    </tr>\n",
       "    <tr>\n",
       "      <th>4177</th>\n",
       "      <td>1</td>\n",
       "      <td>0.075</td>\n",
       "      <td>0.055</td>\n",
       "      <td>0.010</td>\n",
       "      <td>0.0020</td>\n",
       "      <td>0.0010</td>\n",
       "      <td>0.0005</td>\n",
       "      <td>0.0015</td>\n",
       "      <td>0</td>\n",
       "      <td>1.5</td>\n",
       "    </tr>\n",
       "    <tr>\n",
       "      <th>4178</th>\n",
       "      <td>0</td>\n",
       "      <td>0.700</td>\n",
       "      <td>0.585</td>\n",
       "      <td>0.185</td>\n",
       "      <td>1.8075</td>\n",
       "      <td>0.7055</td>\n",
       "      <td>0.3215</td>\n",
       "      <td>0.4750</td>\n",
       "      <td>28</td>\n",
       "      <td>29.5</td>\n",
       "    </tr>\n",
       "  </tbody>\n",
       "</table>\n",
       "<p>4179 rows × 10 columns</p>\n",
       "</div>"
      ],
      "text/plain": [
       "      Sex  Length  Diameter  Height  Whole weight  Shucked weight  \\\n",
       "0       2   0.455     0.365   0.095        0.5140          0.2245   \n",
       "1       2   0.350     0.265   0.090        0.2255          0.0995   \n",
       "2       0   0.530     0.420   0.135        0.6770          0.2565   \n",
       "3       2   0.440     0.365   0.125        0.5160          0.2155   \n",
       "4       1   0.330     0.255   0.080        0.2050          0.0895   \n",
       "...   ...     ...       ...     ...           ...             ...   \n",
       "4174    2   0.600     0.475   0.205        1.1760          0.5255   \n",
       "4175    0   0.625     0.485   0.150        1.0945          0.5310   \n",
       "4176    2   0.710     0.555   0.195        1.9485          0.9455   \n",
       "4177    1   0.075     0.055   0.010        0.0020          0.0010   \n",
       "4178    0   0.700     0.585   0.185        1.8075          0.7055   \n",
       "\n",
       "      Viscera weight  Shell weight  Rings   Age  \n",
       "0             0.1010        0.1500     15  16.5  \n",
       "1             0.0485        0.0700      7   8.5  \n",
       "2             0.1415        0.2100      9  10.5  \n",
       "3             0.1140        0.1550     10  11.5  \n",
       "4             0.0395        0.0550      7   8.5  \n",
       "...              ...           ...    ...   ...  \n",
       "4174          0.2875        0.3080      9  10.5  \n",
       "4175          0.2610        0.2960     10  11.5  \n",
       "4176          0.3765        0.4950     12  13.5  \n",
       "4177          0.0005        0.0015      0   1.5  \n",
       "4178          0.3215        0.4750     28  29.5  \n",
       "\n",
       "[4179 rows x 10 columns]"
      ]
     },
     "execution_count": 154,
     "metadata": {},
     "output_type": "execute_result"
    }
   ],
   "source": [
    "df"
   ]
  },
  {
   "cell_type": "code",
   "execution_count": 155,
   "id": "e8bad5c9-e41f-40e7-ad81-edc54cc8ee1a",
   "metadata": {},
   "outputs": [
    {
     "data": {
      "text/html": [
       "<div>\n",
       "<style scoped>\n",
       "    .dataframe tbody tr th:only-of-type {\n",
       "        vertical-align: middle;\n",
       "    }\n",
       "\n",
       "    .dataframe tbody tr th {\n",
       "        vertical-align: top;\n",
       "    }\n",
       "\n",
       "    .dataframe thead th {\n",
       "        text-align: right;\n",
       "    }\n",
       "</style>\n",
       "<table border=\"1\" class=\"dataframe\">\n",
       "  <thead>\n",
       "    <tr style=\"text-align: right;\">\n",
       "      <th></th>\n",
       "      <th>Length</th>\n",
       "      <th>Diameter</th>\n",
       "      <th>Height</th>\n",
       "      <th>Whole weight</th>\n",
       "      <th>Shucked weight</th>\n",
       "      <th>Viscera weight</th>\n",
       "      <th>Shell weight</th>\n",
       "    </tr>\n",
       "  </thead>\n",
       "  <tbody>\n",
       "    <tr>\n",
       "      <th>0</th>\n",
       "      <td>0.455</td>\n",
       "      <td>0.365</td>\n",
       "      <td>0.095</td>\n",
       "      <td>0.5140</td>\n",
       "      <td>0.2245</td>\n",
       "      <td>0.1010</td>\n",
       "      <td>0.150</td>\n",
       "    </tr>\n",
       "    <tr>\n",
       "      <th>1</th>\n",
       "      <td>0.350</td>\n",
       "      <td>0.265</td>\n",
       "      <td>0.090</td>\n",
       "      <td>0.2255</td>\n",
       "      <td>0.0995</td>\n",
       "      <td>0.0485</td>\n",
       "      <td>0.070</td>\n",
       "    </tr>\n",
       "    <tr>\n",
       "      <th>2</th>\n",
       "      <td>0.530</td>\n",
       "      <td>0.420</td>\n",
       "      <td>0.135</td>\n",
       "      <td>0.6770</td>\n",
       "      <td>0.2565</td>\n",
       "      <td>0.1415</td>\n",
       "      <td>0.210</td>\n",
       "    </tr>\n",
       "    <tr>\n",
       "      <th>3</th>\n",
       "      <td>0.440</td>\n",
       "      <td>0.365</td>\n",
       "      <td>0.125</td>\n",
       "      <td>0.5160</td>\n",
       "      <td>0.2155</td>\n",
       "      <td>0.1140</td>\n",
       "      <td>0.155</td>\n",
       "    </tr>\n",
       "    <tr>\n",
       "      <th>4</th>\n",
       "      <td>0.330</td>\n",
       "      <td>0.255</td>\n",
       "      <td>0.080</td>\n",
       "      <td>0.2050</td>\n",
       "      <td>0.0895</td>\n",
       "      <td>0.0395</td>\n",
       "      <td>0.055</td>\n",
       "    </tr>\n",
       "  </tbody>\n",
       "</table>\n",
       "</div>"
      ],
      "text/plain": [
       "   Length  Diameter  Height  Whole weight  Shucked weight  Viscera weight  \\\n",
       "0   0.455     0.365   0.095        0.5140          0.2245          0.1010   \n",
       "1   0.350     0.265   0.090        0.2255          0.0995          0.0485   \n",
       "2   0.530     0.420   0.135        0.6770          0.2565          0.1415   \n",
       "3   0.440     0.365   0.125        0.5160          0.2155          0.1140   \n",
       "4   0.330     0.255   0.080        0.2050          0.0895          0.0395   \n",
       "\n",
       "   Shell weight  \n",
       "0         0.150  \n",
       "1         0.070  \n",
       "2         0.210  \n",
       "3         0.155  \n",
       "4         0.055  "
      ]
     },
     "execution_count": 155,
     "metadata": {},
     "output_type": "execute_result"
    }
   ],
   "source": [
    "X_sex=df.drop(['Sex', 'Age', 'Rings'], axis=1)\n",
    "\n",
    "X_sex.head()\n",
    "# head()는 첫 5행만 출력함."
   ]
  },
  {
   "cell_type": "code",
   "execution_count": 156,
   "id": "b8434ab4-46af-40c7-b66e-6b2aa2484109",
   "metadata": {},
   "outputs": [
    {
     "data": {
      "text/plain": [
       "0    1308\n",
       "1    1343\n",
       "2    1528\n",
       "Name: Sex, dtype: int64"
      ]
     },
     "execution_count": 156,
     "metadata": {},
     "output_type": "execute_result"
    }
   ],
   "source": [
    "y_sex = df['Sex']\n",
    "y_sex.value_counts().sort_index(ascending=True)"
   ]
  },
  {
   "cell_type": "code",
   "execution_count": 157,
   "id": "b648dee9-dc8d-4ab8-90e3-a8f59fb6ee44",
   "metadata": {},
   "outputs": [
    {
     "data": {
      "text/plain": [
       "array([[0, 0, 1],\n",
       "       [0, 0, 1],\n",
       "       [1, 0, 0],\n",
       "       ...,\n",
       "       [0, 0, 1],\n",
       "       [0, 1, 0],\n",
       "       [1, 0, 0]], dtype=uint8)"
      ]
     },
     "execution_count": 157,
     "metadata": {},
     "output_type": "execute_result"
    }
   ],
   "source": [
    "#one hot encoding 하기\n",
    "\n",
    "y_sex = pd.get_dummies(y_sex).values\n",
    "y_sex"
   ]
  },
  {
   "cell_type": "markdown",
   "id": "21ce0984-8703-4fed-8e00-5fb04a192573",
   "metadata": {},
   "source": [
    "## 2. Train Test Split "
   ]
  },
  {
   "cell_type": "code",
   "execution_count": 158,
   "id": "d5e08f9f-42a7-4c61-b1ff-8cd7e39be7f1",
   "metadata": {},
   "outputs": [
    {
     "data": {
      "text/html": [
       "<div>\n",
       "<style scoped>\n",
       "    .dataframe tbody tr th:only-of-type {\n",
       "        vertical-align: middle;\n",
       "    }\n",
       "\n",
       "    .dataframe tbody tr th {\n",
       "        vertical-align: top;\n",
       "    }\n",
       "\n",
       "    .dataframe thead th {\n",
       "        text-align: right;\n",
       "    }\n",
       "</style>\n",
       "<table border=\"1\" class=\"dataframe\">\n",
       "  <thead>\n",
       "    <tr style=\"text-align: right;\">\n",
       "      <th></th>\n",
       "      <th>Length</th>\n",
       "      <th>Diameter</th>\n",
       "      <th>Height</th>\n",
       "      <th>Whole weight</th>\n",
       "      <th>Shucked weight</th>\n",
       "      <th>Viscera weight</th>\n",
       "      <th>Shell weight</th>\n",
       "    </tr>\n",
       "  </thead>\n",
       "  <tbody>\n",
       "    <tr>\n",
       "      <th>2788</th>\n",
       "      <td>0.615</td>\n",
       "      <td>0.460</td>\n",
       "      <td>0.150</td>\n",
       "      <td>1.0265</td>\n",
       "      <td>0.4935</td>\n",
       "      <td>0.2010</td>\n",
       "      <td>0.2745</td>\n",
       "    </tr>\n",
       "    <tr>\n",
       "      <th>1752</th>\n",
       "      <td>0.710</td>\n",
       "      <td>0.560</td>\n",
       "      <td>0.220</td>\n",
       "      <td>2.0150</td>\n",
       "      <td>0.9215</td>\n",
       "      <td>0.4540</td>\n",
       "      <td>0.5660</td>\n",
       "    </tr>\n",
       "    <tr>\n",
       "      <th>2224</th>\n",
       "      <td>0.550</td>\n",
       "      <td>0.425</td>\n",
       "      <td>0.145</td>\n",
       "      <td>0.7970</td>\n",
       "      <td>0.2970</td>\n",
       "      <td>0.1500</td>\n",
       "      <td>0.2650</td>\n",
       "    </tr>\n",
       "    <tr>\n",
       "      <th>3389</th>\n",
       "      <td>0.565</td>\n",
       "      <td>0.465</td>\n",
       "      <td>0.150</td>\n",
       "      <td>1.1285</td>\n",
       "      <td>0.3770</td>\n",
       "      <td>0.3525</td>\n",
       "      <td>0.3300</td>\n",
       "    </tr>\n",
       "    <tr>\n",
       "      <th>3851</th>\n",
       "      <td>0.560</td>\n",
       "      <td>0.440</td>\n",
       "      <td>0.130</td>\n",
       "      <td>0.8255</td>\n",
       "      <td>0.2425</td>\n",
       "      <td>0.2020</td>\n",
       "      <td>0.2850</td>\n",
       "    </tr>\n",
       "    <tr>\n",
       "      <th>...</th>\n",
       "      <td>...</td>\n",
       "      <td>...</td>\n",
       "      <td>...</td>\n",
       "      <td>...</td>\n",
       "      <td>...</td>\n",
       "      <td>...</td>\n",
       "      <td>...</td>\n",
       "    </tr>\n",
       "    <tr>\n",
       "      <th>1033</th>\n",
       "      <td>0.650</td>\n",
       "      <td>0.525</td>\n",
       "      <td>0.185</td>\n",
       "      <td>1.6220</td>\n",
       "      <td>0.6645</td>\n",
       "      <td>0.3225</td>\n",
       "      <td>0.4770</td>\n",
       "    </tr>\n",
       "    <tr>\n",
       "      <th>3264</th>\n",
       "      <td>0.655</td>\n",
       "      <td>0.500</td>\n",
       "      <td>0.140</td>\n",
       "      <td>1.1705</td>\n",
       "      <td>0.5405</td>\n",
       "      <td>0.3175</td>\n",
       "      <td>0.2850</td>\n",
       "    </tr>\n",
       "    <tr>\n",
       "      <th>1653</th>\n",
       "      <td>0.595</td>\n",
       "      <td>0.450</td>\n",
       "      <td>0.145</td>\n",
       "      <td>0.9590</td>\n",
       "      <td>0.4630</td>\n",
       "      <td>0.2065</td>\n",
       "      <td>0.2535</td>\n",
       "    </tr>\n",
       "    <tr>\n",
       "      <th>2607</th>\n",
       "      <td>0.625</td>\n",
       "      <td>0.490</td>\n",
       "      <td>0.165</td>\n",
       "      <td>1.1270</td>\n",
       "      <td>0.4770</td>\n",
       "      <td>0.2365</td>\n",
       "      <td>0.3185</td>\n",
       "    </tr>\n",
       "    <tr>\n",
       "      <th>2732</th>\n",
       "      <td>0.410</td>\n",
       "      <td>0.325</td>\n",
       "      <td>0.110</td>\n",
       "      <td>0.3260</td>\n",
       "      <td>0.1325</td>\n",
       "      <td>0.0750</td>\n",
       "      <td>0.1010</td>\n",
       "    </tr>\n",
       "  </tbody>\n",
       "</table>\n",
       "<p>3134 rows × 7 columns</p>\n",
       "</div>"
      ],
      "text/plain": [
       "      Length  Diameter  Height  Whole weight  Shucked weight  Viscera weight  \\\n",
       "2788   0.615     0.460   0.150        1.0265          0.4935          0.2010   \n",
       "1752   0.710     0.560   0.220        2.0150          0.9215          0.4540   \n",
       "2224   0.550     0.425   0.145        0.7970          0.2970          0.1500   \n",
       "3389   0.565     0.465   0.150        1.1285          0.3770          0.3525   \n",
       "3851   0.560     0.440   0.130        0.8255          0.2425          0.2020   \n",
       "...      ...       ...     ...           ...             ...             ...   \n",
       "1033   0.650     0.525   0.185        1.6220          0.6645          0.3225   \n",
       "3264   0.655     0.500   0.140        1.1705          0.5405          0.3175   \n",
       "1653   0.595     0.450   0.145        0.9590          0.4630          0.2065   \n",
       "2607   0.625     0.490   0.165        1.1270          0.4770          0.2365   \n",
       "2732   0.410     0.325   0.110        0.3260          0.1325          0.0750   \n",
       "\n",
       "      Shell weight  \n",
       "2788        0.2745  \n",
       "1752        0.5660  \n",
       "2224        0.2650  \n",
       "3389        0.3300  \n",
       "3851        0.2850  \n",
       "...            ...  \n",
       "1033        0.4770  \n",
       "3264        0.2850  \n",
       "1653        0.2535  \n",
       "2607        0.3185  \n",
       "2732        0.1010  \n",
       "\n",
       "[3134 rows x 7 columns]"
      ]
     },
     "execution_count": 158,
     "metadata": {},
     "output_type": "execute_result"
    }
   ],
   "source": [
    "from sklearn.model_selection import train_test_split\n",
    "\n",
    "X_sex_train, X_sex_test, y_sex_train, y_sex_test = train_test_split(X_sex, y_sex, test_size=0.25, random_state=0)\n",
    "# random_state는 데이터를 무작위로 나누거나 섞을 때 사용되는 난수 발생기의 시드(seed) 값\n",
    "X_sex_train"
   ]
  },
  {
   "cell_type": "code",
   "execution_count": 162,
   "id": "d5b7f60c-3c49-4331-b2ee-5a7088ffee6a",
   "metadata": {},
   "outputs": [],
   "source": [
    "# Scale X\n",
    "scaler = StandardScaler()\n",
    "scaler.fit(X_sex_train)\n",
    "X_sex_train = pd.DataFrame(scaler.transform(X_sex_train), columns=X_sex.columns)\n",
    "X_sex_test = pd.DataFrame(scaler.transform(X_sex_test), columns=X_sex.columns)"
   ]
  },
  {
   "cell_type": "code",
   "execution_count": 163,
   "id": "388327a1-9265-4971-8d2f-4c104281bdeb",
   "metadata": {},
   "outputs": [
    {
     "data": {
      "text/plain": [
       "7"
      ]
     },
     "execution_count": 163,
     "metadata": {},
     "output_type": "execute_result"
    }
   ],
   "source": [
    "X_sex_test.shape[1]"
   ]
  },
  {
   "cell_type": "code",
   "execution_count": 164,
   "id": "20c0bc63-a49b-4983-8611-40badca2c354",
   "metadata": {},
   "outputs": [
    {
     "data": {
      "text/plain": [
       "3"
      ]
     },
     "execution_count": 164,
     "metadata": {},
     "output_type": "execute_result"
    }
   ],
   "source": [
    "y_sex_test.shape[1]"
   ]
  },
  {
   "cell_type": "code",
   "execution_count": 169,
   "id": "1e6dba19-fd16-4a21-b866-f8a457ec5ead",
   "metadata": {},
   "outputs": [
    {
     "name": "stdout",
     "output_type": "stream",
     "text": [
      "[[ 1.19120934  1.05779512  0.68701044 ...  1.          0.\n",
      "   0.        ]\n",
      " [ 1.27452966  1.51269105  1.26870674 ...  1.          0.\n",
      "   0.        ]\n",
      " [-1.51670092 -1.57049248 -1.05807848 ...  0.          1.\n",
      "   0.        ]\n",
      " ...\n",
      " [ 0.27468587  0.35017923  0.91968896 ...  1.          0.\n",
      "   0.        ]\n",
      " [-1.60002124 -1.62103647 -1.17441775 ...  0.          0.\n",
      "   1.        ]\n",
      " [ 0.4413265   0.50181121 -0.01102513 ...  0.          1.\n",
      "   0.        ]]\n"
     ]
    }
   ],
   "source": [
    "# Merge train and test X/y data to apply sequence transformation function\n",
    "y_sex_train_array = np.array(y_sex_train)\n",
    "# np.c_ : 배열을 열 방향으로 이어붙인다.\n",
    "sex_train_set = np.c_[X_sex_train, y_sex_train_array]\n",
    "\n",
    "y_sex_test_array = np.array(y_sex_test)\n",
    "sex_test_set = np.c_[X_sex_test, y_sex_test_array]\n",
    "\n",
    "# 7개의 features와 3개의 label이 합쳐진 train_set, test_set\n",
    "print(sex_test_set)"
   ]
  },
  {
   "cell_type": "code",
   "execution_count": 170,
   "id": "f7c44212-d448-4e19-a251-abe03b95fcff",
   "metadata": {},
   "outputs": [
    {
     "name": "stdout",
     "output_type": "stream",
     "text": [
      "(3130, 5, 7) (3130, 3)\n",
      "(1041, 5, 7) (1041, 3)\n"
     ]
    }
   ],
   "source": [
    "# Apply sequence transformation using time step of 25 for both train and test data\n",
    "# All sensing modalities are recorded at a sampling rate of 50 Hz, which is considered sufficient for capturing human activity.\n",
    "\n",
    "X_sex_train, y_sex_train = split_sequences(sex_train_set, 5)\n",
    "print(X_sex_train.shape, y_sex_train.shape)\n",
    "\n",
    "X_sex_test, y_sex_test = split_sequences(sex_test_set, 5)\n",
    "print(X_sex_test.shape, y_sex_test.shape)   "
   ]
  },
  {
   "cell_type": "markdown",
   "id": "bd67aa26-890d-4343-abf2-64396fb3b19c",
   "metadata": {},
   "source": [
    "## 3. Make Dense Layer"
   ]
  },
  {
   "cell_type": "code",
   "execution_count": 165,
   "id": "e8e64a68-116c-4045-88e8-e0cfba4c2391",
   "metadata": {},
   "outputs": [],
   "source": [
    "# 기존 모델의 층을 동결 (학습되지 않도록 설정)\n",
    "base_model.trainable = False"
   ]
  },
  {
   "cell_type": "code",
   "execution_count": 171,
   "id": "3632fb37-4d8a-4eb9-903b-fa00a41a8ed8",
   "metadata": {},
   "outputs": [
    {
     "name": "stdout",
     "output_type": "stream",
     "text": [
      "Model: \"sequential_5\"\n",
      "_________________________________________________________________\n",
      " Layer (type)                Output Shape              Param #   \n",
      "=================================================================\n",
      " conv1d_27 (Conv1D)          (None, 4, 64)             960       \n",
      "                                                                 \n",
      " dense_44 (Dense)            (None, 4, 128)            8320      \n",
      "                                                                 \n",
      " dropout_23 (Dropout)        (None, 4, 128)            0         \n",
      "                                                                 \n",
      " dense_45 (Dense)            (None, 4, 128)            16512     \n",
      "                                                                 \n",
      " flatten_19 (Flatten)        (None, 512)               0         \n",
      "                                                                 \n",
      " dense_50 (Dense)            (None, 3)                 1539      \n",
      "                                                                 \n",
      "=================================================================\n",
      "Total params: 27331 (106.76 KB)\n",
      "Trainable params: 1539 (6.01 KB)\n",
      "Non-trainable params: 25792 (100.75 KB)\n",
      "_________________________________________________________________\n"
     ]
    }
   ],
   "source": [
    "from tensorflow.keras.applications import VGG16\n",
    "from tensorflow.keras import layers, models\n",
    "\n",
    "def remove_last_layers(model, num_layers_to_remove):\n",
    "    # 모델의 레이어를 하나씩 슬라이스해서 앞의 레이어만 가져옴\n",
    "    model_layers = model.layers[:-num_layers_to_remove]  # 마지막 레이어부터 지정된 갯수만큼 제외\n",
    "    new_model = models.Sequential(model_layers)  # 새로운 모델에 해당 레이어들만 추가\n",
    "    return new_model\n",
    "\n",
    "\n",
    "# LA모델의 출력층부터 1개의 레이어를 삭제 -> 출력층을 RA에 맞게 변경한다 (전이학습)\n",
    "new_model = remove_last_layers(base_model, 1)\n",
    "\n",
    "# 새로운 출력층 추가\n",
    "new_model.add(layers.Dense(y_sex_test.shape[1], activation='softmax'))  # 예: 10개의 클래스\n",
    "new_model.compile(optimizer='adam', metrics=['accuracy'], loss='categorical_crossentropy')\n",
    "\n",
    "# 모델 요약 출력\n",
    "new_model.summary()"
   ]
  },
  {
   "cell_type": "code",
   "execution_count": 172,
   "id": "fd45d3e4-b94b-4aec-acb9-4e0d7a8f26de",
   "metadata": {},
   "outputs": [
    {
     "name": "stdout",
     "output_type": "stream",
     "text": [
      "Epoch 1/50\n",
      "89/89 [==============================] - 0s 2ms/step - loss: 1.1823 - accuracy: 0.4306 - val_loss: 0.9270 - val_accuracy: 0.4952\n",
      "Epoch 2/50\n",
      "89/89 [==============================] - 0s 2ms/step - loss: 0.9227 - accuracy: 0.5218 - val_loss: 0.8932 - val_accuracy: 0.5208\n",
      "Epoch 3/50\n",
      "89/89 [==============================] - 0s 2ms/step - loss: 0.8914 - accuracy: 0.5456 - val_loss: 0.8714 - val_accuracy: 0.5527\n",
      "Epoch 4/50\n",
      "89/89 [==============================] - 0s 2ms/step - loss: 0.8784 - accuracy: 0.5502 - val_loss: 0.8678 - val_accuracy: 0.5431\n",
      "Epoch 5/50\n",
      "89/89 [==============================] - 0s 2ms/step - loss: 0.8665 - accuracy: 0.5548 - val_loss: 0.8689 - val_accuracy: 0.5335\n",
      "Epoch 6/50\n",
      "89/89 [==============================] - 0s 2ms/step - loss: 0.8555 - accuracy: 0.5754 - val_loss: 0.8611 - val_accuracy: 0.5272\n",
      "Epoch 7/50\n",
      "89/89 [==============================] - 0s 2ms/step - loss: 0.8541 - accuracy: 0.5651 - val_loss: 0.8587 - val_accuracy: 0.5304\n",
      "Epoch 8/50\n",
      "89/89 [==============================] - 0s 2ms/step - loss: 0.8432 - accuracy: 0.5740 - val_loss: 0.8568 - val_accuracy: 0.5272\n",
      "Epoch 9/50\n",
      "89/89 [==============================] - 0s 2ms/step - loss: 0.8321 - accuracy: 0.5896 - val_loss: 0.8657 - val_accuracy: 0.5016\n",
      "Epoch 10/50\n",
      "89/89 [==============================] - 0s 2ms/step - loss: 0.8248 - accuracy: 0.5999 - val_loss: 0.8660 - val_accuracy: 0.4984\n",
      "Epoch 11/50\n",
      "89/89 [==============================] - 0s 2ms/step - loss: 0.8198 - accuracy: 0.5978 - val_loss: 0.8734 - val_accuracy: 0.4633\n",
      "Epoch 12/50\n",
      "89/89 [==============================] - 0s 2ms/step - loss: 0.8110 - accuracy: 0.5935 - val_loss: 0.8723 - val_accuracy: 0.5144\n",
      "Epoch 13/50\n",
      "89/89 [==============================] - 0s 2ms/step - loss: 0.8098 - accuracy: 0.6070 - val_loss: 0.8754 - val_accuracy: 0.4952\n",
      "Epoch 14/50\n",
      "89/89 [==============================] - 0s 2ms/step - loss: 0.8032 - accuracy: 0.6067 - val_loss: 0.8793 - val_accuracy: 0.4824\n",
      "Epoch 15/50\n",
      "89/89 [==============================] - 0s 2ms/step - loss: 0.7942 - accuracy: 0.6187 - val_loss: 0.8828 - val_accuracy: 0.4792\n",
      "Epoch 16/50\n",
      "89/89 [==============================] - 0s 2ms/step - loss: 0.8131 - accuracy: 0.6042 - val_loss: 0.9068 - val_accuracy: 0.4920\n",
      "Epoch 17/50\n",
      "89/89 [==============================] - 0s 2ms/step - loss: 0.7992 - accuracy: 0.6241 - val_loss: 0.9092 - val_accuracy: 0.4824\n",
      "Epoch 18/50\n",
      "89/89 [==============================] - 0s 2ms/step - loss: 0.7892 - accuracy: 0.6187 - val_loss: 0.9008 - val_accuracy: 0.5016\n",
      "Epoch 19/50\n",
      "89/89 [==============================] - 0s 2ms/step - loss: 0.7825 - accuracy: 0.6319 - val_loss: 0.8917 - val_accuracy: 0.4696\n",
      "Epoch 20/50\n",
      "89/89 [==============================] - 0s 2ms/step - loss: 0.7654 - accuracy: 0.6383 - val_loss: 0.9146 - val_accuracy: 0.4888\n",
      "Epoch 21/50\n",
      "89/89 [==============================] - 0s 2ms/step - loss: 0.7695 - accuracy: 0.6454 - val_loss: 0.9136 - val_accuracy: 0.4984\n",
      "Epoch 22/50\n",
      "89/89 [==============================] - 0s 2ms/step - loss: 0.7569 - accuracy: 0.6457 - val_loss: 0.8992 - val_accuracy: 0.5208\n",
      "Epoch 23/50\n",
      "89/89 [==============================] - 0s 2ms/step - loss: 0.7657 - accuracy: 0.6400 - val_loss: 0.9032 - val_accuracy: 0.5144\n",
      "Epoch 24/50\n",
      "89/89 [==============================] - 0s 2ms/step - loss: 0.7609 - accuracy: 0.6386 - val_loss: 0.9278 - val_accuracy: 0.4824\n",
      "Epoch 25/50\n",
      "89/89 [==============================] - 0s 2ms/step - loss: 0.7487 - accuracy: 0.6510 - val_loss: 0.9275 - val_accuracy: 0.4952\n",
      "Epoch 26/50\n",
      "89/89 [==============================] - 0s 2ms/step - loss: 0.7435 - accuracy: 0.6550 - val_loss: 0.9285 - val_accuracy: 0.4888\n",
      "Epoch 27/50\n",
      "89/89 [==============================] - 0s 2ms/step - loss: 0.7415 - accuracy: 0.6571 - val_loss: 0.9271 - val_accuracy: 0.5016\n",
      "Epoch 28/50\n",
      "89/89 [==============================] - 0s 2ms/step - loss: 0.7296 - accuracy: 0.6599 - val_loss: 0.9394 - val_accuracy: 0.4728\n",
      "Epoch 29/50\n",
      "89/89 [==============================] - 0s 2ms/step - loss: 0.7206 - accuracy: 0.6734 - val_loss: 0.9561 - val_accuracy: 0.5176\n",
      "Epoch 30/50\n",
      "89/89 [==============================] - 0s 2ms/step - loss: 0.7268 - accuracy: 0.6748 - val_loss: 0.9681 - val_accuracy: 0.5016\n",
      "Epoch 31/50\n",
      "89/89 [==============================] - 0s 2ms/step - loss: 0.7165 - accuracy: 0.6741 - val_loss: 0.9417 - val_accuracy: 0.4952\n",
      "Epoch 32/50\n",
      "89/89 [==============================] - 0s 2ms/step - loss: 0.7030 - accuracy: 0.6770 - val_loss: 0.9415 - val_accuracy: 0.4920\n",
      "Epoch 33/50\n",
      "89/89 [==============================] - 0s 2ms/step - loss: 0.7004 - accuracy: 0.6787 - val_loss: 0.9601 - val_accuracy: 0.4952\n",
      "Epoch 34/50\n",
      "89/89 [==============================] - 0s 2ms/step - loss: 0.6898 - accuracy: 0.6926 - val_loss: 0.9595 - val_accuracy: 0.4888\n",
      "Epoch 35/50\n",
      "89/89 [==============================] - 0s 2ms/step - loss: 0.6795 - accuracy: 0.6837 - val_loss: 0.9910 - val_accuracy: 0.4824\n",
      "Epoch 36/50\n",
      "89/89 [==============================] - 0s 2ms/step - loss: 0.6866 - accuracy: 0.6940 - val_loss: 0.9671 - val_accuracy: 0.5016\n",
      "Epoch 37/50\n",
      "89/89 [==============================] - 0s 2ms/step - loss: 0.6683 - accuracy: 0.6954 - val_loss: 0.9902 - val_accuracy: 0.4888\n",
      "Epoch 38/50\n",
      "89/89 [==============================] - 0s 2ms/step - loss: 0.6921 - accuracy: 0.6880 - val_loss: 0.9740 - val_accuracy: 0.5048\n",
      "Epoch 39/50\n",
      "89/89 [==============================] - 0s 2ms/step - loss: 0.6690 - accuracy: 0.6961 - val_loss: 0.9862 - val_accuracy: 0.4824\n",
      "Epoch 40/50\n",
      "89/89 [==============================] - 0s 2ms/step - loss: 0.6706 - accuracy: 0.6990 - val_loss: 1.0168 - val_accuracy: 0.4856\n",
      "Epoch 41/50\n",
      "89/89 [==============================] - 0s 2ms/step - loss: 0.6615 - accuracy: 0.7142 - val_loss: 1.0202 - val_accuracy: 0.5048\n",
      "Epoch 42/50\n",
      "89/89 [==============================] - 0s 2ms/step - loss: 0.6519 - accuracy: 0.7096 - val_loss: 1.0135 - val_accuracy: 0.5144\n",
      "Epoch 43/50\n",
      "89/89 [==============================] - 0s 2ms/step - loss: 0.6508 - accuracy: 0.7061 - val_loss: 1.0254 - val_accuracy: 0.4920\n",
      "Epoch 44/50\n",
      "89/89 [==============================] - 0s 2ms/step - loss: 0.6428 - accuracy: 0.7160 - val_loss: 1.0202 - val_accuracy: 0.4984\n",
      "Epoch 45/50\n",
      "89/89 [==============================] - 0s 2ms/step - loss: 0.6191 - accuracy: 0.7185 - val_loss: 1.0294 - val_accuracy: 0.5144\n",
      "Epoch 46/50\n",
      "89/89 [==============================] - 0s 2ms/step - loss: 0.6434 - accuracy: 0.7103 - val_loss: 1.0539 - val_accuracy: 0.4792\n",
      "Epoch 47/50\n",
      "89/89 [==============================] - 0s 2ms/step - loss: 0.6214 - accuracy: 0.7185 - val_loss: 1.0550 - val_accuracy: 0.4984\n",
      "Epoch 48/50\n",
      "89/89 [==============================] - 0s 2ms/step - loss: 0.6257 - accuracy: 0.7263 - val_loss: 1.0151 - val_accuracy: 0.5016\n",
      "Epoch 49/50\n",
      "89/89 [==============================] - 0s 2ms/step - loss: 0.5891 - accuracy: 0.7512 - val_loss: 1.0744 - val_accuracy: 0.5080\n",
      "Epoch 50/50\n",
      "89/89 [==============================] - 0s 2ms/step - loss: 0.6011 - accuracy: 0.7306 - val_loss: 1.0391 - val_accuracy: 0.4984\n",
      "33/33 [==============================] - 0s 812us/step\n"
     ]
    }
   ],
   "source": [
    "model_history=model.fit(x=X_sex_train, y=y_sex_train, epochs=50, batch_size=32, validation_split = 0.1, shuffle = True)\n",
    "pred_DL = model.predict(X_sex_test)\n",
    "\n",
    "y_test_class = np.argmax(y_sex_test,axis=1) # 배열에서 최댓값을 가지는 원소의 인덱스를 반환하는 함수\n",
    "y_pred_class = np.argmax(pred_DL,axis=1)"
   ]
  },
  {
   "cell_type": "markdown",
   "id": "9ca0e70c-3b17-4529-b086-34856dab13ca",
   "metadata": {},
   "source": [
    "---"
   ]
  },
  {
   "cell_type": "code",
   "execution_count": 173,
   "id": "0e2da362-f2ef-4271-bad6-cf7881e27dc2",
   "metadata": {},
   "outputs": [
    {
     "data": {
      "image/png": "[encoded data removed]",
      "text/plain": [
       "<Figure size 640x480 with 1 Axes>"
      ]
     },
     "metadata": {},
     "output_type": "display_data"
    }
   ],
   "source": [
    "import matplotlib.pyplot as plt\n",
    "import seaborn as sns\n",
    "\n",
    "# 훈련 손실(training loss)과 검증 손실(validation loss) 추출\n",
    "loss = model_history.history['loss']\n",
    "val_loss = model_history.history['val_loss']\n",
    "\n",
    "# 에포크(epoch) 범위 생성\n",
    "epochs = range(1, len(loss) + 1)\n",
    "\n",
    "# 훈련 손실(training loss)과 검증 손실(validation loss) 시각화\n",
    "plt.plot(epochs, loss, 'y', label='Training loss')  # 훈련 손실을 노란색(yellow)으로 플롯\n",
    "plt.plot(epochs, val_loss, 'r', label='Validation loss')  # 검증 손실을 빨간색(red)으로 플롯\n",
    "plt.title('Training and validation loss')  # 그래프 제목 설정\n",
    "plt.xlabel('Epochs')  # x축 레이블 설정\n",
    "plt.ylabel('Loss')  # y축 레이블 설정\n",
    "plt.legend()  # 범례(legend) 표시\n",
    "plt.show()  # 그래프 출력"
   ]
  },
  {
   "cell_type": "code",
   "execution_count": 174,
   "id": "7a7f4d16-6986-40cd-8043-5621c194bbe1",
   "metadata": {},
   "outputs": [
    {
     "data": {
      "image/png": "[encoded data removed]",
      "text/plain": [
       "<Figure size 640x480 with 1 Axes>"
      ]
     },
     "metadata": {},
     "output_type": "display_data"
    }
   ],
   "source": [
    "acc =model_history.history['accuracy']\n",
    "val_acc =model_history.history['val_accuracy']\n",
    "plt.plot(epochs, acc, 'y', label='Training acc')\n",
    "plt.plot(epochs, val_acc, 'r', label='Validation acc')\n",
    "plt.title('Training and validation accuracy')\n",
    "plt.xlabel('Epochs')\n",
    "plt.ylabel('Accuracy')\n",
    "plt.legend()\n",
    "plt.show()"
   ]
  },
  {
   "cell_type": "code",
   "execution_count": 175,
   "id": "6817e11a-d428-4091-bf94-3f07c58974d5",
   "metadata": {},
   "outputs": [
    {
     "name": "stdout",
     "output_type": "stream",
     "text": [
      "              precision    recall  f1-score   support\n",
      "\n",
      "           0       0.41      0.36      0.38       322\n",
      "           1       0.68      0.75      0.71       366\n",
      "           2       0.44      0.44      0.44       353\n",
      "\n",
      "    accuracy                           0.52      1041\n",
      "   macro avg       0.51      0.52      0.51      1041\n",
      "weighted avg       0.51      0.52      0.52      1041\n",
      "\n",
      "[[115  58 149]\n",
      " [ 40 275  51]\n",
      " [125  73 155]]\n"
     ]
    }
   ],
   "source": [
    "from sklearn.metrics import accuracy_score, confusion_matrix, classification_report\n",
    "#Accuracy of the predicted values\n",
    "print(classification_report(y_test_class, y_pred_class))\n",
    "print(confusion_matrix(y_test_class, y_pred_class))"
   ]
  },
  {
   "cell_type": "markdown",
   "id": "f54dbc12-6bb3-46b4-b5b3-d38eb2de9b2e",
   "metadata": {},
   "source": [
    "## 4. Evaluate the model"
   ]
  },
  {
   "cell_type": "code",
   "execution_count": 177,
   "id": "017c59cc-b540-4611-90c2-5a59173cfac7",
   "metadata": {},
   "outputs": [
    {
     "name": "stdout",
     "output_type": "stream",
     "text": [
      "98/98 [==============================] - 0s 836us/step - loss: 0.5511 - accuracy: 0.7824\n"
     ]
    },
    {
     "data": {
      "text/plain": [
       "[0.5510969161987305, 0.7824280858039856]"
      ]
     },
     "execution_count": 177,
     "metadata": {},
     "output_type": "execute_result"
    }
   ],
   "source": [
    "model.evaluate(X_sex_train, y_sex_train)"
   ]
  },
  {
   "cell_type": "markdown",
   "id": "98944df3-2853-490a-9bdd-852dbc1bc7ca",
   "metadata": {},
   "source": [
    "ring 예측과 마찬가지로 모델의 정확도가 높지 않게 나온다..\n",
    "\n",
    "한번 전이학습된 모델로 ring을 예측시켜보자."
   ]
  },
  {
   "cell_type": "code",
   "execution_count": 178,
   "id": "d8f91ac8-c9ab-413b-9674-35ffc9aded41",
   "metadata": {},
   "outputs": [
    {
     "name": "stdout",
     "output_type": "stream",
     "text": [
      "98/98 [==============================] - 0s 820us/step - loss: 2.2130 - accuracy: 0.2843\n"
     ]
    },
    {
     "data": {
      "text/plain": [
       "[2.212989568710327, 0.2843450605869293]"
      ]
     },
     "execution_count": 178,
     "metadata": {},
     "output_type": "execute_result"
    }
   ],
   "source": [
    "model.evaluate(X_ring_train, y_ring_train)"
   ]
  }
 ],
 "metadata": {
  "kernelspec": {
   "display_name": "Python 3 (ipykernel)",
   "language": "python",
   "name": "python3"
  },
  "language_info": {
   "codemirror_mode": {
    "name": "ipython",
    "version": 3
   },
   "file_extension": ".py",
   "mimetype": "text/x-python",
   "name": "python",
   "nbconvert_exporter": "python",
   "pygments_lexer": "ipython3",
   "version": "3.11.7"
  }
 },
 "nbformat": 4,
 "nbformat_minor": 5
}
