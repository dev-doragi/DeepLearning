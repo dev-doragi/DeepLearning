{
 "cells": [
  {
   "cell_type": "markdown",
   "id": "11f57a73-e886-4175-9894-92c324751187",
   "metadata": {},
   "source": [
    "# 4주차 Report"
   ]
  },
  {
   "cell_type": "markdown",
   "id": "7cc92178-3ba6-4ceb-a270-d3f63619e466",
   "metadata": {},
   "source": [
    "## 1. Data Load"
   ]
  },
  {
   "cell_type": "code",
   "execution_count": 1,
   "id": "6ef556b7-931f-4b43-af48-165c0578f006",
   "metadata": {},
   "outputs": [
    {
     "name": "stdout",
     "output_type": "stream",
     "text": [
      "WARNING:tensorflow:From C:\\Anaconda\\Lib\\site-packages\\keras\\src\\losses.py:2976: The name tf.losses.sparse_softmax_cross_entropy is deprecated. Please use tf.compat.v1.losses.sparse_softmax_cross_entropy instead.\n",
      "\n"
     ]
    }
   ],
   "source": [
    "import pandas as pd\n",
    "import numpy as np\n",
    "import matplotlib.pyplot as plt\n",
    "from sklearn.model_selection import train_test_split\n",
    "from sklearn.preprocessing import StandardScaler, LabelEncoder\n",
    "from sklearn.neighbors import KNeighborsClassifier\n",
    "import seaborn as sns\n",
    "import tensorflow as tf\n",
    "from tensorflow import keras"
   ]
  },
  {
   "cell_type": "code",
   "execution_count": 2,
   "id": "8bd9234d-d20c-411a-85e8-c86499ef592e",
   "metadata": {},
   "outputs": [
    {
     "data": {
      "text/html": [
       "<div>\n",
       "<style scoped>\n",
       "    .dataframe tbody tr th:only-of-type {\n",
       "        vertical-align: middle;\n",
       "    }\n",
       "\n",
       "    .dataframe tbody tr th {\n",
       "        vertical-align: top;\n",
       "    }\n",
       "\n",
       "    .dataframe thead th {\n",
       "        text-align: right;\n",
       "    }\n",
       "</style>\n",
       "<table border=\"1\" class=\"dataframe\">\n",
       "  <thead>\n",
       "    <tr style=\"text-align: right;\">\n",
       "      <th></th>\n",
       "      <th>Sex</th>\n",
       "      <th>Length</th>\n",
       "      <th>Diameter</th>\n",
       "      <th>Height</th>\n",
       "      <th>Whole weight</th>\n",
       "      <th>Shucked weight</th>\n",
       "      <th>Viscera weight</th>\n",
       "      <th>Shell weight</th>\n",
       "      <th>Rings</th>\n",
       "    </tr>\n",
       "    <tr>\n",
       "      <th>id</th>\n",
       "      <th></th>\n",
       "      <th></th>\n",
       "      <th></th>\n",
       "      <th></th>\n",
       "      <th></th>\n",
       "      <th></th>\n",
       "      <th></th>\n",
       "      <th></th>\n",
       "      <th></th>\n",
       "    </tr>\n",
       "  </thead>\n",
       "  <tbody>\n",
       "    <tr>\n",
       "      <th>0</th>\n",
       "      <td>M</td>\n",
       "      <td>0.455</td>\n",
       "      <td>0.365</td>\n",
       "      <td>0.095</td>\n",
       "      <td>0.5140</td>\n",
       "      <td>0.2245</td>\n",
       "      <td>0.1010</td>\n",
       "      <td>0.1500</td>\n",
       "      <td>15</td>\n",
       "    </tr>\n",
       "    <tr>\n",
       "      <th>1</th>\n",
       "      <td>M</td>\n",
       "      <td>0.350</td>\n",
       "      <td>0.265</td>\n",
       "      <td>0.090</td>\n",
       "      <td>0.2255</td>\n",
       "      <td>0.0995</td>\n",
       "      <td>0.0485</td>\n",
       "      <td>0.0700</td>\n",
       "      <td>7</td>\n",
       "    </tr>\n",
       "    <tr>\n",
       "      <th>2</th>\n",
       "      <td>F</td>\n",
       "      <td>0.530</td>\n",
       "      <td>0.420</td>\n",
       "      <td>0.135</td>\n",
       "      <td>0.6770</td>\n",
       "      <td>0.2565</td>\n",
       "      <td>0.1415</td>\n",
       "      <td>0.2100</td>\n",
       "      <td>9</td>\n",
       "    </tr>\n",
       "    <tr>\n",
       "      <th>3</th>\n",
       "      <td>M</td>\n",
       "      <td>0.440</td>\n",
       "      <td>0.365</td>\n",
       "      <td>0.125</td>\n",
       "      <td>0.5160</td>\n",
       "      <td>0.2155</td>\n",
       "      <td>0.1140</td>\n",
       "      <td>0.1550</td>\n",
       "      <td>10</td>\n",
       "    </tr>\n",
       "    <tr>\n",
       "      <th>4</th>\n",
       "      <td>I</td>\n",
       "      <td>0.330</td>\n",
       "      <td>0.255</td>\n",
       "      <td>0.080</td>\n",
       "      <td>0.2050</td>\n",
       "      <td>0.0895</td>\n",
       "      <td>0.0395</td>\n",
       "      <td>0.0550</td>\n",
       "      <td>7</td>\n",
       "    </tr>\n",
       "    <tr>\n",
       "      <th>...</th>\n",
       "      <td>...</td>\n",
       "      <td>...</td>\n",
       "      <td>...</td>\n",
       "      <td>...</td>\n",
       "      <td>...</td>\n",
       "      <td>...</td>\n",
       "      <td>...</td>\n",
       "      <td>...</td>\n",
       "      <td>...</td>\n",
       "    </tr>\n",
       "    <tr>\n",
       "      <th>4172</th>\n",
       "      <td>F</td>\n",
       "      <td>0.565</td>\n",
       "      <td>0.450</td>\n",
       "      <td>0.165</td>\n",
       "      <td>0.8870</td>\n",
       "      <td>0.3700</td>\n",
       "      <td>0.2390</td>\n",
       "      <td>0.2490</td>\n",
       "      <td>11</td>\n",
       "    </tr>\n",
       "    <tr>\n",
       "      <th>4173</th>\n",
       "      <td>M</td>\n",
       "      <td>0.590</td>\n",
       "      <td>0.440</td>\n",
       "      <td>0.135</td>\n",
       "      <td>0.9660</td>\n",
       "      <td>0.4390</td>\n",
       "      <td>0.2145</td>\n",
       "      <td>0.2605</td>\n",
       "      <td>10</td>\n",
       "    </tr>\n",
       "    <tr>\n",
       "      <th>4174</th>\n",
       "      <td>M</td>\n",
       "      <td>0.600</td>\n",
       "      <td>0.475</td>\n",
       "      <td>0.205</td>\n",
       "      <td>1.1760</td>\n",
       "      <td>0.5255</td>\n",
       "      <td>0.2875</td>\n",
       "      <td>0.3080</td>\n",
       "      <td>9</td>\n",
       "    </tr>\n",
       "    <tr>\n",
       "      <th>4175</th>\n",
       "      <td>F</td>\n",
       "      <td>0.625</td>\n",
       "      <td>0.485</td>\n",
       "      <td>0.150</td>\n",
       "      <td>1.0945</td>\n",
       "      <td>0.5310</td>\n",
       "      <td>0.2610</td>\n",
       "      <td>0.2960</td>\n",
       "      <td>10</td>\n",
       "    </tr>\n",
       "    <tr>\n",
       "      <th>4176</th>\n",
       "      <td>M</td>\n",
       "      <td>0.710</td>\n",
       "      <td>0.555</td>\n",
       "      <td>0.195</td>\n",
       "      <td>1.9485</td>\n",
       "      <td>0.9455</td>\n",
       "      <td>0.3765</td>\n",
       "      <td>0.4950</td>\n",
       "      <td>12</td>\n",
       "    </tr>\n",
       "  </tbody>\n",
       "</table>\n",
       "<p>4177 rows × 9 columns</p>\n",
       "</div>"
      ],
      "text/plain": [
       "     Sex  Length  Diameter  Height  Whole weight  Shucked weight  \\\n",
       "id                                                                 \n",
       "0      M   0.455     0.365   0.095        0.5140          0.2245   \n",
       "1      M   0.350     0.265   0.090        0.2255          0.0995   \n",
       "2      F   0.530     0.420   0.135        0.6770          0.2565   \n",
       "3      M   0.440     0.365   0.125        0.5160          0.2155   \n",
       "4      I   0.330     0.255   0.080        0.2050          0.0895   \n",
       "...   ..     ...       ...     ...           ...             ...   \n",
       "4172   F   0.565     0.450   0.165        0.8870          0.3700   \n",
       "4173   M   0.590     0.440   0.135        0.9660          0.4390   \n",
       "4174   M   0.600     0.475   0.205        1.1760          0.5255   \n",
       "4175   F   0.625     0.485   0.150        1.0945          0.5310   \n",
       "4176   M   0.710     0.555   0.195        1.9485          0.9455   \n",
       "\n",
       "      Viscera weight  Shell weight  Rings  \n",
       "id                                         \n",
       "0             0.1010        0.1500     15  \n",
       "1             0.0485        0.0700      7  \n",
       "2             0.1415        0.2100      9  \n",
       "3             0.1140        0.1550     10  \n",
       "4             0.0395        0.0550      7  \n",
       "...              ...           ...    ...  \n",
       "4172          0.2390        0.2490     11  \n",
       "4173          0.2145        0.2605     10  \n",
       "4174          0.2875        0.3080      9  \n",
       "4175          0.2610        0.2960     10  \n",
       "4176          0.3765        0.4950     12  \n",
       "\n",
       "[4177 rows x 9 columns]"
      ]
     },
     "execution_count": 2,
     "metadata": {},
     "output_type": "execute_result"
    }
   ],
   "source": [
    "df = pd.read_csv(\"C:/Project/DeepLearning/Data/abalone.csv\", index_col=0) # \\는 콜백문자 때문에 \\\\로 사용한다.\n",
    "df.columns = ['Sex', 'Length', 'Diameter', 'Height', 'Whole weight', 'Shucked weight', 'Viscera weight', 'Shell weight', 'Rings']\n",
    "df"
   ]
  },
  {
   "cell_type": "code",
   "execution_count": 3,
   "id": "572af67c-10b1-4674-8f87-38c0367db5a7",
   "metadata": {},
   "outputs": [
    {
     "data": {
      "text/plain": [
       "Sex               0\n",
       "Length            0\n",
       "Diameter          0\n",
       "Height            0\n",
       "Whole weight      0\n",
       "Shucked weight    0\n",
       "Viscera weight    0\n",
       "Shell weight      0\n",
       "Rings             0\n",
       "dtype: int64"
      ]
     },
     "execution_count": 3,
     "metadata": {},
     "output_type": "execute_result"
    }
   ],
   "source": [
    "# 결측치 확인\n",
    "df.isnull().sum()"
   ]
  },
  {
   "cell_type": "code",
   "execution_count": 4,
   "id": "1a8874a4-3f3a-4a2f-a4b8-a95a585f8945",
   "metadata": {},
   "outputs": [
    {
     "data": {
      "text/plain": [
       "Sex               0\n",
       "Length            0\n",
       "Diameter          0\n",
       "Height            0\n",
       "Whole weight      0\n",
       "Shucked weight    0\n",
       "Viscera weight    0\n",
       "Shell weight      0\n",
       "Rings             0\n",
       "dtype: int64"
      ]
     },
     "execution_count": 4,
     "metadata": {},
     "output_type": "execute_result"
    }
   ],
   "source": [
    "# 결측치 제거\n",
    "df = df.dropna()\n",
    "df.isnull().sum()"
   ]
  },
  {
   "cell_type": "code",
   "execution_count": 5,
   "id": "f784c7e6-0667-4ec6-84d8-3fe61956522d",
   "metadata": {},
   "outputs": [
    {
     "data": {
      "text/plain": [
       "array([[<Axes: title={'center': 'Length'}>,\n",
       "        <Axes: title={'center': 'Diameter'}>,\n",
       "        <Axes: title={'center': 'Height'}>],\n",
       "       [<Axes: title={'center': 'Whole weight'}>,\n",
       "        <Axes: title={'center': 'Shucked weight'}>,\n",
       "        <Axes: title={'center': 'Viscera weight'}>],\n",
       "       [<Axes: title={'center': 'Shell weight'}>,\n",
       "        <Axes: title={'center': 'Rings'}>, <Axes: >]], dtype=object)"
      ]
     },
     "execution_count": 5,
     "metadata": {},
     "output_type": "execute_result"
    },
    {
     "data": {
      "image/png": "[encoded data removed]",
      "text/plain": [
       "<Figure size 1500x1000 with 9 Axes>"
      ]
     },
     "metadata": {},
     "output_type": "display_data"
    }
   ],
   "source": [
    "df.hist(figsize=(15, 10), grid=False, alpha=0.5, color='purple')"
   ]
  },
  {
   "cell_type": "code",
   "execution_count": 6,
   "id": "37d61b62-4daf-4ecb-9f86-ad5ada5f75e1",
   "metadata": {},
   "outputs": [
    {
     "data": {
      "text/plain": [
       "Text(0.5, 1.0, 'Rings of abalone')"
      ]
     },
     "execution_count": 6,
     "metadata": {},
     "output_type": "execute_result"
    },
    {
     "data": {
      "image/png": "[encoded data removed]",
      "text/plain": [
       "<Figure size 640x480 with 1 Axes>"
      ]
     },
     "metadata": {},
     "output_type": "display_data"
    }
   ],
   "source": [
    "# 레이블 갯수 확인 (그래프)\n",
    "sns.countplot(data = df, x=\"Rings\")\n",
    "plt.xlabel(\"Rings\")\n",
    "plt.ylabel(\"Count\")\n",
    "plt.title(\"Rings of abalone\")"
   ]
  },
  {
   "cell_type": "code",
   "execution_count": 7,
   "id": "c6b63ce9-d76c-492a-9723-f0d044b5d548",
   "metadata": {},
   "outputs": [
    {
     "data": {
      "text/plain": [
       "Rings\n",
       "9     689\n",
       "10    634\n",
       "8     568\n",
       "11    487\n",
       "7     391\n",
       "12    267\n",
       "6     259\n",
       "13    203\n",
       "14    126\n",
       "5     115\n",
       "15    103\n",
       "16     67\n",
       "17     58\n",
       "4      57\n",
       "18     42\n",
       "19     32\n",
       "20     26\n",
       "3      15\n",
       "21     14\n",
       "23      9\n",
       "22      6\n",
       "27      2\n",
       "24      2\n",
       "1       1\n",
       "26      1\n",
       "29      1\n",
       "2       1\n",
       "25      1\n",
       "Name: count, dtype: int64"
      ]
     },
     "execution_count": 7,
     "metadata": {},
     "output_type": "execute_result"
    }
   ],
   "source": [
    "df['Rings'].value_counts()"
   ]
  },
  {
   "cell_type": "code",
   "execution_count": 8,
   "id": "3f10d69c-e228-4ffc-906c-7032db6c73e3",
   "metadata": {},
   "outputs": [
    {
     "data": {
      "text/plain": [
       "Rings\n",
       "9     689\n",
       "10    634\n",
       "8     568\n",
       "11    487\n",
       "7     391\n",
       "12    267\n",
       "6     259\n",
       "13    203\n",
       "14    126\n",
       "5     115\n",
       "15    103\n",
       "16     67\n",
       "17     58\n",
       "4      57\n",
       "18     42\n",
       "19     32\n",
       "20     26\n",
       "3      15\n",
       "21     14\n",
       "23      9\n",
       "22      6\n",
       "27      2\n",
       "24      2\n",
       "1       1\n",
       "26      1\n",
       "29      1\n",
       "2       1\n",
       "25      1\n",
       "0       1\n",
       "28      1\n",
       "Name: count, dtype: int64"
      ]
     },
     "execution_count": 8,
     "metadata": {},
     "output_type": "execute_result"
    }
   ],
   "source": [
    "import pandas as pd\n",
    "\n",
    "# 기존 abalone 데이터셋 로드\n",
    "# 데이터가 abalone.csv 파일에 있다고 가정\n",
    "\n",
    "# rings=1인 데이터와 rings=29인 데이터 추출\n",
    "rings_1_data = df[df['Rings'] == 1].copy()\n",
    "rings_29_data = df[df['Rings'] == 29].copy()\n",
    "\n",
    "# rings=1인 데이터를 rings=0으로 변경\n",
    "rings_1_data['Rings'] = 0\n",
    "\n",
    "# rings=29인 데이터를 rings=28로 변경\n",
    "rings_29_data['Rings'] = 28\n",
    "\n",
    "# 기존 데이터에 rings=0과 rings=28 데이터를 추가\n",
    "df = pd.concat([df, rings_1_data, rings_29_data], ignore_index=True)\n",
    "\n",
    "# 추가된 데이터 확인\n",
    "df['Rings'].value_counts()\n"
   ]
  },
  {
   "cell_type": "code",
   "execution_count": 9,
   "id": "06281bf5-be19-4c37-948a-2d352750d7b6",
   "metadata": {},
   "outputs": [
    {
     "data": {
      "text/html": [
       "<div>\n",
       "<style scoped>\n",
       "    .dataframe tbody tr th:only-of-type {\n",
       "        vertical-align: middle;\n",
       "    }\n",
       "\n",
       "    .dataframe tbody tr th {\n",
       "        vertical-align: top;\n",
       "    }\n",
       "\n",
       "    .dataframe thead th {\n",
       "        text-align: right;\n",
       "    }\n",
       "</style>\n",
       "<table border=\"1\" class=\"dataframe\">\n",
       "  <thead>\n",
       "    <tr style=\"text-align: right;\">\n",
       "      <th></th>\n",
       "      <th>Sex</th>\n",
       "      <th>Length</th>\n",
       "      <th>Diameter</th>\n",
       "      <th>Height</th>\n",
       "      <th>Whole weight</th>\n",
       "      <th>Shucked weight</th>\n",
       "      <th>Viscera weight</th>\n",
       "      <th>Shell weight</th>\n",
       "      <th>Rings</th>\n",
       "    </tr>\n",
       "  </thead>\n",
       "  <tbody>\n",
       "    <tr>\n",
       "      <th>0</th>\n",
       "      <td>2</td>\n",
       "      <td>0.455</td>\n",
       "      <td>0.365</td>\n",
       "      <td>0.095</td>\n",
       "      <td>0.5140</td>\n",
       "      <td>0.2245</td>\n",
       "      <td>0.1010</td>\n",
       "      <td>0.1500</td>\n",
       "      <td>15</td>\n",
       "    </tr>\n",
       "    <tr>\n",
       "      <th>1</th>\n",
       "      <td>2</td>\n",
       "      <td>0.350</td>\n",
       "      <td>0.265</td>\n",
       "      <td>0.090</td>\n",
       "      <td>0.2255</td>\n",
       "      <td>0.0995</td>\n",
       "      <td>0.0485</td>\n",
       "      <td>0.0700</td>\n",
       "      <td>7</td>\n",
       "    </tr>\n",
       "    <tr>\n",
       "      <th>2</th>\n",
       "      <td>0</td>\n",
       "      <td>0.530</td>\n",
       "      <td>0.420</td>\n",
       "      <td>0.135</td>\n",
       "      <td>0.6770</td>\n",
       "      <td>0.2565</td>\n",
       "      <td>0.1415</td>\n",
       "      <td>0.2100</td>\n",
       "      <td>9</td>\n",
       "    </tr>\n",
       "    <tr>\n",
       "      <th>3</th>\n",
       "      <td>2</td>\n",
       "      <td>0.440</td>\n",
       "      <td>0.365</td>\n",
       "      <td>0.125</td>\n",
       "      <td>0.5160</td>\n",
       "      <td>0.2155</td>\n",
       "      <td>0.1140</td>\n",
       "      <td>0.1550</td>\n",
       "      <td>10</td>\n",
       "    </tr>\n",
       "    <tr>\n",
       "      <th>4</th>\n",
       "      <td>1</td>\n",
       "      <td>0.330</td>\n",
       "      <td>0.255</td>\n",
       "      <td>0.080</td>\n",
       "      <td>0.2050</td>\n",
       "      <td>0.0895</td>\n",
       "      <td>0.0395</td>\n",
       "      <td>0.0550</td>\n",
       "      <td>7</td>\n",
       "    </tr>\n",
       "    <tr>\n",
       "      <th>...</th>\n",
       "      <td>...</td>\n",
       "      <td>...</td>\n",
       "      <td>...</td>\n",
       "      <td>...</td>\n",
       "      <td>...</td>\n",
       "      <td>...</td>\n",
       "      <td>...</td>\n",
       "      <td>...</td>\n",
       "      <td>...</td>\n",
       "    </tr>\n",
       "    <tr>\n",
       "      <th>4174</th>\n",
       "      <td>2</td>\n",
       "      <td>0.600</td>\n",
       "      <td>0.475</td>\n",
       "      <td>0.205</td>\n",
       "      <td>1.1760</td>\n",
       "      <td>0.5255</td>\n",
       "      <td>0.2875</td>\n",
       "      <td>0.3080</td>\n",
       "      <td>9</td>\n",
       "    </tr>\n",
       "    <tr>\n",
       "      <th>4175</th>\n",
       "      <td>0</td>\n",
       "      <td>0.625</td>\n",
       "      <td>0.485</td>\n",
       "      <td>0.150</td>\n",
       "      <td>1.0945</td>\n",
       "      <td>0.5310</td>\n",
       "      <td>0.2610</td>\n",
       "      <td>0.2960</td>\n",
       "      <td>10</td>\n",
       "    </tr>\n",
       "    <tr>\n",
       "      <th>4176</th>\n",
       "      <td>2</td>\n",
       "      <td>0.710</td>\n",
       "      <td>0.555</td>\n",
       "      <td>0.195</td>\n",
       "      <td>1.9485</td>\n",
       "      <td>0.9455</td>\n",
       "      <td>0.3765</td>\n",
       "      <td>0.4950</td>\n",
       "      <td>12</td>\n",
       "    </tr>\n",
       "    <tr>\n",
       "      <th>4177</th>\n",
       "      <td>1</td>\n",
       "      <td>0.075</td>\n",
       "      <td>0.055</td>\n",
       "      <td>0.010</td>\n",
       "      <td>0.0020</td>\n",
       "      <td>0.0010</td>\n",
       "      <td>0.0005</td>\n",
       "      <td>0.0015</td>\n",
       "      <td>0</td>\n",
       "    </tr>\n",
       "    <tr>\n",
       "      <th>4178</th>\n",
       "      <td>0</td>\n",
       "      <td>0.700</td>\n",
       "      <td>0.585</td>\n",
       "      <td>0.185</td>\n",
       "      <td>1.8075</td>\n",
       "      <td>0.7055</td>\n",
       "      <td>0.3215</td>\n",
       "      <td>0.4750</td>\n",
       "      <td>28</td>\n",
       "    </tr>\n",
       "  </tbody>\n",
       "</table>\n",
       "<p>4179 rows × 9 columns</p>\n",
       "</div>"
      ],
      "text/plain": [
       "      Sex  Length  Diameter  Height  Whole weight  Shucked weight  \\\n",
       "0       2   0.455     0.365   0.095        0.5140          0.2245   \n",
       "1       2   0.350     0.265   0.090        0.2255          0.0995   \n",
       "2       0   0.530     0.420   0.135        0.6770          0.2565   \n",
       "3       2   0.440     0.365   0.125        0.5160          0.2155   \n",
       "4       1   0.330     0.255   0.080        0.2050          0.0895   \n",
       "...   ...     ...       ...     ...           ...             ...   \n",
       "4174    2   0.600     0.475   0.205        1.1760          0.5255   \n",
       "4175    0   0.625     0.485   0.150        1.0945          0.5310   \n",
       "4176    2   0.710     0.555   0.195        1.9485          0.9455   \n",
       "4177    1   0.075     0.055   0.010        0.0020          0.0010   \n",
       "4178    0   0.700     0.585   0.185        1.8075          0.7055   \n",
       "\n",
       "      Viscera weight  Shell weight  Rings  \n",
       "0             0.1010        0.1500     15  \n",
       "1             0.0485        0.0700      7  \n",
       "2             0.1415        0.2100      9  \n",
       "3             0.1140        0.1550     10  \n",
       "4             0.0395        0.0550      7  \n",
       "...              ...           ...    ...  \n",
       "4174          0.2875        0.3080      9  \n",
       "4175          0.2610        0.2960     10  \n",
       "4176          0.3765        0.4950     12  \n",
       "4177          0.0005        0.0015      0  \n",
       "4178          0.3215        0.4750     28  \n",
       "\n",
       "[4179 rows x 9 columns]"
      ]
     },
     "execution_count": 9,
     "metadata": {},
     "output_type": "execute_result"
    }
   ],
   "source": [
    "#레이블을 숫자로 변환\n",
    "from sklearn.preprocessing import StandardScaler, LabelEncoder\n",
    "\n",
    "# LabelEncoder 객체 생성\n",
    "label = LabelEncoder()\n",
    "\n",
    "# 문자로 지정된 열의 데이터에 대해 LabelEncoder를 적용하여 변환\n",
    "df['Sex'] = label.fit_transform(df['Sex'])\n",
    "\n",
    "df"
   ]
  },
  {
   "cell_type": "code",
   "execution_count": 10,
   "id": "2ae39710-bdab-4485-8ff4-30368a6fd785",
   "metadata": {},
   "outputs": [
    {
     "data": {
      "image/png": "[encoded data removed]",
      "text/plain": [
       "<Figure size 1000x1000 with 1 Axes>"
      ]
     },
     "metadata": {},
     "output_type": "display_data"
    }
   ],
   "source": [
    "df_corr = df[[ 'Sex', 'Length', 'Diameter', 'Height', 'Whole weight', 'Shucked weight', 'Viscera weight', 'Shell weight', 'Rings']]\n",
    "\n",
    "#상관 관계 행렬\n",
    "# 0.3 이상인 경우 상관관계가 있고, 0.7이상이면 아주 높음\n",
    "\n",
    "df_corr=df_corr.corr()\n",
    "\n",
    "#히트맵\n",
    "plt.figure(figsize=(10,10))\n",
    "sns.set(font_scale=0.8)\n",
    "sns.heatmap(df_corr, annot=True, cbar=False)\n",
    "plt.show()"
   ]
  },
  {
   "cell_type": "markdown",
   "id": "fa3bbc48-2fdc-485b-b7f5-9b8531b154ba",
   "metadata": {},
   "source": [
    "Sex, Rings은 다른 특성들과의 상관관계가 특히 낮다. \n",
    "\n",
    "Abalone 데이터에 따르면, Rings 값에 1.5를 더하면 전복의 나이가 된다고 한다."
   ]
  },
  {
   "cell_type": "code",
   "execution_count": 11,
   "id": "62546f87-e6ed-487f-83fc-b3f68dafb7b4",
   "metadata": {},
   "outputs": [],
   "source": [
    "# Convert RingCount to Age by adding 1.5, accoring to codebook\n",
    "df['Age'] = df['Rings'] + 1.5\n",
    "# df.drop('Rings', axis=1, inplace=True)"
   ]
  },
  {
   "cell_type": "markdown",
   "id": "3c4dd211-a0a2-4fb2-993c-1a24c57e0779",
   "metadata": {},
   "source": [
    "## 2. Train Test Split"
   ]
  },
  {
   "cell_type": "markdown",
   "id": "7c699396-1b45-4839-bd68-ba397e4001c6",
   "metadata": {},
   "source": [
    "## Deep Learning Classification"
   ]
  },
  {
   "cell_type": "markdown",
   "id": "5fd24e9d-f1cf-4ded-aa3d-eae14913413e",
   "metadata": {},
   "source": [
    "#### y label\n",
    "\n",
    "No of Classes : 0\n",
    "\n",
    "1 -> Rings <= 8\n",
    "\n",
    "2 -> Rings > 8 && Rings <= 11\n",
    "\n",
    "3 -> Rings > 11"
   ]
  },
  {
   "cell_type": "code",
   "execution_count": 12,
   "id": "2ab7ae4c-c8d7-406e-8e69-e717cd1fa1f3",
   "metadata": {},
   "outputs": [],
   "source": [
    "new_df = df.copy()"
   ]
  },
  {
   "cell_type": "code",
   "execution_count": 13,
   "id": "4a2b92f6-61c4-4340-86af-c62aea8262b3",
   "metadata": {},
   "outputs": [],
   "source": [
    "new_df['newRings_1'] = np.where(df['Rings'] <= 8, 1,0)\n",
    "new_df['newRings_2'] = np.where(((df['Rings'] > 8) & (df['Rings'] <= 10)), 2,0)\n",
    "new_df['newRings_3'] = np.where(df['Rings'] > 10, 3,0)\n",
    "\n",
    "new_df['newRings'] = new_df['newRings_1'] + new_df['newRings_2'] + new_df['newRings_3']"
   ]
  },
  {
   "cell_type": "code",
   "execution_count": 14,
   "id": "1b9934c8-af19-4f5e-8452-5f7b08a0c4dc",
   "metadata": {},
   "outputs": [
    {
     "data": {
      "text/html": [
       "<div>\n",
       "<style scoped>\n",
       "    .dataframe tbody tr th:only-of-type {\n",
       "        vertical-align: middle;\n",
       "    }\n",
       "\n",
       "    .dataframe tbody tr th {\n",
       "        vertical-align: top;\n",
       "    }\n",
       "\n",
       "    .dataframe thead th {\n",
       "        text-align: right;\n",
       "    }\n",
       "</style>\n",
       "<table border=\"1\" class=\"dataframe\">\n",
       "  <thead>\n",
       "    <tr style=\"text-align: right;\">\n",
       "      <th></th>\n",
       "      <th>Length</th>\n",
       "      <th>Diameter</th>\n",
       "      <th>Height</th>\n",
       "      <th>Whole weight</th>\n",
       "      <th>Shucked weight</th>\n",
       "      <th>Viscera weight</th>\n",
       "      <th>Shell weight</th>\n",
       "    </tr>\n",
       "  </thead>\n",
       "  <tbody>\n",
       "    <tr>\n",
       "      <th>0</th>\n",
       "      <td>0.455</td>\n",
       "      <td>0.365</td>\n",
       "      <td>0.095</td>\n",
       "      <td>0.5140</td>\n",
       "      <td>0.2245</td>\n",
       "      <td>0.1010</td>\n",
       "      <td>0.150</td>\n",
       "    </tr>\n",
       "    <tr>\n",
       "      <th>1</th>\n",
       "      <td>0.350</td>\n",
       "      <td>0.265</td>\n",
       "      <td>0.090</td>\n",
       "      <td>0.2255</td>\n",
       "      <td>0.0995</td>\n",
       "      <td>0.0485</td>\n",
       "      <td>0.070</td>\n",
       "    </tr>\n",
       "    <tr>\n",
       "      <th>2</th>\n",
       "      <td>0.530</td>\n",
       "      <td>0.420</td>\n",
       "      <td>0.135</td>\n",
       "      <td>0.6770</td>\n",
       "      <td>0.2565</td>\n",
       "      <td>0.1415</td>\n",
       "      <td>0.210</td>\n",
       "    </tr>\n",
       "    <tr>\n",
       "      <th>3</th>\n",
       "      <td>0.440</td>\n",
       "      <td>0.365</td>\n",
       "      <td>0.125</td>\n",
       "      <td>0.5160</td>\n",
       "      <td>0.2155</td>\n",
       "      <td>0.1140</td>\n",
       "      <td>0.155</td>\n",
       "    </tr>\n",
       "    <tr>\n",
       "      <th>4</th>\n",
       "      <td>0.330</td>\n",
       "      <td>0.255</td>\n",
       "      <td>0.080</td>\n",
       "      <td>0.2050</td>\n",
       "      <td>0.0895</td>\n",
       "      <td>0.0395</td>\n",
       "      <td>0.055</td>\n",
       "    </tr>\n",
       "  </tbody>\n",
       "</table>\n",
       "</div>"
      ],
      "text/plain": [
       "   Length  Diameter  Height  Whole weight  Shucked weight  Viscera weight  \\\n",
       "0   0.455     0.365   0.095        0.5140          0.2245          0.1010   \n",
       "1   0.350     0.265   0.090        0.2255          0.0995          0.0485   \n",
       "2   0.530     0.420   0.135        0.6770          0.2565          0.1415   \n",
       "3   0.440     0.365   0.125        0.5160          0.2155          0.1140   \n",
       "4   0.330     0.255   0.080        0.2050          0.0895          0.0395   \n",
       "\n",
       "   Shell weight  \n",
       "0         0.150  \n",
       "1         0.070  \n",
       "2         0.210  \n",
       "3         0.155  \n",
       "4         0.055  "
      ]
     },
     "execution_count": 14,
     "metadata": {},
     "output_type": "execute_result"
    }
   ],
   "source": [
    "X_ring=df.drop(['Sex', 'Age', 'Rings'], axis=1)\n",
    "\n",
    "X_ring.head()\n",
    "# head()는 첫 5행만 출력함."
   ]
  },
  {
   "cell_type": "code",
   "execution_count": 15,
   "id": "d281066f-d54c-4e5f-bb23-2d832c493b9e",
   "metadata": {},
   "outputs": [
    {
     "data": {
      "text/plain": [
       "newRings\n",
       "1    1408\n",
       "2    1323\n",
       "3    1448\n",
       "Name: count, dtype: int64"
      ]
     },
     "execution_count": 15,
     "metadata": {},
     "output_type": "execute_result"
    }
   ],
   "source": [
    "y_ring = new_df['newRings']\n",
    "y_ring.value_counts().sort_index(ascending=True)"
   ]
  },
  {
   "cell_type": "code",
   "execution_count": 16,
   "id": "8df9e8a6-6b06-454f-bf14-71a5eaa66b0e",
   "metadata": {},
   "outputs": [
    {
     "data": {
      "text/plain": [
       "array([[False, False,  True],\n",
       "       [ True, False, False],\n",
       "       [False,  True, False],\n",
       "       ...,\n",
       "       [False, False,  True],\n",
       "       [ True, False, False],\n",
       "       [False, False,  True]])"
      ]
     },
     "execution_count": 16,
     "metadata": {},
     "output_type": "execute_result"
    }
   ],
   "source": [
    "#one hot encoding 하기\n",
    "\n",
    "y_ring = pd.get_dummies(y_ring).values\n",
    "y_ring"
   ]
  },
  {
   "cell_type": "code",
   "execution_count": 17,
   "id": "496ea71a-77f8-46d1-9f7d-4a4a9663e826",
   "metadata": {},
   "outputs": [
    {
     "data": {
      "text/html": [
       "<div>\n",
       "<style scoped>\n",
       "    .dataframe tbody tr th:only-of-type {\n",
       "        vertical-align: middle;\n",
       "    }\n",
       "\n",
       "    .dataframe tbody tr th {\n",
       "        vertical-align: top;\n",
       "    }\n",
       "\n",
       "    .dataframe thead th {\n",
       "        text-align: right;\n",
       "    }\n",
       "</style>\n",
       "<table border=\"1\" class=\"dataframe\">\n",
       "  <thead>\n",
       "    <tr style=\"text-align: right;\">\n",
       "      <th></th>\n",
       "      <th>Length</th>\n",
       "      <th>Diameter</th>\n",
       "      <th>Height</th>\n",
       "      <th>Whole weight</th>\n",
       "      <th>Shucked weight</th>\n",
       "      <th>Viscera weight</th>\n",
       "      <th>Shell weight</th>\n",
       "    </tr>\n",
       "  </thead>\n",
       "  <tbody>\n",
       "    <tr>\n",
       "      <th>2788</th>\n",
       "      <td>0.615</td>\n",
       "      <td>0.460</td>\n",
       "      <td>0.150</td>\n",
       "      <td>1.0265</td>\n",
       "      <td>0.4935</td>\n",
       "      <td>0.2010</td>\n",
       "      <td>0.2745</td>\n",
       "    </tr>\n",
       "    <tr>\n",
       "      <th>1752</th>\n",
       "      <td>0.710</td>\n",
       "      <td>0.560</td>\n",
       "      <td>0.220</td>\n",
       "      <td>2.0150</td>\n",
       "      <td>0.9215</td>\n",
       "      <td>0.4540</td>\n",
       "      <td>0.5660</td>\n",
       "    </tr>\n",
       "    <tr>\n",
       "      <th>2224</th>\n",
       "      <td>0.550</td>\n",
       "      <td>0.425</td>\n",
       "      <td>0.145</td>\n",
       "      <td>0.7970</td>\n",
       "      <td>0.2970</td>\n",
       "      <td>0.1500</td>\n",
       "      <td>0.2650</td>\n",
       "    </tr>\n",
       "    <tr>\n",
       "      <th>3389</th>\n",
       "      <td>0.565</td>\n",
       "      <td>0.465</td>\n",
       "      <td>0.150</td>\n",
       "      <td>1.1285</td>\n",
       "      <td>0.3770</td>\n",
       "      <td>0.3525</td>\n",
       "      <td>0.3300</td>\n",
       "    </tr>\n",
       "    <tr>\n",
       "      <th>3851</th>\n",
       "      <td>0.560</td>\n",
       "      <td>0.440</td>\n",
       "      <td>0.130</td>\n",
       "      <td>0.8255</td>\n",
       "      <td>0.2425</td>\n",
       "      <td>0.2020</td>\n",
       "      <td>0.2850</td>\n",
       "    </tr>\n",
       "    <tr>\n",
       "      <th>...</th>\n",
       "      <td>...</td>\n",
       "      <td>...</td>\n",
       "      <td>...</td>\n",
       "      <td>...</td>\n",
       "      <td>...</td>\n",
       "      <td>...</td>\n",
       "      <td>...</td>\n",
       "    </tr>\n",
       "    <tr>\n",
       "      <th>1033</th>\n",
       "      <td>0.650</td>\n",
       "      <td>0.525</td>\n",
       "      <td>0.185</td>\n",
       "      <td>1.6220</td>\n",
       "      <td>0.6645</td>\n",
       "      <td>0.3225</td>\n",
       "      <td>0.4770</td>\n",
       "    </tr>\n",
       "    <tr>\n",
       "      <th>3264</th>\n",
       "      <td>0.655</td>\n",
       "      <td>0.500</td>\n",
       "      <td>0.140</td>\n",
       "      <td>1.1705</td>\n",
       "      <td>0.5405</td>\n",
       "      <td>0.3175</td>\n",
       "      <td>0.2850</td>\n",
       "    </tr>\n",
       "    <tr>\n",
       "      <th>1653</th>\n",
       "      <td>0.595</td>\n",
       "      <td>0.450</td>\n",
       "      <td>0.145</td>\n",
       "      <td>0.9590</td>\n",
       "      <td>0.4630</td>\n",
       "      <td>0.2065</td>\n",
       "      <td>0.2535</td>\n",
       "    </tr>\n",
       "    <tr>\n",
       "      <th>2607</th>\n",
       "      <td>0.625</td>\n",
       "      <td>0.490</td>\n",
       "      <td>0.165</td>\n",
       "      <td>1.1270</td>\n",
       "      <td>0.4770</td>\n",
       "      <td>0.2365</td>\n",
       "      <td>0.3185</td>\n",
       "    </tr>\n",
       "    <tr>\n",
       "      <th>2732</th>\n",
       "      <td>0.410</td>\n",
       "      <td>0.325</td>\n",
       "      <td>0.110</td>\n",
       "      <td>0.3260</td>\n",
       "      <td>0.1325</td>\n",
       "      <td>0.0750</td>\n",
       "      <td>0.1010</td>\n",
       "    </tr>\n",
       "  </tbody>\n",
       "</table>\n",
       "<p>3134 rows × 7 columns</p>\n",
       "</div>"
      ],
      "text/plain": [
       "      Length  Diameter  Height  Whole weight  Shucked weight  Viscera weight  \\\n",
       "2788   0.615     0.460   0.150        1.0265          0.4935          0.2010   \n",
       "1752   0.710     0.560   0.220        2.0150          0.9215          0.4540   \n",
       "2224   0.550     0.425   0.145        0.7970          0.2970          0.1500   \n",
       "3389   0.565     0.465   0.150        1.1285          0.3770          0.3525   \n",
       "3851   0.560     0.440   0.130        0.8255          0.2425          0.2020   \n",
       "...      ...       ...     ...           ...             ...             ...   \n",
       "1033   0.650     0.525   0.185        1.6220          0.6645          0.3225   \n",
       "3264   0.655     0.500   0.140        1.1705          0.5405          0.3175   \n",
       "1653   0.595     0.450   0.145        0.9590          0.4630          0.2065   \n",
       "2607   0.625     0.490   0.165        1.1270          0.4770          0.2365   \n",
       "2732   0.410     0.325   0.110        0.3260          0.1325          0.0750   \n",
       "\n",
       "      Shell weight  \n",
       "2788        0.2745  \n",
       "1752        0.5660  \n",
       "2224        0.2650  \n",
       "3389        0.3300  \n",
       "3851        0.2850  \n",
       "...            ...  \n",
       "1033        0.4770  \n",
       "3264        0.2850  \n",
       "1653        0.2535  \n",
       "2607        0.3185  \n",
       "2732        0.1010  \n",
       "\n",
       "[3134 rows x 7 columns]"
      ]
     },
     "execution_count": 17,
     "metadata": {},
     "output_type": "execute_result"
    }
   ],
   "source": [
    "from sklearn.model_selection import train_test_split\n",
    "\n",
    "X_ring_train, X_ring_test, y_ring_train, y_ring_test = train_test_split(X_ring, y_ring, test_size=0.25, random_state=0)\n",
    "# random_state는 데이터를 무작위로 나누거나 섞을 때 사용되는 난수 발생기의 시드(seed) 값\n",
    "X_ring_train"
   ]
  },
  {
   "cell_type": "code",
   "execution_count": 20,
   "id": "8c23dd65-9d1e-42e2-b49a-22a936d76a12",
   "metadata": {},
   "outputs": [],
   "source": [
    "# Scale X\n",
    "scaler = StandardScaler()\n",
    "scaler.fit(X_ring_train)\n",
    "X_ring_train = pd.DataFrame(scaler.transform(X_ring_train), columns=X_ring.columns)\n",
    "X_ring_test = pd.DataFrame(scaler.transform(X_ring_test), columns=X_ring.columns)"
   ]
  },
  {
   "cell_type": "code",
   "execution_count": 21,
   "id": "9a0ac168-8d18-4413-81db-2f377679eb2a",
   "metadata": {},
   "outputs": [
    {
     "data": {
      "text/plain": [
       "7"
      ]
     },
     "execution_count": 21,
     "metadata": {},
     "output_type": "execute_result"
    }
   ],
   "source": [
    "X_ring_train.shape[1]"
   ]
  },
  {
   "cell_type": "code",
   "execution_count": 22,
   "id": "2381ea49-68fb-4cf8-8beb-6d764fbf7103",
   "metadata": {},
   "outputs": [
    {
     "data": {
      "text/plain": [
       "3"
      ]
     },
     "execution_count": 22,
     "metadata": {},
     "output_type": "execute_result"
    }
   ],
   "source": [
    "y_ring_test.shape[1]"
   ]
  },
  {
   "cell_type": "markdown",
   "id": "ce5e3dd9-7e6c-4ddb-8762-89bf439c3513",
   "metadata": {},
   "source": [
    "## 3. Make Dense Layer"
   ]
  },
  {
   "cell_type": "code",
   "execution_count": 23,
   "id": "0f835048-1c9d-48f2-95f7-14fe5129d540",
   "metadata": {},
   "outputs": [],
   "source": [
    "from keras.models import Sequential, Model\n",
    "from keras.layers import Dense, Input\n",
    "from keras.optimizers import Adam\n",
    "from tensorflow.keras import layers"
   ]
  },
  {
   "cell_type": "code",
   "execution_count": 24,
   "id": "32b6e1fb-2daa-45d1-9166-2162c48f3b36",
   "metadata": {},
   "outputs": [
    {
     "name": "stdout",
     "output_type": "stream",
     "text": [
      "WARNING:tensorflow:From C:\\Anaconda\\Lib\\site-packages\\keras\\src\\backend.py:1398: The name tf.executing_eagerly_outside_functions is deprecated. Please use tf.compat.v1.executing_eagerly_outside_functions instead.\n",
      "\n",
      "Model: \"model\"\n",
      "_________________________________________________________________\n",
      " Layer (type)                Output Shape              Param #   \n",
      "=================================================================\n",
      " input_1 (InputLayer)        [(None, 7)]               0         \n",
      "                                                                 \n",
      " dense (Dense)               (None, 128)               1024      \n",
      "                                                                 \n",
      " dense_1 (Dense)             (None, 128)               16512     \n",
      "                                                                 \n",
      " dense_2 (Dense)             (None, 3)                 387       \n",
      "                                                                 \n",
      "=================================================================\n",
      "Total params: 17923 (70.01 KB)\n",
      "Trainable params: 17923 (70.01 KB)\n",
      "Non-trainable params: 0 (0.00 Byte)\n",
      "_________________________________________________________________\n"
     ]
    }
   ],
   "source": [
    "# Define the input layer\n",
    "inputs = Input(shape=(X_ring_train.shape[1],))\n",
    "\n",
    "# Define the model architecture\n",
    "x = Dense(128, activation='relu')(inputs)\n",
    "x = Dense(128, activation='relu')(x)\n",
    "predictions = Dense(3, activation='softmax')(x) \n",
    "\n",
    "# Create the model\n",
    "model = Model(inputs=inputs, outputs=predictions)\n",
    "\n",
    "# Compile the model\n",
    "model.compile(optimizer=Adam(), loss='categorical_crossentropy', metrics=['accuracy'])\n",
    "\n",
    "# Print the model summary\n",
    "model.summary()"
   ]
  },
  {
   "cell_type": "code",
   "execution_count": 25,
   "id": "797368a5-5d34-4581-85ee-7257c2aa70b3",
   "metadata": {},
   "outputs": [
    {
     "name": "stdout",
     "output_type": "stream",
     "text": [
      "Epoch 1/50\n",
      "WARNING:tensorflow:From C:\\Anaconda\\Lib\\site-packages\\keras\\src\\utils\\tf_utils.py:492: The name tf.ragged.RaggedTensorValue is deprecated. Please use tf.compat.v1.ragged.RaggedTensorValue instead.\n",
      "\n",
      "WARNING:tensorflow:From C:\\Anaconda\\Lib\\site-packages\\keras\\src\\engine\\base_layer_utils.py:384: The name tf.executing_eagerly_outside_functions is deprecated. Please use tf.compat.v1.executing_eagerly_outside_functions instead.\n",
      "\n",
      "89/89 [==============================] - 5s 14ms/step - loss: 0.8501 - accuracy: 0.5809 - val_loss: 0.7889 - val_accuracy: 0.6083\n",
      "Epoch 2/50\n",
      "89/89 [==============================] - 0s 6ms/step - loss: 0.7723 - accuracy: 0.6450 - val_loss: 0.7419 - val_accuracy: 0.6433\n",
      "Epoch 3/50\n",
      "89/89 [==============================] - 1s 6ms/step - loss: 0.7490 - accuracy: 0.6535 - val_loss: 0.7385 - val_accuracy: 0.6019\n",
      "Epoch 4/50\n",
      "89/89 [==============================] - 0s 5ms/step - loss: 0.7424 - accuracy: 0.6514 - val_loss: 0.7150 - val_accuracy: 0.6624\n",
      "Epoch 5/50\n",
      "89/89 [==============================] - 1s 6ms/step - loss: 0.7369 - accuracy: 0.6574 - val_loss: 0.7311 - val_accuracy: 0.6242\n",
      "Epoch 6/50\n",
      "89/89 [==============================] - 1s 7ms/step - loss: 0.7334 - accuracy: 0.6606 - val_loss: 0.7222 - val_accuracy: 0.6178\n",
      "Epoch 7/50\n",
      "89/89 [==============================] - 1s 6ms/step - loss: 0.7289 - accuracy: 0.6617 - val_loss: 0.7284 - val_accuracy: 0.6242\n",
      "Epoch 8/50\n",
      "89/89 [==============================] - 1s 7ms/step - loss: 0.7261 - accuracy: 0.6617 - val_loss: 0.7101 - val_accuracy: 0.6624\n",
      "Epoch 9/50\n",
      "89/89 [==============================] - 1s 9ms/step - loss: 0.7227 - accuracy: 0.6716 - val_loss: 0.7191 - val_accuracy: 0.6656\n",
      "Epoch 10/50\n",
      "89/89 [==============================] - 1s 6ms/step - loss: 0.7250 - accuracy: 0.6667 - val_loss: 0.7077 - val_accuracy: 0.6401\n",
      "Epoch 11/50\n",
      "89/89 [==============================] - 1s 6ms/step - loss: 0.7145 - accuracy: 0.6723 - val_loss: 0.7055 - val_accuracy: 0.6465\n",
      "Epoch 12/50\n",
      "89/89 [==============================] - 1s 8ms/step - loss: 0.7130 - accuracy: 0.6670 - val_loss: 0.7032 - val_accuracy: 0.6497\n",
      "Epoch 13/50\n",
      "89/89 [==============================] - 1s 7ms/step - loss: 0.7126 - accuracy: 0.6762 - val_loss: 0.7095 - val_accuracy: 0.6242\n",
      "Epoch 14/50\n",
      "89/89 [==============================] - 1s 8ms/step - loss: 0.7137 - accuracy: 0.6770 - val_loss: 0.7129 - val_accuracy: 0.6306\n",
      "Epoch 15/50\n",
      "89/89 [==============================] - 1s 6ms/step - loss: 0.7103 - accuracy: 0.6745 - val_loss: 0.7149 - val_accuracy: 0.6146\n",
      "Epoch 16/50\n",
      "89/89 [==============================] - 1s 6ms/step - loss: 0.7098 - accuracy: 0.6762 - val_loss: 0.7123 - val_accuracy: 0.6178\n",
      "Epoch 17/50\n",
      "89/89 [==============================] - 1s 6ms/step - loss: 0.7039 - accuracy: 0.6695 - val_loss: 0.7111 - val_accuracy: 0.6115\n",
      "Epoch 18/50\n",
      "89/89 [==============================] - 1s 6ms/step - loss: 0.7077 - accuracy: 0.6787 - val_loss: 0.6987 - val_accuracy: 0.6529\n",
      "Epoch 19/50\n",
      "89/89 [==============================] - 1s 6ms/step - loss: 0.7011 - accuracy: 0.6816 - val_loss: 0.7047 - val_accuracy: 0.6338\n",
      "Epoch 20/50\n",
      "89/89 [==============================] - 0s 6ms/step - loss: 0.7039 - accuracy: 0.6770 - val_loss: 0.6975 - val_accuracy: 0.6624\n",
      "Epoch 21/50\n",
      "89/89 [==============================] - 1s 6ms/step - loss: 0.7013 - accuracy: 0.6780 - val_loss: 0.7238 - val_accuracy: 0.6051\n",
      "Epoch 22/50\n",
      "89/89 [==============================] - 1s 6ms/step - loss: 0.7036 - accuracy: 0.6730 - val_loss: 0.7268 - val_accuracy: 0.6051\n",
      "Epoch 23/50\n",
      "89/89 [==============================] - 1s 7ms/step - loss: 0.6981 - accuracy: 0.6823 - val_loss: 0.7089 - val_accuracy: 0.6369\n",
      "Epoch 24/50\n",
      "89/89 [==============================] - 1s 6ms/step - loss: 0.6945 - accuracy: 0.6798 - val_loss: 0.7114 - val_accuracy: 0.6115\n",
      "Epoch 25/50\n",
      "89/89 [==============================] - 1s 7ms/step - loss: 0.6897 - accuracy: 0.6858 - val_loss: 0.7110 - val_accuracy: 0.6274\n",
      "Epoch 26/50\n",
      "89/89 [==============================] - 1s 7ms/step - loss: 0.6925 - accuracy: 0.6851 - val_loss: 0.7270 - val_accuracy: 0.6146\n",
      "Epoch 27/50\n",
      "89/89 [==============================] - 1s 9ms/step - loss: 0.6947 - accuracy: 0.6755 - val_loss: 0.7422 - val_accuracy: 0.6019\n",
      "Epoch 28/50\n",
      "89/89 [==============================] - 1s 6ms/step - loss: 0.6976 - accuracy: 0.6869 - val_loss: 0.7034 - val_accuracy: 0.6433\n",
      "Epoch 29/50\n",
      "89/89 [==============================] - 1s 8ms/step - loss: 0.6865 - accuracy: 0.6894 - val_loss: 0.7013 - val_accuracy: 0.6401\n",
      "Epoch 30/50\n",
      "89/89 [==============================] - 1s 6ms/step - loss: 0.6862 - accuracy: 0.6911 - val_loss: 0.6976 - val_accuracy: 0.6561\n",
      "Epoch 31/50\n",
      "89/89 [==============================] - 1s 6ms/step - loss: 0.6858 - accuracy: 0.6830 - val_loss: 0.6900 - val_accuracy: 0.6465\n",
      "Epoch 32/50\n",
      "89/89 [==============================] - 1s 7ms/step - loss: 0.6840 - accuracy: 0.6844 - val_loss: 0.7448 - val_accuracy: 0.6115\n",
      "Epoch 33/50\n",
      "89/89 [==============================] - 1s 10ms/step - loss: 0.6856 - accuracy: 0.6911 - val_loss: 0.7031 - val_accuracy: 0.6083\n",
      "Epoch 34/50\n",
      "89/89 [==============================] - 1s 6ms/step - loss: 0.6833 - accuracy: 0.6805 - val_loss: 0.6914 - val_accuracy: 0.6497\n",
      "Epoch 35/50\n",
      "89/89 [==============================] - 1s 8ms/step - loss: 0.6830 - accuracy: 0.6784 - val_loss: 0.7091 - val_accuracy: 0.6401\n",
      "Epoch 36/50\n",
      "89/89 [==============================] - 1s 6ms/step - loss: 0.6802 - accuracy: 0.6830 - val_loss: 0.7095 - val_accuracy: 0.6338\n",
      "Epoch 37/50\n",
      "89/89 [==============================] - 1s 6ms/step - loss: 0.6769 - accuracy: 0.6855 - val_loss: 0.7024 - val_accuracy: 0.6306\n",
      "Epoch 38/50\n",
      "89/89 [==============================] - 1s 6ms/step - loss: 0.6742 - accuracy: 0.6940 - val_loss: 0.7000 - val_accuracy: 0.6465\n",
      "Epoch 39/50\n",
      "89/89 [==============================] - 1s 8ms/step - loss: 0.6742 - accuracy: 0.6887 - val_loss: 0.6999 - val_accuracy: 0.6592\n",
      "Epoch 40/50\n",
      "89/89 [==============================] - 1s 8ms/step - loss: 0.6747 - accuracy: 0.6929 - val_loss: 0.6903 - val_accuracy: 0.6529\n",
      "Epoch 41/50\n",
      "89/89 [==============================] - 1s 7ms/step - loss: 0.6743 - accuracy: 0.6904 - val_loss: 0.7006 - val_accuracy: 0.6274\n",
      "Epoch 42/50\n",
      "89/89 [==============================] - 1s 6ms/step - loss: 0.6719 - accuracy: 0.6879 - val_loss: 0.6968 - val_accuracy: 0.6178\n",
      "Epoch 43/50\n",
      "89/89 [==============================] - 1s 6ms/step - loss: 0.6768 - accuracy: 0.6972 - val_loss: 0.7100 - val_accuracy: 0.6338\n",
      "Epoch 44/50\n",
      "89/89 [==============================] - 1s 6ms/step - loss: 0.6695 - accuracy: 0.6926 - val_loss: 0.6985 - val_accuracy: 0.6433\n",
      "Epoch 45/50\n",
      "89/89 [==============================] - 1s 6ms/step - loss: 0.6631 - accuracy: 0.6929 - val_loss: 0.7006 - val_accuracy: 0.6401\n",
      "Epoch 46/50\n",
      "89/89 [==============================] - 1s 8ms/step - loss: 0.6660 - accuracy: 0.6879 - val_loss: 0.7280 - val_accuracy: 0.6115\n",
      "Epoch 47/50\n",
      "89/89 [==============================] - 1s 7ms/step - loss: 0.6649 - accuracy: 0.6968 - val_loss: 0.6908 - val_accuracy: 0.6369\n",
      "Epoch 48/50\n",
      "89/89 [==============================] - 1s 8ms/step - loss: 0.6666 - accuracy: 0.6911 - val_loss: 0.7024 - val_accuracy: 0.6338\n",
      "Epoch 49/50\n",
      "89/89 [==============================] - 0s 6ms/step - loss: 0.6629 - accuracy: 0.6972 - val_loss: 0.7127 - val_accuracy: 0.5955\n",
      "Epoch 50/50\n",
      "89/89 [==============================] - 0s 6ms/step - loss: 0.6581 - accuracy: 0.6957 - val_loss: 0.7126 - val_accuracy: 0.6019\n",
      "33/33 [==============================] - 0s 3ms/step\n"
     ]
    }
   ],
   "source": [
    "model_history=model.fit(x=X_ring_train, y=y_ring_train, epochs=50, batch_size=32, validation_split = 0.1, shuffle = True)\n",
    "pred_DL = model.predict(X_ring_test)\n",
    "\n",
    "y_test_class = np.argmax(y_ring_test,axis=1) # 배열에서 최댓값을 가지는 원소의 인덱스를 반환하는 함수\n",
    "y_pred_class = np.argmax(pred_DL,axis=1)"
   ]
  },
  {
   "cell_type": "code",
   "execution_count": 26,
   "id": "e28ec4d0-3087-45c1-832b-13a8df2b8bda",
   "metadata": {},
   "outputs": [
    {
     "data": {
      "image/png": "[encoded data removed]",
      "text/plain": [
       "<Figure size 640x480 with 1 Axes>"
      ]
     },
     "metadata": {},
     "output_type": "display_data"
    }
   ],
   "source": [
    "import matplotlib.pyplot as plt\n",
    "import seaborn as sns\n",
    "\n",
    "# 훈련 손실(training loss)과 검증 손실(validation loss) 추출\n",
    "loss = model_history.history['loss']\n",
    "val_loss = model_history.history['val_loss']\n",
    "\n",
    "# 에포크(epoch) 범위 생성\n",
    "epochs = range(1, len(loss) + 1)\n",
    "\n",
    "# 훈련 손실(training loss)과 검증 손실(validation loss) 시각화\n",
    "plt.plot(epochs, loss, 'y', label='Training loss')  # 훈련 손실을 노란색(yellow)으로 플롯\n",
    "plt.plot(epochs, val_loss, 'r', label='Validation loss')  # 검증 손실을 빨간색(red)으로 플롯\n",
    "plt.title('Training and validation loss')  # 그래프 제목 설정\n",
    "plt.xlabel('Epochs')  # x축 레이블 설정\n",
    "plt.ylabel('Loss')  # y축 레이블 설정\n",
    "plt.legend()  # 범례(legend) 표시\n",
    "plt.show()  # 그래프 출력"
   ]
  },
  {
   "cell_type": "code",
   "execution_count": 27,
   "id": "fd09d179-8ef7-4497-9483-669ab10d17ed",
   "metadata": {},
   "outputs": [
    {
     "data": {
      "image/png": "[encoded data removed]",
      "text/plain": [
       "<Figure size 640x480 with 1 Axes>"
      ]
     },
     "metadata": {},
     "output_type": "display_data"
    }
   ],
   "source": [
    "acc =model_history.history['accuracy']\n",
    "val_acc =model_history.history['val_accuracy']\n",
    "plt.plot(epochs, acc, 'y', label='Training acc')\n",
    "plt.plot(epochs, val_acc, 'r', label='Validation acc')\n",
    "plt.title('Training and validation accuracy')\n",
    "plt.xlabel('Epochs')\n",
    "plt.ylabel('Accuracy')\n",
    "plt.legend()\n",
    "plt.show()"
   ]
  },
  {
   "cell_type": "code",
   "execution_count": 28,
   "id": "4852bb60-6d2d-495d-a5af-ea7c7aafb55f",
   "metadata": {},
   "outputs": [
    {
     "name": "stdout",
     "output_type": "stream",
     "text": [
      "              precision    recall  f1-score   support\n",
      "\n",
      "           0       0.80      0.76      0.78       389\n",
      "           1       0.44      0.42      0.43       297\n",
      "           2       0.66      0.72      0.69       359\n",
      "\n",
      "    accuracy                           0.65      1045\n",
      "   macro avg       0.63      0.63      0.63      1045\n",
      "weighted avg       0.65      0.65      0.65      1045\n",
      "\n",
      "[[294  76  19]\n",
      " [ 58 125 114]\n",
      " [ 16  85 258]]\n"
     ]
    }
   ],
   "source": [
    "from sklearn.metrics import accuracy_score, confusion_matrix, classification_report\n",
    "#Accuracy of the predicted values\n",
    "print(classification_report(y_test_class, y_pred_class))\n",
    "print(confusion_matrix(y_test_class, y_pred_class))"
   ]
  },
  {
   "cell_type": "markdown",
   "id": "5678ece7-c04d-45d7-ba03-d9649b0263a8",
   "metadata": {},
   "source": [
    "---"
   ]
  },
  {
   "cell_type": "markdown",
   "id": "3b9662ab-c4cf-438b-9de6-a2b714cd180c",
   "metadata": {},
   "source": [
    "## 4. Make Pre-trained model"
   ]
  },
  {
   "cell_type": "code",
   "execution_count": 29,
   "id": "603587ef-5c4a-44c9-90a9-1bcd45efca75",
   "metadata": {},
   "outputs": [
    {
     "name": "stdout",
     "output_type": "stream",
     "text": [
      "33/33 [==============================] - 0s 4ms/step - loss: 0.7359 - accuracy: 0.6478\n",
      "model saved at  C:/Project/DeepLearning/Data/Abalone_model.h5\n",
      "Accuracy >64.784688\n",
      "Base Loss >0.74\n"
     ]
    },
    {
     "name": "stderr",
     "output_type": "stream",
     "text": [
      "C:\\Users\\최재인\\AppData\\Local\\Temp\\ipykernel_46992\\485659847.py:5: UserWarning: You are saving your model as an HDF5 file via `model.save()`. This file format is considered legacy. We recommend using instead the native Keras format, e.g. `model.save('my_model.keras')`.\n",
      "  tf.keras.models.save_model(model, model_file, include_optimizer=False)\n"
     ]
    }
   ],
   "source": [
    "base_loss,base_accuracy=model.evaluate(X_ring_test, y_ring_test)\n",
    "\n",
    "model_file='C:/Project/DeepLearning/Data/Abalone_model.h5'\n",
    "  \n",
    "tf.keras.models.save_model(model, model_file, include_optimizer=False)\n",
    "print('model saved at ', model_file)\n",
    "#score,keras_file=evaluate_model(trainX,trainy,testX,testy)\n",
    "score=base_accuracy*100\n",
    "print('Accuracy >{:f}'.format(score))\n",
    "print('Base Loss >{:.2f}'.format(base_loss))"
   ]
  },
  {
   "cell_type": "code",
   "execution_count": 30,
   "id": "5501c821-0c6a-49c2-9a4a-906d7a2d3009",
   "metadata": {},
   "outputs": [
    {
     "name": "stdout",
     "output_type": "stream",
     "text": [
      "WARNING:tensorflow:No training configuration found in the save file, so the model was *not* compiled. Compile it manually.\n"
     ]
    }
   ],
   "source": [
    "# Base 모델을 로드 (RA_Model.h5)\n",
    "from tensorflow.keras.models import load_model\n",
    "\n",
    "base_model = load_model(model_file)"
   ]
  },
  {
   "cell_type": "code",
   "execution_count": 32,
   "id": "4856493a-8174-4b6e-b64d-4613bb546137",
   "metadata": {},
   "outputs": [
    {
     "name": "stdout",
     "output_type": "stream",
     "text": [
      "Number of layers in the base model:  4\n"
     ]
    }
   ],
   "source": [
    "print(\"Number of layers in the base model: \", len(base_model.layers))"
   ]
  },
  {
   "cell_type": "markdown",
   "id": "ac2073b0-d80c-44ec-a51c-1f773698c151",
   "metadata": {},
   "source": [
    "---"
   ]
  },
  {
   "cell_type": "markdown",
   "id": "d009bb87-8d0b-4a03-a28c-e5dc4235574e",
   "metadata": {},
   "source": [
    "# Pre-trained model \n",
    "## abalone sex classification"
   ]
  },
  {
   "cell_type": "markdown",
   "id": "0fc11542-5224-4868-9df7-76a82ef478d1",
   "metadata": {},
   "source": [
    "만들어진 Pre-trained model로 이번에는 abalone의 성별을 예측하는 모델로 전이학습을 진행해보자."
   ]
  },
  {
   "cell_type": "markdown",
   "id": "8042d536-75bb-4c32-af39-c8ac324c5126",
   "metadata": {},
   "source": [
    "## 1. Data Load"
   ]
  },
  {
   "cell_type": "code",
   "execution_count": 34,
   "id": "5b7e79f9-efb1-41e9-a31d-d07dc830164e",
   "metadata": {},
   "outputs": [
    {
     "data": {
      "text/html": [
       "<div>\n",
       "<style scoped>\n",
       "    .dataframe tbody tr th:only-of-type {\n",
       "        vertical-align: middle;\n",
       "    }\n",
       "\n",
       "    .dataframe tbody tr th {\n",
       "        vertical-align: top;\n",
       "    }\n",
       "\n",
       "    .dataframe thead th {\n",
       "        text-align: right;\n",
       "    }\n",
       "</style>\n",
       "<table border=\"1\" class=\"dataframe\">\n",
       "  <thead>\n",
       "    <tr style=\"text-align: right;\">\n",
       "      <th></th>\n",
       "      <th>Sex</th>\n",
       "      <th>Length</th>\n",
       "      <th>Diameter</th>\n",
       "      <th>Height</th>\n",
       "      <th>Whole weight</th>\n",
       "      <th>Shucked weight</th>\n",
       "      <th>Viscera weight</th>\n",
       "      <th>Shell weight</th>\n",
       "      <th>Rings</th>\n",
       "      <th>Age</th>\n",
       "    </tr>\n",
       "  </thead>\n",
       "  <tbody>\n",
       "    <tr>\n",
       "      <th>0</th>\n",
       "      <td>2</td>\n",
       "      <td>0.455</td>\n",
       "      <td>0.365</td>\n",
       "      <td>0.095</td>\n",
       "      <td>0.5140</td>\n",
       "      <td>0.2245</td>\n",
       "      <td>0.1010</td>\n",
       "      <td>0.1500</td>\n",
       "      <td>15</td>\n",
       "      <td>16.5</td>\n",
       "    </tr>\n",
       "    <tr>\n",
       "      <th>1</th>\n",
       "      <td>2</td>\n",
       "      <td>0.350</td>\n",
       "      <td>0.265</td>\n",
       "      <td>0.090</td>\n",
       "      <td>0.2255</td>\n",
       "      <td>0.0995</td>\n",
       "      <td>0.0485</td>\n",
       "      <td>0.0700</td>\n",
       "      <td>7</td>\n",
       "      <td>8.5</td>\n",
       "    </tr>\n",
       "    <tr>\n",
       "      <th>2</th>\n",
       "      <td>0</td>\n",
       "      <td>0.530</td>\n",
       "      <td>0.420</td>\n",
       "      <td>0.135</td>\n",
       "      <td>0.6770</td>\n",
       "      <td>0.2565</td>\n",
       "      <td>0.1415</td>\n",
       "      <td>0.2100</td>\n",
       "      <td>9</td>\n",
       "      <td>10.5</td>\n",
       "    </tr>\n",
       "    <tr>\n",
       "      <th>3</th>\n",
       "      <td>2</td>\n",
       "      <td>0.440</td>\n",
       "      <td>0.365</td>\n",
       "      <td>0.125</td>\n",
       "      <td>0.5160</td>\n",
       "      <td>0.2155</td>\n",
       "      <td>0.1140</td>\n",
       "      <td>0.1550</td>\n",
       "      <td>10</td>\n",
       "      <td>11.5</td>\n",
       "    </tr>\n",
       "    <tr>\n",
       "      <th>4</th>\n",
       "      <td>1</td>\n",
       "      <td>0.330</td>\n",
       "      <td>0.255</td>\n",
       "      <td>0.080</td>\n",
       "      <td>0.2050</td>\n",
       "      <td>0.0895</td>\n",
       "      <td>0.0395</td>\n",
       "      <td>0.0550</td>\n",
       "      <td>7</td>\n",
       "      <td>8.5</td>\n",
       "    </tr>\n",
       "    <tr>\n",
       "      <th>...</th>\n",
       "      <td>...</td>\n",
       "      <td>...</td>\n",
       "      <td>...</td>\n",
       "      <td>...</td>\n",
       "      <td>...</td>\n",
       "      <td>...</td>\n",
       "      <td>...</td>\n",
       "      <td>...</td>\n",
       "      <td>...</td>\n",
       "      <td>...</td>\n",
       "    </tr>\n",
       "    <tr>\n",
       "      <th>4174</th>\n",
       "      <td>2</td>\n",
       "      <td>0.600</td>\n",
       "      <td>0.475</td>\n",
       "      <td>0.205</td>\n",
       "      <td>1.1760</td>\n",
       "      <td>0.5255</td>\n",
       "      <td>0.2875</td>\n",
       "      <td>0.3080</td>\n",
       "      <td>9</td>\n",
       "      <td>10.5</td>\n",
       "    </tr>\n",
       "    <tr>\n",
       "      <th>4175</th>\n",
       "      <td>0</td>\n",
       "      <td>0.625</td>\n",
       "      <td>0.485</td>\n",
       "      <td>0.150</td>\n",
       "      <td>1.0945</td>\n",
       "      <td>0.5310</td>\n",
       "      <td>0.2610</td>\n",
       "      <td>0.2960</td>\n",
       "      <td>10</td>\n",
       "      <td>11.5</td>\n",
       "    </tr>\n",
       "    <tr>\n",
       "      <th>4176</th>\n",
       "      <td>2</td>\n",
       "      <td>0.710</td>\n",
       "      <td>0.555</td>\n",
       "      <td>0.195</td>\n",
       "      <td>1.9485</td>\n",
       "      <td>0.9455</td>\n",
       "      <td>0.3765</td>\n",
       "      <td>0.4950</td>\n",
       "      <td>12</td>\n",
       "      <td>13.5</td>\n",
       "    </tr>\n",
       "    <tr>\n",
       "      <th>4177</th>\n",
       "      <td>1</td>\n",
       "      <td>0.075</td>\n",
       "      <td>0.055</td>\n",
       "      <td>0.010</td>\n",
       "      <td>0.0020</td>\n",
       "      <td>0.0010</td>\n",
       "      <td>0.0005</td>\n",
       "      <td>0.0015</td>\n",
       "      <td>0</td>\n",
       "      <td>1.5</td>\n",
       "    </tr>\n",
       "    <tr>\n",
       "      <th>4178</th>\n",
       "      <td>0</td>\n",
       "      <td>0.700</td>\n",
       "      <td>0.585</td>\n",
       "      <td>0.185</td>\n",
       "      <td>1.8075</td>\n",
       "      <td>0.7055</td>\n",
       "      <td>0.3215</td>\n",
       "      <td>0.4750</td>\n",
       "      <td>28</td>\n",
       "      <td>29.5</td>\n",
       "    </tr>\n",
       "  </tbody>\n",
       "</table>\n",
       "<p>4179 rows × 10 columns</p>\n",
       "</div>"
      ],
      "text/plain": [
       "      Sex  Length  Diameter  Height  Whole weight  Shucked weight  \\\n",
       "0       2   0.455     0.365   0.095        0.5140          0.2245   \n",
       "1       2   0.350     0.265   0.090        0.2255          0.0995   \n",
       "2       0   0.530     0.420   0.135        0.6770          0.2565   \n",
       "3       2   0.440     0.365   0.125        0.5160          0.2155   \n",
       "4       1   0.330     0.255   0.080        0.2050          0.0895   \n",
       "...   ...     ...       ...     ...           ...             ...   \n",
       "4174    2   0.600     0.475   0.205        1.1760          0.5255   \n",
       "4175    0   0.625     0.485   0.150        1.0945          0.5310   \n",
       "4176    2   0.710     0.555   0.195        1.9485          0.9455   \n",
       "4177    1   0.075     0.055   0.010        0.0020          0.0010   \n",
       "4178    0   0.700     0.585   0.185        1.8075          0.7055   \n",
       "\n",
       "      Viscera weight  Shell weight  Rings   Age  \n",
       "0             0.1010        0.1500     15  16.5  \n",
       "1             0.0485        0.0700      7   8.5  \n",
       "2             0.1415        0.2100      9  10.5  \n",
       "3             0.1140        0.1550     10  11.5  \n",
       "4             0.0395        0.0550      7   8.5  \n",
       "...              ...           ...    ...   ...  \n",
       "4174          0.2875        0.3080      9  10.5  \n",
       "4175          0.2610        0.2960     10  11.5  \n",
       "4176          0.3765        0.4950     12  13.5  \n",
       "4177          0.0005        0.0015      0   1.5  \n",
       "4178          0.3215        0.4750     28  29.5  \n",
       "\n",
       "[4179 rows x 10 columns]"
      ]
     },
     "execution_count": 34,
     "metadata": {},
     "output_type": "execute_result"
    }
   ],
   "source": [
    "df"
   ]
  },
  {
   "cell_type": "code",
   "execution_count": 37,
   "id": "e8bad5c9-e41f-40e7-ad81-edc54cc8ee1a",
   "metadata": {},
   "outputs": [
    {
     "data": {
      "text/html": [
       "<div>\n",
       "<style scoped>\n",
       "    .dataframe tbody tr th:only-of-type {\n",
       "        vertical-align: middle;\n",
       "    }\n",
       "\n",
       "    .dataframe tbody tr th {\n",
       "        vertical-align: top;\n",
       "    }\n",
       "\n",
       "    .dataframe thead th {\n",
       "        text-align: right;\n",
       "    }\n",
       "</style>\n",
       "<table border=\"1\" class=\"dataframe\">\n",
       "  <thead>\n",
       "    <tr style=\"text-align: right;\">\n",
       "      <th></th>\n",
       "      <th>Length</th>\n",
       "      <th>Diameter</th>\n",
       "      <th>Height</th>\n",
       "      <th>Whole weight</th>\n",
       "      <th>Shucked weight</th>\n",
       "      <th>Viscera weight</th>\n",
       "      <th>Shell weight</th>\n",
       "    </tr>\n",
       "  </thead>\n",
       "  <tbody>\n",
       "    <tr>\n",
       "      <th>0</th>\n",
       "      <td>0.455</td>\n",
       "      <td>0.365</td>\n",
       "      <td>0.095</td>\n",
       "      <td>0.5140</td>\n",
       "      <td>0.2245</td>\n",
       "      <td>0.1010</td>\n",
       "      <td>0.150</td>\n",
       "    </tr>\n",
       "    <tr>\n",
       "      <th>1</th>\n",
       "      <td>0.350</td>\n",
       "      <td>0.265</td>\n",
       "      <td>0.090</td>\n",
       "      <td>0.2255</td>\n",
       "      <td>0.0995</td>\n",
       "      <td>0.0485</td>\n",
       "      <td>0.070</td>\n",
       "    </tr>\n",
       "    <tr>\n",
       "      <th>2</th>\n",
       "      <td>0.530</td>\n",
       "      <td>0.420</td>\n",
       "      <td>0.135</td>\n",
       "      <td>0.6770</td>\n",
       "      <td>0.2565</td>\n",
       "      <td>0.1415</td>\n",
       "      <td>0.210</td>\n",
       "    </tr>\n",
       "    <tr>\n",
       "      <th>3</th>\n",
       "      <td>0.440</td>\n",
       "      <td>0.365</td>\n",
       "      <td>0.125</td>\n",
       "      <td>0.5160</td>\n",
       "      <td>0.2155</td>\n",
       "      <td>0.1140</td>\n",
       "      <td>0.155</td>\n",
       "    </tr>\n",
       "    <tr>\n",
       "      <th>4</th>\n",
       "      <td>0.330</td>\n",
       "      <td>0.255</td>\n",
       "      <td>0.080</td>\n",
       "      <td>0.2050</td>\n",
       "      <td>0.0895</td>\n",
       "      <td>0.0395</td>\n",
       "      <td>0.055</td>\n",
       "    </tr>\n",
       "  </tbody>\n",
       "</table>\n",
       "</div>"
      ],
      "text/plain": [
       "   Length  Diameter  Height  Whole weight  Shucked weight  Viscera weight  \\\n",
       "0   0.455     0.365   0.095        0.5140          0.2245          0.1010   \n",
       "1   0.350     0.265   0.090        0.2255          0.0995          0.0485   \n",
       "2   0.530     0.420   0.135        0.6770          0.2565          0.1415   \n",
       "3   0.440     0.365   0.125        0.5160          0.2155          0.1140   \n",
       "4   0.330     0.255   0.080        0.2050          0.0895          0.0395   \n",
       "\n",
       "   Shell weight  \n",
       "0         0.150  \n",
       "1         0.070  \n",
       "2         0.210  \n",
       "3         0.155  \n",
       "4         0.055  "
      ]
     },
     "execution_count": 37,
     "metadata": {},
     "output_type": "execute_result"
    }
   ],
   "source": [
    "X_sex=df.drop(['Sex', 'Age', 'Rings'], axis=1)\n",
    "\n",
    "X_sex.head()\n",
    "# head()는 첫 5행만 출력함."
   ]
  },
  {
   "cell_type": "code",
   "execution_count": 38,
   "id": "b8434ab4-46af-40c7-b66e-6b2aa2484109",
   "metadata": {},
   "outputs": [
    {
     "data": {
      "text/plain": [
       "Sex\n",
       "0    1308\n",
       "1    1343\n",
       "2    1528\n",
       "Name: count, dtype: int64"
      ]
     },
     "execution_count": 38,
     "metadata": {},
     "output_type": "execute_result"
    }
   ],
   "source": [
    "y_sex = df['Sex']\n",
    "y_sex.value_counts().sort_index(ascending=True)"
   ]
  },
  {
   "cell_type": "code",
   "execution_count": 39,
   "id": "b648dee9-dc8d-4ab8-90e3-a8f59fb6ee44",
   "metadata": {},
   "outputs": [
    {
     "data": {
      "text/plain": [
       "array([[False, False,  True],\n",
       "       [False, False,  True],\n",
       "       [ True, False, False],\n",
       "       ...,\n",
       "       [False, False,  True],\n",
       "       [False,  True, False],\n",
       "       [ True, False, False]])"
      ]
     },
     "execution_count": 39,
     "metadata": {},
     "output_type": "execute_result"
    }
   ],
   "source": [
    "#one hot encoding 하기\n",
    "\n",
    "y_sex = pd.get_dummies(y_sex).values\n",
    "y_sex"
   ]
  },
  {
   "cell_type": "markdown",
   "id": "21ce0984-8703-4fed-8e00-5fb04a192573",
   "metadata": {},
   "source": [
    "## 2. Train Test Split "
   ]
  },
  {
   "cell_type": "code",
   "execution_count": 41,
   "id": "d5e08f9f-42a7-4c61-b1ff-8cd7e39be7f1",
   "metadata": {},
   "outputs": [
    {
     "data": {
      "text/html": [
       "<div>\n",
       "<style scoped>\n",
       "    .dataframe tbody tr th:only-of-type {\n",
       "        vertical-align: middle;\n",
       "    }\n",
       "\n",
       "    .dataframe tbody tr th {\n",
       "        vertical-align: top;\n",
       "    }\n",
       "\n",
       "    .dataframe thead th {\n",
       "        text-align: right;\n",
       "    }\n",
       "</style>\n",
       "<table border=\"1\" class=\"dataframe\">\n",
       "  <thead>\n",
       "    <tr style=\"text-align: right;\">\n",
       "      <th></th>\n",
       "      <th>Length</th>\n",
       "      <th>Diameter</th>\n",
       "      <th>Height</th>\n",
       "      <th>Whole weight</th>\n",
       "      <th>Shucked weight</th>\n",
       "      <th>Viscera weight</th>\n",
       "      <th>Shell weight</th>\n",
       "    </tr>\n",
       "  </thead>\n",
       "  <tbody>\n",
       "    <tr>\n",
       "      <th>2788</th>\n",
       "      <td>0.615</td>\n",
       "      <td>0.460</td>\n",
       "      <td>0.150</td>\n",
       "      <td>1.0265</td>\n",
       "      <td>0.4935</td>\n",
       "      <td>0.2010</td>\n",
       "      <td>0.2745</td>\n",
       "    </tr>\n",
       "    <tr>\n",
       "      <th>1752</th>\n",
       "      <td>0.710</td>\n",
       "      <td>0.560</td>\n",
       "      <td>0.220</td>\n",
       "      <td>2.0150</td>\n",
       "      <td>0.9215</td>\n",
       "      <td>0.4540</td>\n",
       "      <td>0.5660</td>\n",
       "    </tr>\n",
       "    <tr>\n",
       "      <th>2224</th>\n",
       "      <td>0.550</td>\n",
       "      <td>0.425</td>\n",
       "      <td>0.145</td>\n",
       "      <td>0.7970</td>\n",
       "      <td>0.2970</td>\n",
       "      <td>0.1500</td>\n",
       "      <td>0.2650</td>\n",
       "    </tr>\n",
       "    <tr>\n",
       "      <th>3389</th>\n",
       "      <td>0.565</td>\n",
       "      <td>0.465</td>\n",
       "      <td>0.150</td>\n",
       "      <td>1.1285</td>\n",
       "      <td>0.3770</td>\n",
       "      <td>0.3525</td>\n",
       "      <td>0.3300</td>\n",
       "    </tr>\n",
       "    <tr>\n",
       "      <th>3851</th>\n",
       "      <td>0.560</td>\n",
       "      <td>0.440</td>\n",
       "      <td>0.130</td>\n",
       "      <td>0.8255</td>\n",
       "      <td>0.2425</td>\n",
       "      <td>0.2020</td>\n",
       "      <td>0.2850</td>\n",
       "    </tr>\n",
       "    <tr>\n",
       "      <th>...</th>\n",
       "      <td>...</td>\n",
       "      <td>...</td>\n",
       "      <td>...</td>\n",
       "      <td>...</td>\n",
       "      <td>...</td>\n",
       "      <td>...</td>\n",
       "      <td>...</td>\n",
       "    </tr>\n",
       "    <tr>\n",
       "      <th>1033</th>\n",
       "      <td>0.650</td>\n",
       "      <td>0.525</td>\n",
       "      <td>0.185</td>\n",
       "      <td>1.6220</td>\n",
       "      <td>0.6645</td>\n",
       "      <td>0.3225</td>\n",
       "      <td>0.4770</td>\n",
       "    </tr>\n",
       "    <tr>\n",
       "      <th>3264</th>\n",
       "      <td>0.655</td>\n",
       "      <td>0.500</td>\n",
       "      <td>0.140</td>\n",
       "      <td>1.1705</td>\n",
       "      <td>0.5405</td>\n",
       "      <td>0.3175</td>\n",
       "      <td>0.2850</td>\n",
       "    </tr>\n",
       "    <tr>\n",
       "      <th>1653</th>\n",
       "      <td>0.595</td>\n",
       "      <td>0.450</td>\n",
       "      <td>0.145</td>\n",
       "      <td>0.9590</td>\n",
       "      <td>0.4630</td>\n",
       "      <td>0.2065</td>\n",
       "      <td>0.2535</td>\n",
       "    </tr>\n",
       "    <tr>\n",
       "      <th>2607</th>\n",
       "      <td>0.625</td>\n",
       "      <td>0.490</td>\n",
       "      <td>0.165</td>\n",
       "      <td>1.1270</td>\n",
       "      <td>0.4770</td>\n",
       "      <td>0.2365</td>\n",
       "      <td>0.3185</td>\n",
       "    </tr>\n",
       "    <tr>\n",
       "      <th>2732</th>\n",
       "      <td>0.410</td>\n",
       "      <td>0.325</td>\n",
       "      <td>0.110</td>\n",
       "      <td>0.3260</td>\n",
       "      <td>0.1325</td>\n",
       "      <td>0.0750</td>\n",
       "      <td>0.1010</td>\n",
       "    </tr>\n",
       "  </tbody>\n",
       "</table>\n",
       "<p>3134 rows × 7 columns</p>\n",
       "</div>"
      ],
      "text/plain": [
       "      Length  Diameter  Height  Whole weight  Shucked weight  Viscera weight  \\\n",
       "2788   0.615     0.460   0.150        1.0265          0.4935          0.2010   \n",
       "1752   0.710     0.560   0.220        2.0150          0.9215          0.4540   \n",
       "2224   0.550     0.425   0.145        0.7970          0.2970          0.1500   \n",
       "3389   0.565     0.465   0.150        1.1285          0.3770          0.3525   \n",
       "3851   0.560     0.440   0.130        0.8255          0.2425          0.2020   \n",
       "...      ...       ...     ...           ...             ...             ...   \n",
       "1033   0.650     0.525   0.185        1.6220          0.6645          0.3225   \n",
       "3264   0.655     0.500   0.140        1.1705          0.5405          0.3175   \n",
       "1653   0.595     0.450   0.145        0.9590          0.4630          0.2065   \n",
       "2607   0.625     0.490   0.165        1.1270          0.4770          0.2365   \n",
       "2732   0.410     0.325   0.110        0.3260          0.1325          0.0750   \n",
       "\n",
       "      Shell weight  \n",
       "2788        0.2745  \n",
       "1752        0.5660  \n",
       "2224        0.2650  \n",
       "3389        0.3300  \n",
       "3851        0.2850  \n",
       "...            ...  \n",
       "1033        0.4770  \n",
       "3264        0.2850  \n",
       "1653        0.2535  \n",
       "2607        0.3185  \n",
       "2732        0.1010  \n",
       "\n",
       "[3134 rows x 7 columns]"
      ]
     },
     "execution_count": 41,
     "metadata": {},
     "output_type": "execute_result"
    }
   ],
   "source": [
    "from sklearn.model_selection import train_test_split\n",
    "\n",
    "X_sex_train, X_sex_test, y_sex_train, y_sex_test = train_test_split(X_sex, y_sex, test_size=0.25, random_state=0)\n",
    "# random_state는 데이터를 무작위로 나누거나 섞을 때 사용되는 난수 발생기의 시드(seed) 값\n",
    "X_sex_train"
   ]
  },
  {
   "cell_type": "code",
   "execution_count": 42,
   "id": "d5b7f60c-3c49-4331-b2ee-5a7088ffee6a",
   "metadata": {},
   "outputs": [],
   "source": [
    "# Scale X\n",
    "scaler = StandardScaler()\n",
    "scaler.fit(X_ring_train)\n",
    "X_sex_train = pd.DataFrame(scaler.transform(X_sex_train), columns=X_sex.columns)\n",
    "X_sex_test = pd.DataFrame(scaler.transform(X_sex_test), columns=X_sex.columns)"
   ]
  },
  {
   "cell_type": "code",
   "execution_count": 44,
   "id": "388327a1-9265-4971-8d2f-4c104281bdeb",
   "metadata": {},
   "outputs": [
    {
     "data": {
      "text/plain": [
       "7"
      ]
     },
     "execution_count": 44,
     "metadata": {},
     "output_type": "execute_result"
    }
   ],
   "source": [
    "X_sex_test.shape[1]"
   ]
  },
  {
   "cell_type": "code",
   "execution_count": 45,
   "id": "20c0bc63-a49b-4983-8611-40badca2c354",
   "metadata": {},
   "outputs": [
    {
     "data": {
      "text/plain": [
       "3"
      ]
     },
     "execution_count": 45,
     "metadata": {},
     "output_type": "execute_result"
    }
   ],
   "source": [
    "y_sex_test.shape[1]"
   ]
  },
  {
   "cell_type": "markdown",
   "id": "bd67aa26-890d-4343-abf2-64396fb3b19c",
   "metadata": {},
   "source": [
    "## 3. Make Dense Layer"
   ]
  },
  {
   "cell_type": "code",
   "execution_count": 46,
   "id": "e8e64a68-116c-4045-88e8-e0cfba4c2391",
   "metadata": {},
   "outputs": [],
   "source": [
    "# 기존 모델의 층을 동결 (학습되지 않도록 설정)\n",
    "base_model.trainable = False"
   ]
  },
  {
   "cell_type": "code",
   "execution_count": 56,
   "id": "3632fb37-4d8a-4eb9-903b-fa00a41a8ed8",
   "metadata": {},
   "outputs": [
    {
     "name": "stdout",
     "output_type": "stream",
     "text": [
      "Model: \"sequential_4\"\n",
      "_________________________________________________________________\n",
      " Layer (type)                Output Shape              Param #   \n",
      "=================================================================\n",
      " dense (Dense)               (None, 128)               1024      \n",
      "                                                                 \n",
      " dense_1 (Dense)             (None, 128)               16512     \n",
      "                                                                 \n",
      " dense_7 (Dense)             (None, 128)               16512     \n",
      "                                                                 \n",
      " dense_8 (Dense)             (None, 3)                 387       \n",
      "                                                                 \n",
      "=================================================================\n",
      "Total params: 34435 (134.51 KB)\n",
      "Trainable params: 16899 (66.01 KB)\n",
      "Non-trainable params: 17536 (68.50 KB)\n",
      "_________________________________________________________________\n"
     ]
    }
   ],
   "source": [
    "from tensorflow.keras.applications import VGG16\n",
    "from tensorflow.keras import layers, models\n",
    "\n",
    "def remove_last_layers(model, num_layers_to_remove):\n",
    "    # 모델의 레이어를 하나씩 슬라이스해서 앞의 레이어만 가져옴\n",
    "    model_layers = model.layers[:-num_layers_to_remove]  # 마지막 레이어부터 지정된 갯수만큼 제외\n",
    "    new_model = models.Sequential(model_layers)  # 새로운 모델에 해당 레이어들만 추가\n",
    "    return new_model\n",
    "\n",
    "\n",
    "# LA모델의 출력층부터 1개의 레이어를 삭제 -> 출력층을 RA에 맞게 변경한다 (전이학습)\n",
    "new_model = remove_last_layers(base_model, 1)\n",
    "\n",
    "# 새로운 출력층 추가\n",
    "new_model.add(layers.Dense(128, activation='relu'))\n",
    "new_model.add(layers.Dense(y_sex_test.shape[1], activation='softmax'))  # 예: 10개의 클래스\n",
    "new_model.compile(optimizer='adam', metrics=['accuracy'], loss='categorical_crossentropy')\n",
    "\n",
    "# 모델 요약 출력\n",
    "new_model.summary()"
   ]
  },
  {
   "cell_type": "code",
   "execution_count": 57,
   "id": "fd45d3e4-b94b-4aec-acb9-4e0d7a8f26de",
   "metadata": {},
   "outputs": [
    {
     "name": "stdout",
     "output_type": "stream",
     "text": [
      "Epoch 1/50\n",
      "89/89 [==============================] - 1s 6ms/step - loss: 0.7593 - accuracy: 0.6443 - val_loss: 0.8627 - val_accuracy: 0.5446\n",
      "Epoch 2/50\n",
      "89/89 [==============================] - 1s 7ms/step - loss: 0.7585 - accuracy: 0.6369 - val_loss: 0.8504 - val_accuracy: 0.5478\n",
      "Epoch 3/50\n",
      "89/89 [==============================] - 1s 6ms/step - loss: 0.7582 - accuracy: 0.6415 - val_loss: 0.8400 - val_accuracy: 0.5669\n",
      "Epoch 4/50\n",
      "89/89 [==============================] - 1s 8ms/step - loss: 0.7610 - accuracy: 0.6376 - val_loss: 0.8757 - val_accuracy: 0.5255\n",
      "Epoch 5/50\n",
      "89/89 [==============================] - 1s 8ms/step - loss: 0.7544 - accuracy: 0.6397 - val_loss: 0.8813 - val_accuracy: 0.5573\n",
      "Epoch 6/50\n",
      "89/89 [==============================] - 1s 9ms/step - loss: 0.7525 - accuracy: 0.6415 - val_loss: 0.8507 - val_accuracy: 0.5541\n",
      "Epoch 7/50\n",
      "89/89 [==============================] - 0s 5ms/step - loss: 0.7532 - accuracy: 0.6337 - val_loss: 0.8544 - val_accuracy: 0.5478\n",
      "Epoch 8/50\n",
      "89/89 [==============================] - 1s 7ms/step - loss: 0.7512 - accuracy: 0.6465 - val_loss: 0.8685 - val_accuracy: 0.5414\n",
      "Epoch 9/50\n",
      "89/89 [==============================] - 0s 5ms/step - loss: 0.7460 - accuracy: 0.6486 - val_loss: 0.8605 - val_accuracy: 0.5382\n",
      "Epoch 10/50\n",
      "89/89 [==============================] - 1s 8ms/step - loss: 0.7473 - accuracy: 0.6415 - val_loss: 0.8498 - val_accuracy: 0.5605\n",
      "Epoch 11/50\n",
      "89/89 [==============================] - 1s 9ms/step - loss: 0.7504 - accuracy: 0.6404 - val_loss: 0.8398 - val_accuracy: 0.5573\n",
      "Epoch 12/50\n",
      "89/89 [==============================] - 1s 9ms/step - loss: 0.7396 - accuracy: 0.6486 - val_loss: 0.8597 - val_accuracy: 0.5223\n",
      "Epoch 13/50\n",
      "89/89 [==============================] - 1s 9ms/step - loss: 0.7420 - accuracy: 0.6450 - val_loss: 0.8592 - val_accuracy: 0.5510\n",
      "Epoch 14/50\n",
      "89/89 [==============================] - 1s 9ms/step - loss: 0.7378 - accuracy: 0.6461 - val_loss: 0.8784 - val_accuracy: 0.5350\n",
      "Epoch 15/50\n",
      "89/89 [==============================] - 1s 8ms/step - loss: 0.7399 - accuracy: 0.6401 - val_loss: 0.8516 - val_accuracy: 0.5828\n",
      "Epoch 16/50\n",
      "89/89 [==============================] - 1s 6ms/step - loss: 0.7372 - accuracy: 0.6504 - val_loss: 0.8693 - val_accuracy: 0.5414\n",
      "Epoch 17/50\n",
      "89/89 [==============================] - 0s 5ms/step - loss: 0.7373 - accuracy: 0.6521 - val_loss: 0.8500 - val_accuracy: 0.5446\n",
      "Epoch 18/50\n",
      "89/89 [==============================] - 0s 5ms/step - loss: 0.7344 - accuracy: 0.6560 - val_loss: 0.8564 - val_accuracy: 0.5478\n",
      "Epoch 19/50\n",
      "89/89 [==============================] - 0s 5ms/step - loss: 0.7313 - accuracy: 0.6550 - val_loss: 0.8674 - val_accuracy: 0.5701\n",
      "Epoch 20/50\n",
      "89/89 [==============================] - 0s 5ms/step - loss: 0.7321 - accuracy: 0.6543 - val_loss: 0.8568 - val_accuracy: 0.5510\n",
      "Epoch 21/50\n",
      "89/89 [==============================] - 0s 5ms/step - loss: 0.7290 - accuracy: 0.6532 - val_loss: 0.8735 - val_accuracy: 0.5223\n",
      "Epoch 22/50\n",
      "89/89 [==============================] - 0s 5ms/step - loss: 0.7242 - accuracy: 0.6638 - val_loss: 0.8823 - val_accuracy: 0.5701\n",
      "Epoch 23/50\n",
      "89/89 [==============================] - 0s 5ms/step - loss: 0.7299 - accuracy: 0.6635 - val_loss: 0.8847 - val_accuracy: 0.5510\n",
      "Epoch 24/50\n",
      "89/89 [==============================] - 0s 5ms/step - loss: 0.7309 - accuracy: 0.6585 - val_loss: 0.8818 - val_accuracy: 0.5573\n",
      "Epoch 25/50\n",
      "89/89 [==============================] - 0s 5ms/step - loss: 0.7353 - accuracy: 0.6574 - val_loss: 0.8635 - val_accuracy: 0.5414\n",
      "Epoch 26/50\n",
      "89/89 [==============================] - 0s 5ms/step - loss: 0.7400 - accuracy: 0.6532 - val_loss: 0.8572 - val_accuracy: 0.5924\n",
      "Epoch 27/50\n",
      "89/89 [==============================] - 0s 5ms/step - loss: 0.7201 - accuracy: 0.6695 - val_loss: 0.8569 - val_accuracy: 0.5764\n",
      "Epoch 28/50\n",
      "89/89 [==============================] - 1s 9ms/step - loss: 0.7184 - accuracy: 0.6635 - val_loss: 0.8833 - val_accuracy: 0.5510\n",
      "Epoch 29/50\n",
      "89/89 [==============================] - 1s 8ms/step - loss: 0.7191 - accuracy: 0.6649 - val_loss: 0.8640 - val_accuracy: 0.5669\n",
      "Epoch 30/50\n",
      "89/89 [==============================] - 1s 9ms/step - loss: 0.7207 - accuracy: 0.6638 - val_loss: 0.8765 - val_accuracy: 0.5382\n",
      "Epoch 31/50\n",
      "89/89 [==============================] - 1s 8ms/step - loss: 0.7125 - accuracy: 0.6713 - val_loss: 0.8738 - val_accuracy: 0.5510\n",
      "Epoch 32/50\n",
      "89/89 [==============================] - 1s 9ms/step - loss: 0.7181 - accuracy: 0.6688 - val_loss: 0.8736 - val_accuracy: 0.5510\n",
      "Epoch 33/50\n",
      "89/89 [==============================] - 1s 6ms/step - loss: 0.7109 - accuracy: 0.6695 - val_loss: 0.8520 - val_accuracy: 0.5732\n",
      "Epoch 34/50\n",
      "89/89 [==============================] - 0s 5ms/step - loss: 0.7076 - accuracy: 0.6695 - val_loss: 0.8701 - val_accuracy: 0.5287\n",
      "Epoch 35/50\n",
      "89/89 [==============================] - 1s 6ms/step - loss: 0.7198 - accuracy: 0.6670 - val_loss: 0.8599 - val_accuracy: 0.5541\n",
      "Epoch 36/50\n",
      "89/89 [==============================] - 1s 7ms/step - loss: 0.7143 - accuracy: 0.6723 - val_loss: 0.8914 - val_accuracy: 0.5605\n",
      "Epoch 37/50\n",
      "89/89 [==============================] - 1s 6ms/step - loss: 0.7081 - accuracy: 0.6720 - val_loss: 0.8661 - val_accuracy: 0.6051\n",
      "Epoch 38/50\n",
      "89/89 [==============================] - 1s 6ms/step - loss: 0.7089 - accuracy: 0.6723 - val_loss: 0.8811 - val_accuracy: 0.5637\n",
      "Epoch 39/50\n",
      "89/89 [==============================] - 1s 6ms/step - loss: 0.7010 - accuracy: 0.6777 - val_loss: 0.8780 - val_accuracy: 0.5510\n",
      "Epoch 40/50\n",
      "89/89 [==============================] - 1s 6ms/step - loss: 0.6976 - accuracy: 0.6762 - val_loss: 0.8790 - val_accuracy: 0.5573\n",
      "Epoch 41/50\n",
      "89/89 [==============================] - 1s 8ms/step - loss: 0.6986 - accuracy: 0.6716 - val_loss: 0.8792 - val_accuracy: 0.5796\n",
      "Epoch 42/50\n",
      "89/89 [==============================] - 1s 7ms/step - loss: 0.6942 - accuracy: 0.6787 - val_loss: 0.8692 - val_accuracy: 0.5732\n",
      "Epoch 43/50\n",
      "89/89 [==============================] - 1s 7ms/step - loss: 0.7010 - accuracy: 0.6752 - val_loss: 0.8861 - val_accuracy: 0.5764\n",
      "Epoch 44/50\n",
      "89/89 [==============================] - 1s 7ms/step - loss: 0.6894 - accuracy: 0.6780 - val_loss: 0.8639 - val_accuracy: 0.5764\n",
      "Epoch 45/50\n",
      "89/89 [==============================] - 1s 8ms/step - loss: 0.6932 - accuracy: 0.6738 - val_loss: 0.8703 - val_accuracy: 0.5732\n",
      "Epoch 46/50\n",
      "89/89 [==============================] - 1s 7ms/step - loss: 0.6893 - accuracy: 0.6770 - val_loss: 0.8909 - val_accuracy: 0.5796\n",
      "Epoch 47/50\n",
      "89/89 [==============================] - 1s 7ms/step - loss: 0.6900 - accuracy: 0.6798 - val_loss: 0.8807 - val_accuracy: 0.5796\n",
      "Epoch 48/50\n",
      "89/89 [==============================] - 1s 8ms/step - loss: 0.6899 - accuracy: 0.6897 - val_loss: 0.8785 - val_accuracy: 0.5732\n",
      "Epoch 49/50\n",
      "89/89 [==============================] - 1s 8ms/step - loss: 0.6846 - accuracy: 0.6816 - val_loss: 0.8901 - val_accuracy: 0.5764\n",
      "Epoch 50/50\n",
      "89/89 [==============================] - 0s 5ms/step - loss: 0.6896 - accuracy: 0.6851 - val_loss: 0.8934 - val_accuracy: 0.5796\n",
      "33/33 [==============================] - 0s 3ms/step\n"
     ]
    }
   ],
   "source": [
    "model_history=model.fit(x=X_sex_train, y=y_sex_train, epochs=50, batch_size=32, validation_split = 0.1, shuffle = True)\n",
    "pred_DL = model.predict(X_sex_test)\n",
    "\n",
    "y_test_class = np.argmax(y_sex_test,axis=1) # 배열에서 최댓값을 가지는 원소의 인덱스를 반환하는 함수\n",
    "y_pred_class = np.argmax(pred_DL,axis=1)"
   ]
  },
  {
   "cell_type": "markdown",
   "id": "9ca0e70c-3b17-4529-b086-34856dab13ca",
   "metadata": {},
   "source": [
    "---"
   ]
  },
  {
   "cell_type": "code",
   "execution_count": 58,
   "id": "0e2da362-f2ef-4271-bad6-cf7881e27dc2",
   "metadata": {},
   "outputs": [
    {
     "data": {
      "image/png": "[encoded data removed]",
      "text/plain": [
       "<Figure size 640x480 with 1 Axes>"
      ]
     },
     "metadata": {},
     "output_type": "display_data"
    }
   ],
   "source": [
    "import matplotlib.pyplot as plt\n",
    "import seaborn as sns\n",
    "\n",
    "# 훈련 손실(training loss)과 검증 손실(validation loss) 추출\n",
    "loss = model_history.history['loss']\n",
    "val_loss = model_history.history['val_loss']\n",
    "\n",
    "# 에포크(epoch) 범위 생성\n",
    "epochs = range(1, len(loss) + 1)\n",
    "\n",
    "# 훈련 손실(training loss)과 검증 손실(validation loss) 시각화\n",
    "plt.plot(epochs, loss, 'y', label='Training loss')  # 훈련 손실을 노란색(yellow)으로 플롯\n",
    "plt.plot(epochs, val_loss, 'r', label='Validation loss')  # 검증 손실을 빨간색(red)으로 플롯\n",
    "plt.title('Training and validation loss')  # 그래프 제목 설정\n",
    "plt.xlabel('Epochs')  # x축 레이블 설정\n",
    "plt.ylabel('Loss')  # y축 레이블 설정\n",
    "plt.legend()  # 범례(legend) 표시\n",
    "plt.show()  # 그래프 출력"
   ]
  },
  {
   "cell_type": "code",
   "execution_count": 59,
   "id": "7a7f4d16-6986-40cd-8043-5621c194bbe1",
   "metadata": {},
   "outputs": [
    {
     "data": {
      "image/png": "[encoded data removed]",
      "text/plain": [
       "<Figure size 640x480 with 1 Axes>"
      ]
     },
     "metadata": {},
     "output_type": "display_data"
    }
   ],
   "source": [
    "acc =model_history.history['accuracy']\n",
    "val_acc =model_history.history['val_accuracy']\n",
    "plt.plot(epochs, acc, 'y', label='Training acc')\n",
    "plt.plot(epochs, val_acc, 'r', label='Validation acc')\n",
    "plt.title('Training and validation accuracy')\n",
    "plt.xlabel('Epochs')\n",
    "plt.ylabel('Accuracy')\n",
    "plt.legend()\n",
    "plt.show()"
   ]
  },
  {
   "cell_type": "code",
   "execution_count": 60,
   "id": "6817e11a-d428-4091-bf94-3f07c58974d5",
   "metadata": {},
   "outputs": [
    {
     "name": "stdout",
     "output_type": "stream",
     "text": [
      "              precision    recall  f1-score   support\n",
      "\n",
      "           0       0.42      0.39      0.40       324\n",
      "           1       0.67      0.80      0.73       368\n",
      "           2       0.44      0.38      0.41       353\n",
      "\n",
      "    accuracy                           0.53      1045\n",
      "   macro avg       0.51      0.52      0.51      1045\n",
      "weighted avg       0.51      0.53      0.52      1045\n",
      "\n",
      "[[126  58 140]\n",
      " [ 41 293  34]\n",
      " [133  85 135]]\n"
     ]
    }
   ],
   "source": [
    "from sklearn.metrics import accuracy_score, confusion_matrix, classification_report\n",
    "#Accuracy of the predicted values\n",
    "print(classification_report(y_test_class, y_pred_class))\n",
    "print(confusion_matrix(y_test_class, y_pred_class))"
   ]
  },
  {
   "cell_type": "markdown",
   "id": "f54dbc12-6bb3-46b4-b5b3-d38eb2de9b2e",
   "metadata": {},
   "source": [
    "## 4. Evaluate the model"
   ]
  },
  {
   "cell_type": "markdown",
   "id": "90539061-50f7-4af1-83de-426f40d6c75a",
   "metadata": {},
   "source": [
    "ring 예측과 마찬가지로 모델의 정확도가 높지 않게 나온다..\n",
    "\n",
    "한번 전이학습된 모델로 ring을 예측시켜보자."
   ]
  },
  {
   "cell_type": "code",
   "execution_count": 61,
   "id": "017c59cc-b540-4611-90c2-5a59173cfac7",
   "metadata": {},
   "outputs": [
    {
     "name": "stdout",
     "output_type": "stream",
     "text": [
      "98/98 [==============================] - 0s 3ms/step - loss: 0.6875 - accuracy: 0.6857\n"
     ]
    },
    {
     "data": {
      "text/plain": [
       "[0.6875314116477966, 0.6857051849365234]"
      ]
     },
     "execution_count": 61,
     "metadata": {},
     "output_type": "execute_result"
    }
   ],
   "source": [
    "model.evaluate(X_sex_train, y_sex_train)"
   ]
  },
  {
   "cell_type": "code",
   "execution_count": 62,
   "id": "d8f91ac8-c9ab-413b-9674-35ffc9aded41",
   "metadata": {},
   "outputs": [
    {
     "name": "stdout",
     "output_type": "stream",
     "text": [
      "98/98 [==============================] - 0s 4ms/step - loss: 1.6830 - accuracy: 0.3478\n"
     ]
    },
    {
     "data": {
      "text/plain": [
       "[1.6830213069915771, 0.34779834747314453]"
      ]
     },
     "execution_count": 62,
     "metadata": {},
     "output_type": "execute_result"
    }
   ],
   "source": [
    "model.evaluate(X_ring_train, y_ring_train)"
   ]
  }
 ],
 "metadata": {
  "kernelspec": {
   "display_name": "Python 3 (ipykernel)",
   "language": "python",
   "name": "python3"
  },
  "language_info": {
   "codemirror_mode": {
    "name": "ipython",
    "version": 3
   },
   "file_extension": ".py",
   "mimetype": "text/x-python",
   "name": "python",
   "nbconvert_exporter": "python",
   "pygments_lexer": "ipython3",
   "version": "3.11.7"
  }
 },
 "nbformat": 4,
 "nbformat_minor": 5
}
