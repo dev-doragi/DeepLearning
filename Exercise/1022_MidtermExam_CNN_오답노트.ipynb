{
 "cells": [
  {
   "cell_type": "markdown",
   "id": "e2654335-9ab8-4d34-9f37-49a30111d8e6",
   "metadata": {},
   "source": [
    "## 8주차 중간고사 오답노트"
   ]
  },
  {
   "cell_type": "markdown",
   "id": "944de6c6-8576-4647-8f9a-9a0482563b22",
   "metadata": {},
   "source": [
    "### CNN (Convolution Network)"
   ]
  },
  {
   "cell_type": "markdown",
   "id": "8422cca8-95ce-486f-848f-d89640292485",
   "metadata": {},
   "source": [
    "1. 해당 소스를 이용하여 ML 분류 RF, LR, DT\n",
    "\n",
    "2. 해당 소스를 이용하여 FCNN\n",
    "\n",
    "3. 해당 소스를 이용하여 CNN\n",
    "\n",
    "4. 모든 소스에는 F1값 및 confusion matrix 표시"
   ]
  },
  {
   "cell_type": "code",
   "execution_count": null,
   "id": "cc710a3f-d745-4cc6-8d45-dfe639e499c2",
   "metadata": {},
   "outputs": [],
   "source": []
  },
  {
   "cell_type": "code",
   "execution_count": 71,
   "id": "f4839f95-2d4a-4836-a484-835574aa4c7b",
   "metadata": {},
   "outputs": [],
   "source": [
    "import pandas as pd\n",
    "import numpy as np\n",
    "import matplotlib.pyplot as plt\n",
    "from sklearn.model_selection import train_test_split\n",
    "from sklearn.preprocessing import StandardScaler, LabelEncoder\n",
    "import seaborn as sns\n",
    "import tensorflow as tf\n",
    "from tensorflow import keras"
   ]
  },
  {
   "cell_type": "code",
   "execution_count": 72,
   "id": "a18ed2cc-89bb-4f88-827f-dcabd3b8dbf1",
   "metadata": {},
   "outputs": [],
   "source": [
    "from keras.models import Sequential, Model\n",
    "from keras.layers import Dense, Input\n",
    "from keras.optimizers import Adam\n",
    "from tensorflow.keras import layers"
   ]
  },
  {
   "cell_type": "markdown",
   "id": "76407442-c49e-44a2-89ec-8c0271bf30d9",
   "metadata": {},
   "source": [
    "### 1. Data Load"
   ]
  },
  {
   "cell_type": "code",
   "execution_count": 73,
   "id": "11a499d6-4ed4-4343-abf1-2282140fcd4c",
   "metadata": {},
   "outputs": [
    {
     "data": {
      "text/html": [
       "<div>\n",
       "<style scoped>\n",
       "    .dataframe tbody tr th:only-of-type {\n",
       "        vertical-align: middle;\n",
       "    }\n",
       "\n",
       "    .dataframe tbody tr th {\n",
       "        vertical-align: top;\n",
       "    }\n",
       "\n",
       "    .dataframe thead th {\n",
       "        text-align: right;\n",
       "    }\n",
       "</style>\n",
       "<table border=\"1\" class=\"dataframe\">\n",
       "  <thead>\n",
       "    <tr style=\"text-align: right;\">\n",
       "      <th></th>\n",
       "      <th>buying</th>\n",
       "      <th>maint</th>\n",
       "      <th>doors</th>\n",
       "      <th>persons</th>\n",
       "      <th>lug_boot</th>\n",
       "      <th>safety</th>\n",
       "      <th>class</th>\n",
       "    </tr>\n",
       "  </thead>\n",
       "  <tbody>\n",
       "    <tr>\n",
       "      <th>0</th>\n",
       "      <td>vhigh</td>\n",
       "      <td>vhigh</td>\n",
       "      <td>2</td>\n",
       "      <td>2</td>\n",
       "      <td>small</td>\n",
       "      <td>low</td>\n",
       "      <td>unacc</td>\n",
       "    </tr>\n",
       "    <tr>\n",
       "      <th>1</th>\n",
       "      <td>vhigh</td>\n",
       "      <td>vhigh</td>\n",
       "      <td>2</td>\n",
       "      <td>2</td>\n",
       "      <td>small</td>\n",
       "      <td>med</td>\n",
       "      <td>unacc</td>\n",
       "    </tr>\n",
       "    <tr>\n",
       "      <th>2</th>\n",
       "      <td>vhigh</td>\n",
       "      <td>vhigh</td>\n",
       "      <td>2</td>\n",
       "      <td>2</td>\n",
       "      <td>small</td>\n",
       "      <td>high</td>\n",
       "      <td>unacc</td>\n",
       "    </tr>\n",
       "    <tr>\n",
       "      <th>3</th>\n",
       "      <td>vhigh</td>\n",
       "      <td>vhigh</td>\n",
       "      <td>2</td>\n",
       "      <td>2</td>\n",
       "      <td>med</td>\n",
       "      <td>low</td>\n",
       "      <td>unacc</td>\n",
       "    </tr>\n",
       "    <tr>\n",
       "      <th>4</th>\n",
       "      <td>vhigh</td>\n",
       "      <td>vhigh</td>\n",
       "      <td>2</td>\n",
       "      <td>2</td>\n",
       "      <td>med</td>\n",
       "      <td>med</td>\n",
       "      <td>unacc</td>\n",
       "    </tr>\n",
       "    <tr>\n",
       "      <th>...</th>\n",
       "      <td>...</td>\n",
       "      <td>...</td>\n",
       "      <td>...</td>\n",
       "      <td>...</td>\n",
       "      <td>...</td>\n",
       "      <td>...</td>\n",
       "      <td>...</td>\n",
       "    </tr>\n",
       "    <tr>\n",
       "      <th>1723</th>\n",
       "      <td>low</td>\n",
       "      <td>low</td>\n",
       "      <td>5more</td>\n",
       "      <td>more</td>\n",
       "      <td>med</td>\n",
       "      <td>med</td>\n",
       "      <td>good</td>\n",
       "    </tr>\n",
       "    <tr>\n",
       "      <th>1724</th>\n",
       "      <td>low</td>\n",
       "      <td>low</td>\n",
       "      <td>5more</td>\n",
       "      <td>more</td>\n",
       "      <td>med</td>\n",
       "      <td>high</td>\n",
       "      <td>vgood</td>\n",
       "    </tr>\n",
       "    <tr>\n",
       "      <th>1725</th>\n",
       "      <td>low</td>\n",
       "      <td>low</td>\n",
       "      <td>5more</td>\n",
       "      <td>more</td>\n",
       "      <td>big</td>\n",
       "      <td>low</td>\n",
       "      <td>unacc</td>\n",
       "    </tr>\n",
       "    <tr>\n",
       "      <th>1726</th>\n",
       "      <td>low</td>\n",
       "      <td>low</td>\n",
       "      <td>5more</td>\n",
       "      <td>more</td>\n",
       "      <td>big</td>\n",
       "      <td>med</td>\n",
       "      <td>good</td>\n",
       "    </tr>\n",
       "    <tr>\n",
       "      <th>1727</th>\n",
       "      <td>low</td>\n",
       "      <td>low</td>\n",
       "      <td>5more</td>\n",
       "      <td>more</td>\n",
       "      <td>big</td>\n",
       "      <td>high</td>\n",
       "      <td>vgood</td>\n",
       "    </tr>\n",
       "  </tbody>\n",
       "</table>\n",
       "<p>1728 rows × 7 columns</p>\n",
       "</div>"
      ],
      "text/plain": [
       "     buying  maint  doors persons lug_boot safety  class\n",
       "0     vhigh  vhigh      2       2    small    low  unacc\n",
       "1     vhigh  vhigh      2       2    small    med  unacc\n",
       "2     vhigh  vhigh      2       2    small   high  unacc\n",
       "3     vhigh  vhigh      2       2      med    low  unacc\n",
       "4     vhigh  vhigh      2       2      med    med  unacc\n",
       "...     ...    ...    ...     ...      ...    ...    ...\n",
       "1723    low    low  5more    more      med    med   good\n",
       "1724    low    low  5more    more      med   high  vgood\n",
       "1725    low    low  5more    more      big    low  unacc\n",
       "1726    low    low  5more    more      big    med   good\n",
       "1727    low    low  5more    more      big   high  vgood\n",
       "\n",
       "[1728 rows x 7 columns]"
      ]
     },
     "execution_count": 73,
     "metadata": {},
     "output_type": "execute_result"
    }
   ],
   "source": [
    "url = 'https://archive.ics.uci.edu/ml/machine-learning-databases/car/car.data'\n",
    "columns = ['buying', 'maint', 'doors', 'persons', 'lug_boot', 'safety', 'class']\n",
    "df = pd.read_csv(url, names=columns)\n",
    "df"
   ]
  },
  {
   "cell_type": "code",
   "execution_count": 74,
   "id": "a9bf79cd-1c76-4fbc-8379-8223d286647f",
   "metadata": {},
   "outputs": [
    {
     "data": {
      "text/plain": [
       "buying      0\n",
       "maint       0\n",
       "doors       0\n",
       "persons     0\n",
       "lug_boot    0\n",
       "safety      0\n",
       "class       0\n",
       "dtype: int64"
      ]
     },
     "execution_count": 74,
     "metadata": {},
     "output_type": "execute_result"
    }
   ],
   "source": [
    "# 결측치 확인\n",
    "df.isnull().sum()"
   ]
  },
  {
   "cell_type": "code",
   "execution_count": 75,
   "id": "1e9df310-fcde-4cc3-ab5c-07250198d94e",
   "metadata": {},
   "outputs": [
    {
     "data": {
      "text/plain": [
       "buying      0\n",
       "maint       0\n",
       "doors       0\n",
       "persons     0\n",
       "lug_boot    0\n",
       "safety      0\n",
       "class       0\n",
       "dtype: int64"
      ]
     },
     "execution_count": 75,
     "metadata": {},
     "output_type": "execute_result"
    }
   ],
   "source": [
    "# 결측치 제거\n",
    "df = df.dropna()\n",
    "df.isnull().sum()"
   ]
  },
  {
   "cell_type": "code",
   "execution_count": 76,
   "id": "c470b8cd-e861-4c82-8177-1353caf82d67",
   "metadata": {},
   "outputs": [
    {
     "data": {
      "text/plain": [
       "class\n",
       "unacc    1210\n",
       "acc       384\n",
       "good       69\n",
       "vgood      65\n",
       "Name: count, dtype: int64"
      ]
     },
     "execution_count": 76,
     "metadata": {},
     "output_type": "execute_result"
    }
   ],
   "source": [
    "df['class'].value_counts()"
   ]
  },
  {
   "cell_type": "code",
   "execution_count": 77,
   "id": "dd4946bd-66d9-4b7e-861b-bf8b46d10532",
   "metadata": {},
   "outputs": [
    {
     "data": {
      "text/html": [
       "<div>\n",
       "<style scoped>\n",
       "    .dataframe tbody tr th:only-of-type {\n",
       "        vertical-align: middle;\n",
       "    }\n",
       "\n",
       "    .dataframe tbody tr th {\n",
       "        vertical-align: top;\n",
       "    }\n",
       "\n",
       "    .dataframe thead th {\n",
       "        text-align: right;\n",
       "    }\n",
       "</style>\n",
       "<table border=\"1\" class=\"dataframe\">\n",
       "  <thead>\n",
       "    <tr style=\"text-align: right;\">\n",
       "      <th></th>\n",
       "      <th>buying</th>\n",
       "      <th>maint</th>\n",
       "      <th>doors</th>\n",
       "      <th>persons</th>\n",
       "      <th>lug_boot</th>\n",
       "      <th>safety</th>\n",
       "      <th>class</th>\n",
       "    </tr>\n",
       "  </thead>\n",
       "  <tbody>\n",
       "    <tr>\n",
       "      <th>0</th>\n",
       "      <td>3</td>\n",
       "      <td>3</td>\n",
       "      <td>0</td>\n",
       "      <td>0</td>\n",
       "      <td>2</td>\n",
       "      <td>1</td>\n",
       "      <td>2</td>\n",
       "    </tr>\n",
       "    <tr>\n",
       "      <th>1</th>\n",
       "      <td>3</td>\n",
       "      <td>3</td>\n",
       "      <td>0</td>\n",
       "      <td>0</td>\n",
       "      <td>2</td>\n",
       "      <td>2</td>\n",
       "      <td>2</td>\n",
       "    </tr>\n",
       "    <tr>\n",
       "      <th>2</th>\n",
       "      <td>3</td>\n",
       "      <td>3</td>\n",
       "      <td>0</td>\n",
       "      <td>0</td>\n",
       "      <td>2</td>\n",
       "      <td>0</td>\n",
       "      <td>2</td>\n",
       "    </tr>\n",
       "    <tr>\n",
       "      <th>3</th>\n",
       "      <td>3</td>\n",
       "      <td>3</td>\n",
       "      <td>0</td>\n",
       "      <td>0</td>\n",
       "      <td>1</td>\n",
       "      <td>1</td>\n",
       "      <td>2</td>\n",
       "    </tr>\n",
       "    <tr>\n",
       "      <th>4</th>\n",
       "      <td>3</td>\n",
       "      <td>3</td>\n",
       "      <td>0</td>\n",
       "      <td>0</td>\n",
       "      <td>1</td>\n",
       "      <td>2</td>\n",
       "      <td>2</td>\n",
       "    </tr>\n",
       "    <tr>\n",
       "      <th>...</th>\n",
       "      <td>...</td>\n",
       "      <td>...</td>\n",
       "      <td>...</td>\n",
       "      <td>...</td>\n",
       "      <td>...</td>\n",
       "      <td>...</td>\n",
       "      <td>...</td>\n",
       "    </tr>\n",
       "    <tr>\n",
       "      <th>1723</th>\n",
       "      <td>1</td>\n",
       "      <td>1</td>\n",
       "      <td>3</td>\n",
       "      <td>2</td>\n",
       "      <td>1</td>\n",
       "      <td>2</td>\n",
       "      <td>1</td>\n",
       "    </tr>\n",
       "    <tr>\n",
       "      <th>1724</th>\n",
       "      <td>1</td>\n",
       "      <td>1</td>\n",
       "      <td>3</td>\n",
       "      <td>2</td>\n",
       "      <td>1</td>\n",
       "      <td>0</td>\n",
       "      <td>3</td>\n",
       "    </tr>\n",
       "    <tr>\n",
       "      <th>1725</th>\n",
       "      <td>1</td>\n",
       "      <td>1</td>\n",
       "      <td>3</td>\n",
       "      <td>2</td>\n",
       "      <td>0</td>\n",
       "      <td>1</td>\n",
       "      <td>2</td>\n",
       "    </tr>\n",
       "    <tr>\n",
       "      <th>1726</th>\n",
       "      <td>1</td>\n",
       "      <td>1</td>\n",
       "      <td>3</td>\n",
       "      <td>2</td>\n",
       "      <td>0</td>\n",
       "      <td>2</td>\n",
       "      <td>1</td>\n",
       "    </tr>\n",
       "    <tr>\n",
       "      <th>1727</th>\n",
       "      <td>1</td>\n",
       "      <td>1</td>\n",
       "      <td>3</td>\n",
       "      <td>2</td>\n",
       "      <td>0</td>\n",
       "      <td>0</td>\n",
       "      <td>3</td>\n",
       "    </tr>\n",
       "  </tbody>\n",
       "</table>\n",
       "<p>1728 rows × 7 columns</p>\n",
       "</div>"
      ],
      "text/plain": [
       "      buying  maint  doors  persons  lug_boot  safety  class\n",
       "0          3      3      0        0         2       1      2\n",
       "1          3      3      0        0         2       2      2\n",
       "2          3      3      0        0         2       0      2\n",
       "3          3      3      0        0         1       1      2\n",
       "4          3      3      0        0         1       2      2\n",
       "...      ...    ...    ...      ...       ...     ...    ...\n",
       "1723       1      1      3        2         1       2      1\n",
       "1724       1      1      3        2         1       0      3\n",
       "1725       1      1      3        2         0       1      2\n",
       "1726       1      1      3        2         0       2      1\n",
       "1727       1      1      3        2         0       0      3\n",
       "\n",
       "[1728 rows x 7 columns]"
      ]
     },
     "execution_count": 77,
     "metadata": {},
     "output_type": "execute_result"
    }
   ],
   "source": [
    "#레이블을 숫자로 변환\n",
    "from sklearn.preprocessing import StandardScaler, LabelEncoder\n",
    "\n",
    "# LabelEncoder 객체 생성\n",
    "label = LabelEncoder()\n",
    "\n",
    "# 문자로 지정된 열의 데이터에 대해 LabelEncoder를 적용하여 변환\n",
    "df['buying'] = label.fit_transform(df['buying'])\n",
    "df['maint'] = label.fit_transform(df['maint'])\n",
    "df['doors'] = label.fit_transform(df['doors'])\n",
    "df['persons'] = label.fit_transform(df['persons'])\n",
    "df['lug_boot'] = label.fit_transform(df['lug_boot'])\n",
    "df['safety'] = label.fit_transform(df['safety'])\n",
    "df['class'] = label.fit_transform(df['class'])\n",
    "\n",
    "df"
   ]
  },
  {
   "cell_type": "markdown",
   "id": "c257c68a-e616-496b-8256-21ae8d30d532",
   "metadata": {},
   "source": [
    "### 2. Train Test Split"
   ]
  },
  {
   "cell_type": "code",
   "execution_count": 78,
   "id": "a9594804-94f0-4e57-a675-c0f6a06d8958",
   "metadata": {},
   "outputs": [
    {
     "data": {
      "text/html": [
       "<div>\n",
       "<style scoped>\n",
       "    .dataframe tbody tr th:only-of-type {\n",
       "        vertical-align: middle;\n",
       "    }\n",
       "\n",
       "    .dataframe tbody tr th {\n",
       "        vertical-align: top;\n",
       "    }\n",
       "\n",
       "    .dataframe thead th {\n",
       "        text-align: right;\n",
       "    }\n",
       "</style>\n",
       "<table border=\"1\" class=\"dataframe\">\n",
       "  <thead>\n",
       "    <tr style=\"text-align: right;\">\n",
       "      <th></th>\n",
       "      <th>buying</th>\n",
       "      <th>maint</th>\n",
       "      <th>doors</th>\n",
       "      <th>persons</th>\n",
       "      <th>lug_boot</th>\n",
       "      <th>safety</th>\n",
       "    </tr>\n",
       "  </thead>\n",
       "  <tbody>\n",
       "    <tr>\n",
       "      <th>0</th>\n",
       "      <td>3</td>\n",
       "      <td>3</td>\n",
       "      <td>0</td>\n",
       "      <td>0</td>\n",
       "      <td>2</td>\n",
       "      <td>1</td>\n",
       "    </tr>\n",
       "    <tr>\n",
       "      <th>1</th>\n",
       "      <td>3</td>\n",
       "      <td>3</td>\n",
       "      <td>0</td>\n",
       "      <td>0</td>\n",
       "      <td>2</td>\n",
       "      <td>2</td>\n",
       "    </tr>\n",
       "    <tr>\n",
       "      <th>2</th>\n",
       "      <td>3</td>\n",
       "      <td>3</td>\n",
       "      <td>0</td>\n",
       "      <td>0</td>\n",
       "      <td>2</td>\n",
       "      <td>0</td>\n",
       "    </tr>\n",
       "    <tr>\n",
       "      <th>3</th>\n",
       "      <td>3</td>\n",
       "      <td>3</td>\n",
       "      <td>0</td>\n",
       "      <td>0</td>\n",
       "      <td>1</td>\n",
       "      <td>1</td>\n",
       "    </tr>\n",
       "    <tr>\n",
       "      <th>4</th>\n",
       "      <td>3</td>\n",
       "      <td>3</td>\n",
       "      <td>0</td>\n",
       "      <td>0</td>\n",
       "      <td>1</td>\n",
       "      <td>2</td>\n",
       "    </tr>\n",
       "  </tbody>\n",
       "</table>\n",
       "</div>"
      ],
      "text/plain": [
       "   buying  maint  doors  persons  lug_boot  safety\n",
       "0       3      3      0        0         2       1\n",
       "1       3      3      0        0         2       2\n",
       "2       3      3      0        0         2       0\n",
       "3       3      3      0        0         1       1\n",
       "4       3      3      0        0         1       2"
      ]
     },
     "execution_count": 78,
     "metadata": {},
     "output_type": "execute_result"
    }
   ],
   "source": [
    "X=df.drop(['class'], axis=1)\n",
    "\n",
    "X.head()\n",
    "# head()는 첫 5행만 출력함."
   ]
  },
  {
   "cell_type": "code",
   "execution_count": 79,
   "id": "f6b0ea54-044c-4716-81df-b49596f433b7",
   "metadata": {},
   "outputs": [
    {
     "data": {
      "text/plain": [
       "class\n",
       "0     384\n",
       "1      69\n",
       "2    1210\n",
       "3      65\n",
       "Name: count, dtype: int64"
      ]
     },
     "execution_count": 79,
     "metadata": {},
     "output_type": "execute_result"
    }
   ],
   "source": [
    "y = df['class']\n",
    "y.value_counts().sort_index(ascending=True)"
   ]
  },
  {
   "cell_type": "code",
   "execution_count": 80,
   "id": "f0cf631e-4879-4361-aa80-b1e76f13771c",
   "metadata": {},
   "outputs": [
    {
     "data": {
      "text/plain": [
       "array([[False, False,  True, False],\n",
       "       [False, False,  True, False],\n",
       "       [False, False,  True, False],\n",
       "       ...,\n",
       "       [False, False,  True, False],\n",
       "       [False,  True, False, False],\n",
       "       [False, False, False,  True]])"
      ]
     },
     "execution_count": 80,
     "metadata": {},
     "output_type": "execute_result"
    }
   ],
   "source": [
    "#one hot encoding 하기\n",
    "\n",
    "y = pd.get_dummies(y).values\n",
    "y"
   ]
  },
  {
   "cell_type": "code",
   "execution_count": 81,
   "id": "8bb538eb-6f95-4072-b144-7d4bd6fe1e22",
   "metadata": {},
   "outputs": [
    {
     "data": {
      "text/html": [
       "<div>\n",
       "<style scoped>\n",
       "    .dataframe tbody tr th:only-of-type {\n",
       "        vertical-align: middle;\n",
       "    }\n",
       "\n",
       "    .dataframe tbody tr th {\n",
       "        vertical-align: top;\n",
       "    }\n",
       "\n",
       "    .dataframe thead th {\n",
       "        text-align: right;\n",
       "    }\n",
       "</style>\n",
       "<table border=\"1\" class=\"dataframe\">\n",
       "  <thead>\n",
       "    <tr style=\"text-align: right;\">\n",
       "      <th></th>\n",
       "      <th>buying</th>\n",
       "      <th>maint</th>\n",
       "      <th>doors</th>\n",
       "      <th>persons</th>\n",
       "      <th>lug_boot</th>\n",
       "      <th>safety</th>\n",
       "    </tr>\n",
       "  </thead>\n",
       "  <tbody>\n",
       "    <tr>\n",
       "      <th>520</th>\n",
       "      <td>0</td>\n",
       "      <td>3</td>\n",
       "      <td>3</td>\n",
       "      <td>0</td>\n",
       "      <td>0</td>\n",
       "      <td>2</td>\n",
       "    </tr>\n",
       "    <tr>\n",
       "      <th>621</th>\n",
       "      <td>0</td>\n",
       "      <td>0</td>\n",
       "      <td>3</td>\n",
       "      <td>0</td>\n",
       "      <td>2</td>\n",
       "      <td>1</td>\n",
       "    </tr>\n",
       "    <tr>\n",
       "      <th>1017</th>\n",
       "      <td>2</td>\n",
       "      <td>0</td>\n",
       "      <td>1</td>\n",
       "      <td>2</td>\n",
       "      <td>2</td>\n",
       "      <td>1</td>\n",
       "    </tr>\n",
       "    <tr>\n",
       "      <th>1273</th>\n",
       "      <td>2</td>\n",
       "      <td>1</td>\n",
       "      <td>3</td>\n",
       "      <td>0</td>\n",
       "      <td>1</td>\n",
       "      <td>2</td>\n",
       "    </tr>\n",
       "    <tr>\n",
       "      <th>924</th>\n",
       "      <td>2</td>\n",
       "      <td>3</td>\n",
       "      <td>2</td>\n",
       "      <td>0</td>\n",
       "      <td>0</td>\n",
       "      <td>1</td>\n",
       "    </tr>\n",
       "    <tr>\n",
       "      <th>...</th>\n",
       "      <td>...</td>\n",
       "      <td>...</td>\n",
       "      <td>...</td>\n",
       "      <td>...</td>\n",
       "      <td>...</td>\n",
       "      <td>...</td>\n",
       "    </tr>\n",
       "    <tr>\n",
       "      <th>835</th>\n",
       "      <td>0</td>\n",
       "      <td>1</td>\n",
       "      <td>2</td>\n",
       "      <td>2</td>\n",
       "      <td>0</td>\n",
       "      <td>2</td>\n",
       "    </tr>\n",
       "    <tr>\n",
       "      <th>1216</th>\n",
       "      <td>2</td>\n",
       "      <td>1</td>\n",
       "      <td>1</td>\n",
       "      <td>0</td>\n",
       "      <td>2</td>\n",
       "      <td>2</td>\n",
       "    </tr>\n",
       "    <tr>\n",
       "      <th>1653</th>\n",
       "      <td>1</td>\n",
       "      <td>1</td>\n",
       "      <td>1</td>\n",
       "      <td>0</td>\n",
       "      <td>0</td>\n",
       "      <td>1</td>\n",
       "    </tr>\n",
       "    <tr>\n",
       "      <th>559</th>\n",
       "      <td>0</td>\n",
       "      <td>0</td>\n",
       "      <td>0</td>\n",
       "      <td>2</td>\n",
       "      <td>2</td>\n",
       "      <td>2</td>\n",
       "    </tr>\n",
       "    <tr>\n",
       "      <th>684</th>\n",
       "      <td>0</td>\n",
       "      <td>2</td>\n",
       "      <td>1</td>\n",
       "      <td>1</td>\n",
       "      <td>2</td>\n",
       "      <td>1</td>\n",
       "    </tr>\n",
       "  </tbody>\n",
       "</table>\n",
       "<p>1296 rows × 6 columns</p>\n",
       "</div>"
      ],
      "text/plain": [
       "      buying  maint  doors  persons  lug_boot  safety\n",
       "520        0      3      3        0         0       2\n",
       "621        0      0      3        0         2       1\n",
       "1017       2      0      1        2         2       1\n",
       "1273       2      1      3        0         1       2\n",
       "924        2      3      2        0         0       1\n",
       "...      ...    ...    ...      ...       ...     ...\n",
       "835        0      1      2        2         0       2\n",
       "1216       2      1      1        0         2       2\n",
       "1653       1      1      1        0         0       1\n",
       "559        0      0      0        2         2       2\n",
       "684        0      2      1        1         2       1\n",
       "\n",
       "[1296 rows x 6 columns]"
      ]
     },
     "execution_count": 81,
     "metadata": {},
     "output_type": "execute_result"
    }
   ],
   "source": [
    "from sklearn.model_selection import train_test_split\n",
    "\n",
    "X_train, X_test, y_train, y_test = train_test_split(X, y, test_size=0.25, random_state=0)\n",
    "# random_state는 데이터를 무작위로 나누거나 섞을 때 사용되는 난수 발생기의 시드(seed) 값\n",
    "X_train"
   ]
  },
  {
   "cell_type": "code",
   "execution_count": 82,
   "id": "09e65929-ba54-4ff2-b0a5-0a477126ce92",
   "metadata": {},
   "outputs": [
    {
     "data": {
      "text/plain": [
       "6"
      ]
     },
     "execution_count": 82,
     "metadata": {},
     "output_type": "execute_result"
    }
   ],
   "source": [
    "X_train.shape[1]"
   ]
  },
  {
   "cell_type": "code",
   "execution_count": 83,
   "id": "82cd7a6c-3b4f-4231-ba55-7066ae178392",
   "metadata": {},
   "outputs": [
    {
     "data": {
      "text/plain": [
       "4"
      ]
     },
     "execution_count": 83,
     "metadata": {},
     "output_type": "execute_result"
    }
   ],
   "source": [
    "y_test.shape[1]"
   ]
  },
  {
   "cell_type": "markdown",
   "id": "83feecbd-d0f0-457d-8953-043a7dc8026a",
   "metadata": {},
   "source": [
    "## split_sequence 해석\n",
    "\n",
    "```\n",
    "sequences = np.array([ \r\n",
    "    [1, 2, 3, 4, 5],   # 시점 1\r\n",
    "    [6, 7, 8, 9, 10],  # 시점 2\r\n",
    "    [11, 12, 13, 14, 15],  # 시점 3\r\n",
    "    [16, 17, 18, 19, 20],  # 시점 4\r\n",
    "    [21, 22, 23, 24, 25],  # 시점5\r\n",
    "])\r\n",
    "\n",
    "```\n",
    "\n",
    "i = for i in range(len(sequences)) = 0 ~ 4\n",
    "\n",
    "end_ix = i + n_steps = 3, 4, 5, ,6, 7인데,\n",
    "\n",
    "\n",
    "```\n",
    "if end_ix > len(sequences):\n",
    "    break\n",
    "```\n",
    "\n",
    "이므로 end_ix = 5까지만\n",
    "\n",
    "n_steps = 3\n",
    "\n",
    "n_features = 2\n",
    "\n",
    "---\n"
   ]
  },
  {
   "cell_type": "markdown",
   "id": "90553cb0-e64a-48a3-a8d1-d75c22e45bde",
   "metadata": {},
   "source": [
    "i가 0일 때, end_ix = 3이므로,\n",
    "위와 같은 데이터가 주어졌을 때, 입력 sequences[i:end_ix, :n_features]의 결과는\n",
    "- i = 0, end_ix = 3 → 0째부터 2번째 시점까지 선택 (즉, 0 ~ 2번째 행)\n",
    "- n_features = 2 → 각 시점에서 첫 번째와 두 번째 특징을 선택 (즉, 0, 1 열)\n",
    "\n",
    "```\n",
    "seq_x = sequences[i:end_ix, :n_features]\n",
    "seq_x = sequences[0:3, :2] = [\n",
    "    [1, 2],  # 시점 1\n",
    "    [6, 7],  # 시점 2\n",
    "    [11, 12],  # 시점 3\n",
    "]\n",
    "```\n",
    "\n",
    "---"
   ]
  },
  {
   "cell_type": "markdown",
   "id": "441009f9-ff1e-422f-91b1-367ffe610a49",
   "metadata": {},
   "source": [
    "다음으로 출력 시퀀스 seq_y를 보면,\n",
    "\n",
    "i가 0일 때, \n",
    "```\n",
    "seq_y = sequences[end_ix-1, n_features:]\n",
    "seq_y = sequences[2, 2:] = [14, 15]\n",
    "    \n",
    "```\n",
    "\n",
    "---"
   ]
  },
  {
   "cell_type": "markdown",
   "id": "5f05f338-ebf1-4065-8a95-3f6a56c19a9b",
   "metadata": {},
   "source": [
    "## 최종 출력\n",
    "\n",
    "- 입력 시퀀스 (seq_x):\n",
    "\n",
    "```\n",
    "[\n",
    "  [[1, 2], [6, 7], [11, 12]],  # 첫 번째 시퀀스\n",
    "  [[4, 5], [10, 11], [16, 17]],  # 두 번째 시퀀스\n",
    "  [[7, 8], [12, 13], [21, 22]],  # 세 번째 시퀀스\n",
    "]\n",
    "\n",
    "```\n",
    "\n",
    "- 출력 시퀀스 (seq_y):\n",
    "\n",
    "```\n",
    "[\n",
    "  [14, 15],  # 첫 번째 시퀀스에 대한 레이블\n",
    "  [17, 18],  # 두 번째 시퀀스에 대한 레이블\n",
    "  [20, 21],  # 세 번째 시퀀스에 대한 레이블\n",
    "]\n",
    "\n",
    "```"
   ]
  },
  {
   "cell_type": "markdown",
   "id": "235ff21c-96a5-4236-be4a-f3f4be59af41",
   "metadata": {},
   "source": [
    "---\n",
    "## 오답 노트\n",
    "\n",
    "- 회귀: 연속된 실수 값을 예측하는 문제, 예측값이 연속적이기 때문에, 특정 시점에서 숫자(실수) 값을 출력으로 갖는다.\n",
    "- 분류: 이산적인 클래스(카테고리)를 예측하는 문제, 예측값이 정수(클래스)로 표현된다.\n",
    "\n",
    "```\n",
    "seq_x = sequences[i:end_ix, :n_features]\n",
    "seq_y = sequences[end_ix-1, n_features:]\n",
    "```\n",
    "\n",
    "여기서 seq_y가 틀렸는데, car data CNN은 분류 문제이기 때문에, 레이블 값이 범주가 아닌 카테고리로 나와야 한다. \n",
    "\n",
    "seq_y = sequences[end_ix-1, n_features:]에서 열 부분인 n_features:를 보면, 피쳐 값 뒤의 모든 값들을 가져오는 것을 볼 수 있는데...\n",
    "\n",
    "현재 레이블 값을 원-핫 인코딩한 상태라 레이블이 배열 형태로 저장되어 있다. [1, 0, 0, 0], [0, 1, 0, 0] ... 이런 식으로\n",
    "\n",
    "그렇다면 seq_y를 구성할 때, 레이블 부분을 배열 형태를 가져와야 하니 n_features: (n_feautres 뒷 부분)이 올바른 형식이 아닌가?"
   ]
  },
  {
   "cell_type": "code",
   "execution_count": 84,
   "id": "34a17867-486b-41a2-98ed-d9d06754060c",
   "metadata": {},
   "outputs": [],
   "source": [
    "def split_sequences(sequences, n_steps, n_features):\n",
    "    X, y = list(), list()\n",
    "    for i in range(len(sequences)):\n",
    "        # 각 시퀀스의 끝점 계산\n",
    "        end_ix = i + n_steps\n",
    "        # 시퀀스의 끝이 데이터 범위를 넘어서면 중단\n",
    "        if end_ix > len(sequences):\n",
    "            break\n",
    "        # 입력 시퀀스는 n_steps 동안의 데이터 (마지막 레이블 제외)\n",
    "        seq_x = sequences[i:end_ix, :n_features]\n",
    "        seq_y = sequences[end_ix-1, n_features:] \n",
    "        X.append(seq_x)\n",
    "        y.append(seq_y)\n",
    "    \n",
    "    return np.array(X), np.array(y)"
   ]
  },
  {
   "cell_type": "code",
   "execution_count": 85,
   "id": "9a5085e2-ac83-426e-b14b-63298a4c92fc",
   "metadata": {},
   "outputs": [
    {
     "name": "stdout",
     "output_type": "stream",
     "text": [
      "[[1 3 0 ... 0 1 0]\n",
      " [3 0 0 ... 0 1 0]\n",
      " [0 2 0 ... 0 1 0]\n",
      " ...\n",
      " [0 2 3 ... 0 0 0]\n",
      " [0 2 3 ... 0 1 0]\n",
      " [2 0 3 ... 0 0 0]]\n"
     ]
    }
   ],
   "source": [
    "# Merge train and test X/y data to apply sequence transformation function\n",
    "y_train_array = np.array(y_train)\n",
    "# np.c_ : 배열을 열 방향으로 이어붙인다.\n",
    "train_set = np.c_[X_train, y_train_array]\n",
    "\n",
    "y_test_array = np.array(y_test)\n",
    "test_set = np.c_[X_test, y_test_array]\n",
    "\n",
    "print(test_set)"
   ]
  },
  {
   "cell_type": "code",
   "execution_count": 99,
   "id": "256e4d6d-0ed1-4587-85ff-7064d7e4c053",
   "metadata": {},
   "outputs": [
    {
     "data": {
      "text/plain": [
       "array([1, 3, 0, 2, 1, 2, 0, 0, 1, 0])"
      ]
     },
     "execution_count": 99,
     "metadata": {},
     "output_type": "execute_result"
    }
   ],
   "source": [
    "# 0~5까지는 피쳐, 그 이후는 레이블(원-핫 인코딩)\n",
    "test_set[0]"
   ]
  },
  {
   "cell_type": "code",
   "execution_count": 108,
   "id": "45fafd8a-7c93-48e0-a461-970046e2c08d",
   "metadata": {},
   "outputs": [
    {
     "name": "stdout",
     "output_type": "stream",
     "text": [
      "(1292, 5, 5) (1292, 5)\n",
      "(428, 5, 5) (428, 5)\n"
     ]
    }
   ],
   "source": [
    "# Apply sequence transformation using time step of 25 for both train and test data\n",
    "# All sensing modalities are recorded at a sampling rate of 50 Hz, which is considered sufficient for capturing human activity.\n",
    "\n",
    "X_train, y_train = split_sequences(train_set, 5, X_test.shape[1])\n",
    "print(X_train.shape, y_train.shape)\n",
    "\n",
    "X_test, y_test = split_sequences(test_set, 5, X_test.shape[1])\n",
    "print(X_test.shape, y_test.shape)"
   ]
  },
  {
   "cell_type": "code",
   "execution_count": 103,
   "id": "aecdb8a0-90ae-469d-908b-b7cb0a879889",
   "metadata": {},
   "outputs": [
    {
     "data": {
      "text/plain": [
       "array([[2, 0, 1, 2, 2, 1],\n",
       "       [2, 1, 3, 0, 1, 2],\n",
       "       [2, 3, 2, 0, 0, 1],\n",
       "       [3, 2, 0, 1, 0, 1],\n",
       "       [1, 0, 2, 2, 2, 0]])"
      ]
     },
     "execution_count": 103,
     "metadata": {},
     "output_type": "execute_result"
    }
   ],
   "source": [
    "X_train[0]"
   ]
  },
  {
   "cell_type": "code",
   "execution_count": 104,
   "id": "d70e7d76-666e-4685-99b8-eabdee47454a",
   "metadata": {},
   "outputs": [
    {
     "data": {
      "text/plain": [
       "array([1, 0, 0, 0])"
      ]
     },
     "execution_count": 104,
     "metadata": {},
     "output_type": "execute_result"
    }
   ],
   "source": [
    "y_train[0]"
   ]
  },
  {
   "cell_type": "markdown",
   "id": "0d35da91-106d-463d-bd65-d201ba4e230e",
   "metadata": {},
   "source": [
    "의문점이 해소되지 않았다..."
   ]
  },
  {
   "cell_type": "code",
   "execution_count": 88,
   "id": "9b4ecb29-32bb-4760-8b4c-4d8d50fd57b3",
   "metadata": {},
   "outputs": [
    {
     "data": {
      "text/plain": [
       "2"
      ]
     },
     "execution_count": 88,
     "metadata": {},
     "output_type": "execute_result"
    }
   ],
   "source": [
    "n_classes = len(np.unique(y_train))\n",
    "\n",
    "idx = np.random.permutation(len(X_train))\n",
    "X_train = X_train[idx]\n",
    "y_train = y_train[idx]\n",
    "\n",
    "y_train[y_train == -1] = 0\n",
    "y_test[y_test == -1] = 0\n",
    "\n",
    "n_classes"
   ]
  },
  {
   "cell_type": "code",
   "execution_count": 89,
   "id": "67a1e5ae-0ac7-4688-b1f6-e442ed91e210",
   "metadata": {},
   "outputs": [
    {
     "name": "stdout",
     "output_type": "stream",
     "text": [
      "5 6 4\n"
     ]
    }
   ],
   "source": [
    "# 각각 스텝 수, feature 수, label 수\n",
    "n_timesteps, n_features, n_outputs = X_train.shape[1], X_train.shape[2], y_train.shape[1]\n",
    "print(n_timesteps, n_features, n_outputs)"
   ]
  },
  {
   "cell_type": "code",
   "execution_count": 90,
   "id": "32a46e16-30eb-493a-96f6-ea57d95bf088",
   "metadata": {},
   "outputs": [
    {
     "data": {
      "text/plain": [
       "(5, 6)"
      ]
     },
     "execution_count": 90,
     "metadata": {},
     "output_type": "execute_result"
    }
   ],
   "source": [
    "input_shape = X_train.shape[1:]\n",
    "input_shape"
   ]
  },
  {
   "cell_type": "code",
   "execution_count": 91,
   "id": "9a6f300a-ee81-49f5-8bca-1cd5fcc98654",
   "metadata": {},
   "outputs": [],
   "source": [
    "from tensorflow.keras.layers import Conv1D\n",
    "from tensorflow.keras.layers import Input\n",
    "from keras.layers import Dense, Flatten, Dropout"
   ]
  },
  {
   "cell_type": "markdown",
   "id": "e1e093a2-117f-4eaa-9e2f-39d8437fc4ae",
   "metadata": {},
   "source": [
    "### 3. Make a Model"
   ]
  },
  {
   "cell_type": "code",
   "execution_count": 92,
   "id": "14b8fdd4-a440-49c9-ae87-a7ba364c1cbc",
   "metadata": {},
   "outputs": [
    {
     "name": "stdout",
     "output_type": "stream",
     "text": [
      "Model: \"model_2\"\n",
      "_________________________________________________________________\n",
      " Layer (type)                Output Shape              Param #   \n",
      "=================================================================\n",
      " input_3 (InputLayer)        [(None, 5, 6)]            0         \n",
      "                                                                 \n",
      " conv1d_2 (Conv1D)           (None, 4, 32)             416       \n",
      "                                                                 \n",
      " dense_4 (Dense)             (None, 4, 64)             2112      \n",
      "                                                                 \n",
      " dropout_2 (Dropout)         (None, 4, 64)             0         \n",
      "                                                                 \n",
      " flatten_2 (Flatten)         (None, 256)               0         \n",
      "                                                                 \n",
      " dense_5 (Dense)             (None, 4)                 1028      \n",
      "                                                                 \n",
      "=================================================================\n",
      "Total params: 3556 (13.89 KB)\n",
      "Trainable params: 3556 (13.89 KB)\n",
      "Non-trainable params: 0 (0.00 Byte)\n",
      "_________________________________________________________________\n"
     ]
    }
   ],
   "source": [
    "# 신경망 모델 구축\n",
    "inputs = Input(shape=(n_timesteps, n_features,))\n",
    "\n",
    "x = Conv1D(32, 2, activation='relu')(inputs)\n",
    "x = Dense(64, activation='relu')(x)\n",
    "x = layers.Dropout(0.3)(x) # 드롭아웃으로 노드 비활성화\n",
    "x = Flatten()(x)\n",
    "prediction = Dense(n_outputs, activation='softmax')(x)\n",
    "\n",
    "model = Model(inputs=inputs, outputs=prediction)\n",
    "\n",
    "model.compile(loss='categorical_crossentropy', optimizer='adam', metrics=['accuracy'])\n",
    "model.summary()"
   ]
  },
  {
   "cell_type": "code",
   "execution_count": 93,
   "id": "855a9b7d-def8-4aa4-94cf-e0cb47ea93e7",
   "metadata": {},
   "outputs": [
    {
     "name": "stdout",
     "output_type": "stream",
     "text": [
      "Epoch 1/50\n",
      "37/37 [==============================] - 2s 18ms/step - loss: 1.0185 - accuracy: 0.6145 - val_loss: 0.8470 - val_accuracy: 0.7231\n",
      "Epoch 2/50\n",
      "37/37 [==============================] - 0s 6ms/step - loss: 0.8520 - accuracy: 0.6962 - val_loss: 0.8242 - val_accuracy: 0.7231\n",
      "Epoch 3/50\n",
      "37/37 [==============================] - 0s 6ms/step - loss: 0.8272 - accuracy: 0.7022 - val_loss: 0.8047 - val_accuracy: 0.7231\n",
      "Epoch 4/50\n",
      "37/37 [==============================] - 0s 6ms/step - loss: 0.8073 - accuracy: 0.7014 - val_loss: 0.7875 - val_accuracy: 0.7231\n",
      "Epoch 5/50\n",
      "37/37 [==============================] - 0s 5ms/step - loss: 0.7889 - accuracy: 0.7014 - val_loss: 0.7698 - val_accuracy: 0.7231\n",
      "Epoch 6/50\n",
      "37/37 [==============================] - 0s 7ms/step - loss: 0.7520 - accuracy: 0.7065 - val_loss: 0.7289 - val_accuracy: 0.7231\n",
      "Epoch 7/50\n",
      "37/37 [==============================] - 0s 6ms/step - loss: 0.7374 - accuracy: 0.7074 - val_loss: 0.7152 - val_accuracy: 0.7308\n",
      "Epoch 8/50\n",
      "37/37 [==============================] - 0s 6ms/step - loss: 0.7014 - accuracy: 0.7117 - val_loss: 0.6965 - val_accuracy: 0.7385\n",
      "Epoch 9/50\n",
      "37/37 [==============================] - 0s 5ms/step - loss: 0.6850 - accuracy: 0.7108 - val_loss: 0.6963 - val_accuracy: 0.7154\n",
      "Epoch 10/50\n",
      "37/37 [==============================] - 0s 5ms/step - loss: 0.6744 - accuracy: 0.7194 - val_loss: 0.6831 - val_accuracy: 0.7308\n",
      "Epoch 11/50\n",
      "37/37 [==============================] - 0s 5ms/step - loss: 0.6652 - accuracy: 0.7272 - val_loss: 0.6726 - val_accuracy: 0.7231\n",
      "Epoch 12/50\n",
      "37/37 [==============================] - 0s 5ms/step - loss: 0.6340 - accuracy: 0.7212 - val_loss: 0.6601 - val_accuracy: 0.7308\n",
      "Epoch 13/50\n",
      "37/37 [==============================] - 0s 5ms/step - loss: 0.6260 - accuracy: 0.7289 - val_loss: 0.6635 - val_accuracy: 0.7231\n",
      "Epoch 14/50\n",
      "37/37 [==============================] - 0s 5ms/step - loss: 0.6219 - accuracy: 0.7375 - val_loss: 0.6568 - val_accuracy: 0.7231\n",
      "Epoch 15/50\n",
      "37/37 [==============================] - 0s 5ms/step - loss: 0.6112 - accuracy: 0.7332 - val_loss: 0.6601 - val_accuracy: 0.7231\n",
      "Epoch 16/50\n",
      "37/37 [==============================] - 0s 5ms/step - loss: 0.6004 - accuracy: 0.7418 - val_loss: 0.6535 - val_accuracy: 0.7462\n",
      "Epoch 17/50\n",
      "37/37 [==============================] - 0s 5ms/step - loss: 0.5995 - accuracy: 0.7298 - val_loss: 0.6453 - val_accuracy: 0.7462\n",
      "Epoch 18/50\n",
      "37/37 [==============================] - 0s 5ms/step - loss: 0.5811 - accuracy: 0.7461 - val_loss: 0.6393 - val_accuracy: 0.7308\n",
      "Epoch 19/50\n",
      "37/37 [==============================] - 0s 5ms/step - loss: 0.5641 - accuracy: 0.7616 - val_loss: 0.6342 - val_accuracy: 0.7385\n",
      "Epoch 20/50\n",
      "37/37 [==============================] - 0s 5ms/step - loss: 0.5645 - accuracy: 0.7539 - val_loss: 0.6245 - val_accuracy: 0.7538\n",
      "Epoch 21/50\n",
      "37/37 [==============================] - 0s 5ms/step - loss: 0.5323 - accuracy: 0.7659 - val_loss: 0.6126 - val_accuracy: 0.7462\n",
      "Epoch 22/50\n",
      "37/37 [==============================] - 0s 5ms/step - loss: 0.5258 - accuracy: 0.7668 - val_loss: 0.6101 - val_accuracy: 0.7615\n",
      "Epoch 23/50\n",
      "37/37 [==============================] - 0s 5ms/step - loss: 0.5250 - accuracy: 0.7616 - val_loss: 0.6024 - val_accuracy: 0.7615\n",
      "Epoch 24/50\n",
      "37/37 [==============================] - 0s 5ms/step - loss: 0.5116 - accuracy: 0.7771 - val_loss: 0.6018 - val_accuracy: 0.7538\n",
      "Epoch 25/50\n",
      "37/37 [==============================] - 0s 5ms/step - loss: 0.4887 - accuracy: 0.7883 - val_loss: 0.5971 - val_accuracy: 0.7385\n",
      "Epoch 26/50\n",
      "37/37 [==============================] - 0s 5ms/step - loss: 0.4906 - accuracy: 0.7900 - val_loss: 0.5879 - val_accuracy: 0.7692\n",
      "Epoch 27/50\n",
      "37/37 [==============================] - 0s 5ms/step - loss: 0.4774 - accuracy: 0.7986 - val_loss: 0.5836 - val_accuracy: 0.7615\n",
      "Epoch 28/50\n",
      "37/37 [==============================] - 0s 5ms/step - loss: 0.4583 - accuracy: 0.7986 - val_loss: 0.5769 - val_accuracy: 0.7615\n",
      "Epoch 29/50\n",
      "37/37 [==============================] - 0s 5ms/step - loss: 0.4469 - accuracy: 0.8012 - val_loss: 0.5656 - val_accuracy: 0.7615\n",
      "Epoch 30/50\n",
      "37/37 [==============================] - 0s 5ms/step - loss: 0.4495 - accuracy: 0.8115 - val_loss: 0.5690 - val_accuracy: 0.7769\n",
      "Epoch 31/50\n",
      "37/37 [==============================] - 0s 5ms/step - loss: 0.4296 - accuracy: 0.8184 - val_loss: 0.5613 - val_accuracy: 0.7769\n",
      "Epoch 32/50\n",
      "37/37 [==============================] - 0s 5ms/step - loss: 0.4215 - accuracy: 0.8348 - val_loss: 0.5626 - val_accuracy: 0.7615\n",
      "Epoch 33/50\n",
      "37/37 [==============================] - 0s 5ms/step - loss: 0.4042 - accuracy: 0.8313 - val_loss: 0.5587 - val_accuracy: 0.7923\n",
      "Epoch 34/50\n",
      "37/37 [==============================] - 0s 5ms/step - loss: 0.3904 - accuracy: 0.8434 - val_loss: 0.5287 - val_accuracy: 0.7769\n",
      "Epoch 35/50\n",
      "37/37 [==============================] - 0s 5ms/step - loss: 0.3877 - accuracy: 0.8460 - val_loss: 0.5167 - val_accuracy: 0.7769\n",
      "Epoch 36/50\n",
      "37/37 [==============================] - 0s 5ms/step - loss: 0.3785 - accuracy: 0.8460 - val_loss: 0.5064 - val_accuracy: 0.8077\n",
      "Epoch 37/50\n",
      "37/37 [==============================] - 0s 5ms/step - loss: 0.3702 - accuracy: 0.8511 - val_loss: 0.4894 - val_accuracy: 0.7846\n",
      "Epoch 38/50\n",
      "37/37 [==============================] - 0s 5ms/step - loss: 0.3514 - accuracy: 0.8614 - val_loss: 0.4933 - val_accuracy: 0.8154\n",
      "Epoch 39/50\n",
      "37/37 [==============================] - 0s 5ms/step - loss: 0.3462 - accuracy: 0.8546 - val_loss: 0.4771 - val_accuracy: 0.8154\n",
      "Epoch 40/50\n",
      "37/37 [==============================] - 0s 5ms/step - loss: 0.3292 - accuracy: 0.8692 - val_loss: 0.4816 - val_accuracy: 0.8154\n",
      "Epoch 41/50\n",
      "37/37 [==============================] - 0s 5ms/step - loss: 0.3238 - accuracy: 0.8778 - val_loss: 0.4854 - val_accuracy: 0.8000\n",
      "Epoch 42/50\n",
      "37/37 [==============================] - 0s 5ms/step - loss: 0.3059 - accuracy: 0.8804 - val_loss: 0.4748 - val_accuracy: 0.8077\n",
      "Epoch 43/50\n",
      "37/37 [==============================] - 0s 5ms/step - loss: 0.2999 - accuracy: 0.8761 - val_loss: 0.4691 - val_accuracy: 0.8077\n",
      "Epoch 44/50\n",
      "37/37 [==============================] - 0s 5ms/step - loss: 0.2823 - accuracy: 0.8838 - val_loss: 0.4518 - val_accuracy: 0.8308\n",
      "Epoch 45/50\n",
      "37/37 [==============================] - 0s 5ms/step - loss: 0.2843 - accuracy: 0.8898 - val_loss: 0.4438 - val_accuracy: 0.8231\n",
      "Epoch 46/50\n",
      "37/37 [==============================] - 0s 5ms/step - loss: 0.2887 - accuracy: 0.8864 - val_loss: 0.4572 - val_accuracy: 0.8154\n",
      "Epoch 47/50\n",
      "37/37 [==============================] - 0s 5ms/step - loss: 0.2610 - accuracy: 0.9157 - val_loss: 0.4437 - val_accuracy: 0.8231\n",
      "Epoch 48/50\n",
      "37/37 [==============================] - 0s 5ms/step - loss: 0.2665 - accuracy: 0.8933 - val_loss: 0.4568 - val_accuracy: 0.8308\n",
      "Epoch 49/50\n",
      "37/37 [==============================] - 0s 5ms/step - loss: 0.2443 - accuracy: 0.9079 - val_loss: 0.4400 - val_accuracy: 0.8154\n",
      "Epoch 50/50\n",
      "37/37 [==============================] - 0s 5ms/step - loss: 0.2533 - accuracy: 0.8950 - val_loss: 0.4321 - val_accuracy: 0.8308\n",
      "14/14 [==============================] - 0s 2ms/step\n"
     ]
    }
   ],
   "source": [
    "model_history=model.fit(x=X_train, y=y_train, epochs=50, batch_size=32, validation_split = 0.1, shuffle = True)\n",
    "pred_DL = model.predict(X_test)\n",
    "\n",
    "y_test_class = np.argmax(y_test,axis=1) # 배열에서 최댓값을 가지는 원소의 인덱스를 반환하는 함수\n",
    "y_pred_class = np.argmax(pred_DL,axis=1)"
   ]
  },
  {
   "cell_type": "code",
   "execution_count": 94,
   "id": "0e872b1d-263d-4843-adf4-079ade88b2f5",
   "metadata": {},
   "outputs": [
    {
     "data": {
      "image/png": "[encoded data removed]",
      "text/plain": [
       "<Figure size 640x480 with 1 Axes>"
      ]
     },
     "metadata": {},
     "output_type": "display_data"
    }
   ],
   "source": [
    "import matplotlib.pyplot as plt\n",
    "import seaborn as sns\n",
    "\n",
    "# 훈련 손실(training loss)과 검증 손실(validation loss) 추출\n",
    "loss = model_history.history['loss']\n",
    "val_loss = model_history.history['val_loss']\n",
    "\n",
    "# 에포크(epoch) 범위 생성\n",
    "epochs = range(1, len(loss) + 1)\n",
    "\n",
    "# 훈련 손실(training loss)과 검증 손실(validation loss) 시각화\n",
    "plt.plot(epochs, loss, 'y', label='Training loss')  # 훈련 손실을 노란색(yellow)으로 플롯\n",
    "plt.plot(epochs, val_loss, 'r', label='Validation loss')  # 검증 손실을 빨간색(red)으로 플롯\n",
    "plt.title('Training and validation loss')  # 그래프 제목 설정\n",
    "plt.xlabel('Epochs')  # x축 레이블 설정\n",
    "plt.ylabel('Loss')  # y축 레이블 설정\n",
    "plt.legend()  # 범례(legend) 표시\n",
    "plt.show()  # 그래프 출력"
   ]
  },
  {
   "cell_type": "code",
   "execution_count": 95,
   "id": "436410b5-7309-4675-9c90-1e35d3afe687",
   "metadata": {},
   "outputs": [
    {
     "data": {
      "image/png": "[encoded data removed]",
      "text/plain": [
       "<Figure size 640x480 with 1 Axes>"
      ]
     },
     "metadata": {},
     "output_type": "display_data"
    }
   ],
   "source": [
    "acc =model_history.history['accuracy']\n",
    "val_acc =model_history.history['val_accuracy']\n",
    "plt.plot(epochs, acc, 'y', label='Training acc')\n",
    "plt.plot(epochs, val_acc, 'r', label='Validation acc')\n",
    "plt.title('Training and validation accuracy')\n",
    "plt.xlabel('Epochs')\n",
    "plt.ylabel('Accuracy')\n",
    "plt.legend()\n",
    "plt.show()"
   ]
  },
  {
   "cell_type": "code",
   "execution_count": 96,
   "id": "7c0451c7-6175-421b-bcbd-1cceb1cc2aa1",
   "metadata": {},
   "outputs": [
    {
     "name": "stdout",
     "output_type": "stream",
     "text": [
      "              precision    recall  f1-score   support\n",
      "\n",
      "           0       0.55      0.58      0.56        99\n",
      "           1       0.00      0.00      0.00        21\n",
      "           2       0.88      0.95      0.91       292\n",
      "           3       0.25      0.06      0.10        16\n",
      "\n",
      "    accuracy                           0.79       428\n",
      "   macro avg       0.42      0.40      0.39       428\n",
      "weighted avg       0.73      0.79      0.76       428\n",
      "\n",
      "[[ 57   2  38   2]\n",
      " [ 19   0   1   1]\n",
      " [ 14   0 278   0]\n",
      " [ 14   1   0   1]]\n"
     ]
    }
   ],
   "source": [
    "from sklearn.metrics import accuracy_score, confusion_matrix, classification_report\n",
    "#Accuracy of the predicted values\n",
    "print(classification_report(y_test_class, y_pred_class))\n",
    "print(confusion_matrix(y_test_class, y_pred_class))"
   ]
  }
 ],
 "metadata": {
  "kernelspec": {
   "display_name": "Python 3 (ipykernel)",
   "language": "python",
   "name": "python3"
  },
  "language_info": {
   "codemirror_mode": {
    "name": "ipython",
    "version": 3
   },
   "file_extension": ".py",
   "mimetype": "text/x-python",
   "name": "python",
   "nbconvert_exporter": "python",
   "pygments_lexer": "ipython3",
   "version": "3.11.7"
  }
 },
 "nbformat": 4,
 "nbformat_minor": 5
}
