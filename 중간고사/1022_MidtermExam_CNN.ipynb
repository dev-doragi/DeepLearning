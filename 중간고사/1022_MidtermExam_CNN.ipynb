{
 "cells": [
  {
   "cell_type": "markdown",
   "id": "e2654335-9ab8-4d34-9f37-49a30111d8e6",
   "metadata": {},
   "source": [
    "## 8주차 중간고사"
   ]
  },
  {
   "cell_type": "markdown",
   "id": "944de6c6-8576-4647-8f9a-9a0482563b22",
   "metadata": {},
   "source": [
    "### CNN (Convolution Network)"
   ]
  },
  {
   "cell_type": "markdown",
   "id": "8422cca8-95ce-486f-848f-d89640292485",
   "metadata": {},
   "source": [
    "1. 해당 소스를 이용하여 ML 분류 RF, LR, DT\n",
    "\n",
    "2. 해당 소스를 이용하여 FCNN\n",
    "\n",
    "3. 해당 소스를 이용하여 CNN\n",
    "\n",
    "4. 모든 소스에는 F1값 및 confusion matrix 표시"
   ]
  },
  {
   "cell_type": "code",
   "execution_count": 58,
   "id": "f4839f95-2d4a-4836-a484-835574aa4c7b",
   "metadata": {},
   "outputs": [],
   "source": [
    "import pandas as pd\n",
    "import numpy as np\n",
    "import matplotlib.pyplot as plt\n",
    "from sklearn.model_selection import train_test_split\n",
    "from sklearn.preprocessing import StandardScaler, LabelEncoder\n",
    "import seaborn as sns\n",
    "import tensorflow as tf\n",
    "from tensorflow import keras"
   ]
  },
  {
   "cell_type": "code",
   "execution_count": 59,
   "id": "a18ed2cc-89bb-4f88-827f-dcabd3b8dbf1",
   "metadata": {},
   "outputs": [],
   "source": [
    "from keras.models import Sequential, Model\n",
    "from keras.layers import Dense, Input\n",
    "from keras.optimizers import Adam\n",
    "from tensorflow.keras import layers"
   ]
  },
  {
   "cell_type": "markdown",
   "id": "76407442-c49e-44a2-89ec-8c0271bf30d9",
   "metadata": {},
   "source": [
    "### 1. Data Load"
   ]
  },
  {
   "cell_type": "code",
   "execution_count": 60,
   "id": "11a499d6-4ed4-4343-abf1-2282140fcd4c",
   "metadata": {},
   "outputs": [
    {
     "data": {
      "text/html": [
       "<div>\n",
       "<style scoped>\n",
       "    .dataframe tbody tr th:only-of-type {\n",
       "        vertical-align: middle;\n",
       "    }\n",
       "\n",
       "    .dataframe tbody tr th {\n",
       "        vertical-align: top;\n",
       "    }\n",
       "\n",
       "    .dataframe thead th {\n",
       "        text-align: right;\n",
       "    }\n",
       "</style>\n",
       "<table border=\"1\" class=\"dataframe\">\n",
       "  <thead>\n",
       "    <tr style=\"text-align: right;\">\n",
       "      <th></th>\n",
       "      <th>buying</th>\n",
       "      <th>maint</th>\n",
       "      <th>doors</th>\n",
       "      <th>persons</th>\n",
       "      <th>lug_boot</th>\n",
       "      <th>safety</th>\n",
       "      <th>class</th>\n",
       "    </tr>\n",
       "  </thead>\n",
       "  <tbody>\n",
       "    <tr>\n",
       "      <th>0</th>\n",
       "      <td>vhigh</td>\n",
       "      <td>vhigh</td>\n",
       "      <td>2</td>\n",
       "      <td>2</td>\n",
       "      <td>small</td>\n",
       "      <td>low</td>\n",
       "      <td>unacc</td>\n",
       "    </tr>\n",
       "    <tr>\n",
       "      <th>1</th>\n",
       "      <td>vhigh</td>\n",
       "      <td>vhigh</td>\n",
       "      <td>2</td>\n",
       "      <td>2</td>\n",
       "      <td>small</td>\n",
       "      <td>med</td>\n",
       "      <td>unacc</td>\n",
       "    </tr>\n",
       "    <tr>\n",
       "      <th>2</th>\n",
       "      <td>vhigh</td>\n",
       "      <td>vhigh</td>\n",
       "      <td>2</td>\n",
       "      <td>2</td>\n",
       "      <td>small</td>\n",
       "      <td>high</td>\n",
       "      <td>unacc</td>\n",
       "    </tr>\n",
       "    <tr>\n",
       "      <th>3</th>\n",
       "      <td>vhigh</td>\n",
       "      <td>vhigh</td>\n",
       "      <td>2</td>\n",
       "      <td>2</td>\n",
       "      <td>med</td>\n",
       "      <td>low</td>\n",
       "      <td>unacc</td>\n",
       "    </tr>\n",
       "    <tr>\n",
       "      <th>4</th>\n",
       "      <td>vhigh</td>\n",
       "      <td>vhigh</td>\n",
       "      <td>2</td>\n",
       "      <td>2</td>\n",
       "      <td>med</td>\n",
       "      <td>med</td>\n",
       "      <td>unacc</td>\n",
       "    </tr>\n",
       "    <tr>\n",
       "      <th>...</th>\n",
       "      <td>...</td>\n",
       "      <td>...</td>\n",
       "      <td>...</td>\n",
       "      <td>...</td>\n",
       "      <td>...</td>\n",
       "      <td>...</td>\n",
       "      <td>...</td>\n",
       "    </tr>\n",
       "    <tr>\n",
       "      <th>1723</th>\n",
       "      <td>low</td>\n",
       "      <td>low</td>\n",
       "      <td>5more</td>\n",
       "      <td>more</td>\n",
       "      <td>med</td>\n",
       "      <td>med</td>\n",
       "      <td>good</td>\n",
       "    </tr>\n",
       "    <tr>\n",
       "      <th>1724</th>\n",
       "      <td>low</td>\n",
       "      <td>low</td>\n",
       "      <td>5more</td>\n",
       "      <td>more</td>\n",
       "      <td>med</td>\n",
       "      <td>high</td>\n",
       "      <td>vgood</td>\n",
       "    </tr>\n",
       "    <tr>\n",
       "      <th>1725</th>\n",
       "      <td>low</td>\n",
       "      <td>low</td>\n",
       "      <td>5more</td>\n",
       "      <td>more</td>\n",
       "      <td>big</td>\n",
       "      <td>low</td>\n",
       "      <td>unacc</td>\n",
       "    </tr>\n",
       "    <tr>\n",
       "      <th>1726</th>\n",
       "      <td>low</td>\n",
       "      <td>low</td>\n",
       "      <td>5more</td>\n",
       "      <td>more</td>\n",
       "      <td>big</td>\n",
       "      <td>med</td>\n",
       "      <td>good</td>\n",
       "    </tr>\n",
       "    <tr>\n",
       "      <th>1727</th>\n",
       "      <td>low</td>\n",
       "      <td>low</td>\n",
       "      <td>5more</td>\n",
       "      <td>more</td>\n",
       "      <td>big</td>\n",
       "      <td>high</td>\n",
       "      <td>vgood</td>\n",
       "    </tr>\n",
       "  </tbody>\n",
       "</table>\n",
       "<p>1728 rows × 7 columns</p>\n",
       "</div>"
      ],
      "text/plain": [
       "     buying  maint  doors persons lug_boot safety  class\n",
       "0     vhigh  vhigh      2       2    small    low  unacc\n",
       "1     vhigh  vhigh      2       2    small    med  unacc\n",
       "2     vhigh  vhigh      2       2    small   high  unacc\n",
       "3     vhigh  vhigh      2       2      med    low  unacc\n",
       "4     vhigh  vhigh      2       2      med    med  unacc\n",
       "...     ...    ...    ...     ...      ...    ...    ...\n",
       "1723    low    low  5more    more      med    med   good\n",
       "1724    low    low  5more    more      med   high  vgood\n",
       "1725    low    low  5more    more      big    low  unacc\n",
       "1726    low    low  5more    more      big    med   good\n",
       "1727    low    low  5more    more      big   high  vgood\n",
       "\n",
       "[1728 rows x 7 columns]"
      ]
     },
     "execution_count": 60,
     "metadata": {},
     "output_type": "execute_result"
    }
   ],
   "source": [
    "url = 'https://archive.ics.uci.edu/ml/machine-learning-databases/car/car.data'\n",
    "columns = ['buying', 'maint', 'doors', 'persons', 'lug_boot', 'safety', 'class']\n",
    "df = pd.read_csv(url, names=columns)\n",
    "df"
   ]
  },
  {
   "cell_type": "code",
   "execution_count": 61,
   "id": "a9bf79cd-1c76-4fbc-8379-8223d286647f",
   "metadata": {},
   "outputs": [
    {
     "data": {
      "text/plain": [
       "buying      0\n",
       "maint       0\n",
       "doors       0\n",
       "persons     0\n",
       "lug_boot    0\n",
       "safety      0\n",
       "class       0\n",
       "dtype: int64"
      ]
     },
     "execution_count": 61,
     "metadata": {},
     "output_type": "execute_result"
    }
   ],
   "source": [
    "# 결측치 확인\n",
    "df.isnull().sum()"
   ]
  },
  {
   "cell_type": "code",
   "execution_count": 62,
   "id": "1e9df310-fcde-4cc3-ab5c-07250198d94e",
   "metadata": {},
   "outputs": [
    {
     "data": {
      "text/plain": [
       "buying      0\n",
       "maint       0\n",
       "doors       0\n",
       "persons     0\n",
       "lug_boot    0\n",
       "safety      0\n",
       "class       0\n",
       "dtype: int64"
      ]
     },
     "execution_count": 62,
     "metadata": {},
     "output_type": "execute_result"
    }
   ],
   "source": [
    "# 결측치 제거\n",
    "df = df.dropna()\n",
    "df.isnull().sum()"
   ]
  },
  {
   "cell_type": "code",
   "execution_count": 63,
   "id": "c470b8cd-e861-4c82-8177-1353caf82d67",
   "metadata": {},
   "outputs": [
    {
     "data": {
      "text/plain": [
       "class\n",
       "unacc    1210\n",
       "acc       384\n",
       "good       69\n",
       "vgood      65\n",
       "Name: count, dtype: int64"
      ]
     },
     "execution_count": 63,
     "metadata": {},
     "output_type": "execute_result"
    }
   ],
   "source": [
    "df['class'].value_counts()"
   ]
  },
  {
   "cell_type": "code",
   "execution_count": 64,
   "id": "dd4946bd-66d9-4b7e-861b-bf8b46d10532",
   "metadata": {},
   "outputs": [
    {
     "data": {
      "text/html": [
       "<div>\n",
       "<style scoped>\n",
       "    .dataframe tbody tr th:only-of-type {\n",
       "        vertical-align: middle;\n",
       "    }\n",
       "\n",
       "    .dataframe tbody tr th {\n",
       "        vertical-align: top;\n",
       "    }\n",
       "\n",
       "    .dataframe thead th {\n",
       "        text-align: right;\n",
       "    }\n",
       "</style>\n",
       "<table border=\"1\" class=\"dataframe\">\n",
       "  <thead>\n",
       "    <tr style=\"text-align: right;\">\n",
       "      <th></th>\n",
       "      <th>buying</th>\n",
       "      <th>maint</th>\n",
       "      <th>doors</th>\n",
       "      <th>persons</th>\n",
       "      <th>lug_boot</th>\n",
       "      <th>safety</th>\n",
       "      <th>class</th>\n",
       "    </tr>\n",
       "  </thead>\n",
       "  <tbody>\n",
       "    <tr>\n",
       "      <th>0</th>\n",
       "      <td>3</td>\n",
       "      <td>3</td>\n",
       "      <td>0</td>\n",
       "      <td>0</td>\n",
       "      <td>2</td>\n",
       "      <td>1</td>\n",
       "      <td>2</td>\n",
       "    </tr>\n",
       "    <tr>\n",
       "      <th>1</th>\n",
       "      <td>3</td>\n",
       "      <td>3</td>\n",
       "      <td>0</td>\n",
       "      <td>0</td>\n",
       "      <td>2</td>\n",
       "      <td>2</td>\n",
       "      <td>2</td>\n",
       "    </tr>\n",
       "    <tr>\n",
       "      <th>2</th>\n",
       "      <td>3</td>\n",
       "      <td>3</td>\n",
       "      <td>0</td>\n",
       "      <td>0</td>\n",
       "      <td>2</td>\n",
       "      <td>0</td>\n",
       "      <td>2</td>\n",
       "    </tr>\n",
       "    <tr>\n",
       "      <th>3</th>\n",
       "      <td>3</td>\n",
       "      <td>3</td>\n",
       "      <td>0</td>\n",
       "      <td>0</td>\n",
       "      <td>1</td>\n",
       "      <td>1</td>\n",
       "      <td>2</td>\n",
       "    </tr>\n",
       "    <tr>\n",
       "      <th>4</th>\n",
       "      <td>3</td>\n",
       "      <td>3</td>\n",
       "      <td>0</td>\n",
       "      <td>0</td>\n",
       "      <td>1</td>\n",
       "      <td>2</td>\n",
       "      <td>2</td>\n",
       "    </tr>\n",
       "    <tr>\n",
       "      <th>...</th>\n",
       "      <td>...</td>\n",
       "      <td>...</td>\n",
       "      <td>...</td>\n",
       "      <td>...</td>\n",
       "      <td>...</td>\n",
       "      <td>...</td>\n",
       "      <td>...</td>\n",
       "    </tr>\n",
       "    <tr>\n",
       "      <th>1723</th>\n",
       "      <td>1</td>\n",
       "      <td>1</td>\n",
       "      <td>3</td>\n",
       "      <td>2</td>\n",
       "      <td>1</td>\n",
       "      <td>2</td>\n",
       "      <td>1</td>\n",
       "    </tr>\n",
       "    <tr>\n",
       "      <th>1724</th>\n",
       "      <td>1</td>\n",
       "      <td>1</td>\n",
       "      <td>3</td>\n",
       "      <td>2</td>\n",
       "      <td>1</td>\n",
       "      <td>0</td>\n",
       "      <td>3</td>\n",
       "    </tr>\n",
       "    <tr>\n",
       "      <th>1725</th>\n",
       "      <td>1</td>\n",
       "      <td>1</td>\n",
       "      <td>3</td>\n",
       "      <td>2</td>\n",
       "      <td>0</td>\n",
       "      <td>1</td>\n",
       "      <td>2</td>\n",
       "    </tr>\n",
       "    <tr>\n",
       "      <th>1726</th>\n",
       "      <td>1</td>\n",
       "      <td>1</td>\n",
       "      <td>3</td>\n",
       "      <td>2</td>\n",
       "      <td>0</td>\n",
       "      <td>2</td>\n",
       "      <td>1</td>\n",
       "    </tr>\n",
       "    <tr>\n",
       "      <th>1727</th>\n",
       "      <td>1</td>\n",
       "      <td>1</td>\n",
       "      <td>3</td>\n",
       "      <td>2</td>\n",
       "      <td>0</td>\n",
       "      <td>0</td>\n",
       "      <td>3</td>\n",
       "    </tr>\n",
       "  </tbody>\n",
       "</table>\n",
       "<p>1728 rows × 7 columns</p>\n",
       "</div>"
      ],
      "text/plain": [
       "      buying  maint  doors  persons  lug_boot  safety  class\n",
       "0          3      3      0        0         2       1      2\n",
       "1          3      3      0        0         2       2      2\n",
       "2          3      3      0        0         2       0      2\n",
       "3          3      3      0        0         1       1      2\n",
       "4          3      3      0        0         1       2      2\n",
       "...      ...    ...    ...      ...       ...     ...    ...\n",
       "1723       1      1      3        2         1       2      1\n",
       "1724       1      1      3        2         1       0      3\n",
       "1725       1      1      3        2         0       1      2\n",
       "1726       1      1      3        2         0       2      1\n",
       "1727       1      1      3        2         0       0      3\n",
       "\n",
       "[1728 rows x 7 columns]"
      ]
     },
     "execution_count": 64,
     "metadata": {},
     "output_type": "execute_result"
    }
   ],
   "source": [
    "#레이블을 숫자로 변환\n",
    "from sklearn.preprocessing import StandardScaler, LabelEncoder\n",
    "\n",
    "# LabelEncoder 객체 생성\n",
    "label = LabelEncoder()\n",
    "\n",
    "# 문자로 지정된 열의 데이터에 대해 LabelEncoder를 적용하여 변환\n",
    "df['buying'] = label.fit_transform(df['buying'])\n",
    "df['maint'] = label.fit_transform(df['maint'])\n",
    "df['doors'] = label.fit_transform(df['doors'])\n",
    "df['persons'] = label.fit_transform(df['persons'])\n",
    "df['lug_boot'] = label.fit_transform(df['lug_boot'])\n",
    "df['safety'] = label.fit_transform(df['safety'])\n",
    "df['class'] = label.fit_transform(df['class'])\n",
    "\n",
    "df"
   ]
  },
  {
   "cell_type": "markdown",
   "id": "c257c68a-e616-496b-8256-21ae8d30d532",
   "metadata": {},
   "source": [
    "### 2. Train Test Split"
   ]
  },
  {
   "cell_type": "code",
   "execution_count": 65,
   "id": "a9594804-94f0-4e57-a675-c0f6a06d8958",
   "metadata": {},
   "outputs": [
    {
     "data": {
      "text/html": [
       "<div>\n",
       "<style scoped>\n",
       "    .dataframe tbody tr th:only-of-type {\n",
       "        vertical-align: middle;\n",
       "    }\n",
       "\n",
       "    .dataframe tbody tr th {\n",
       "        vertical-align: top;\n",
       "    }\n",
       "\n",
       "    .dataframe thead th {\n",
       "        text-align: right;\n",
       "    }\n",
       "</style>\n",
       "<table border=\"1\" class=\"dataframe\">\n",
       "  <thead>\n",
       "    <tr style=\"text-align: right;\">\n",
       "      <th></th>\n",
       "      <th>buying</th>\n",
       "      <th>maint</th>\n",
       "      <th>doors</th>\n",
       "      <th>persons</th>\n",
       "      <th>lug_boot</th>\n",
       "      <th>safety</th>\n",
       "    </tr>\n",
       "  </thead>\n",
       "  <tbody>\n",
       "    <tr>\n",
       "      <th>0</th>\n",
       "      <td>3</td>\n",
       "      <td>3</td>\n",
       "      <td>0</td>\n",
       "      <td>0</td>\n",
       "      <td>2</td>\n",
       "      <td>1</td>\n",
       "    </tr>\n",
       "    <tr>\n",
       "      <th>1</th>\n",
       "      <td>3</td>\n",
       "      <td>3</td>\n",
       "      <td>0</td>\n",
       "      <td>0</td>\n",
       "      <td>2</td>\n",
       "      <td>2</td>\n",
       "    </tr>\n",
       "    <tr>\n",
       "      <th>2</th>\n",
       "      <td>3</td>\n",
       "      <td>3</td>\n",
       "      <td>0</td>\n",
       "      <td>0</td>\n",
       "      <td>2</td>\n",
       "      <td>0</td>\n",
       "    </tr>\n",
       "    <tr>\n",
       "      <th>3</th>\n",
       "      <td>3</td>\n",
       "      <td>3</td>\n",
       "      <td>0</td>\n",
       "      <td>0</td>\n",
       "      <td>1</td>\n",
       "      <td>1</td>\n",
       "    </tr>\n",
       "    <tr>\n",
       "      <th>4</th>\n",
       "      <td>3</td>\n",
       "      <td>3</td>\n",
       "      <td>0</td>\n",
       "      <td>0</td>\n",
       "      <td>1</td>\n",
       "      <td>2</td>\n",
       "    </tr>\n",
       "  </tbody>\n",
       "</table>\n",
       "</div>"
      ],
      "text/plain": [
       "   buying  maint  doors  persons  lug_boot  safety\n",
       "0       3      3      0        0         2       1\n",
       "1       3      3      0        0         2       2\n",
       "2       3      3      0        0         2       0\n",
       "3       3      3      0        0         1       1\n",
       "4       3      3      0        0         1       2"
      ]
     },
     "execution_count": 65,
     "metadata": {},
     "output_type": "execute_result"
    }
   ],
   "source": [
    "X=df.drop(['class'], axis=1)\n",
    "\n",
    "X.head()\n",
    "# head()는 첫 5행만 출력함."
   ]
  },
  {
   "cell_type": "code",
   "execution_count": 66,
   "id": "f6b0ea54-044c-4716-81df-b49596f433b7",
   "metadata": {},
   "outputs": [
    {
     "data": {
      "text/plain": [
       "class\n",
       "0     384\n",
       "1      69\n",
       "2    1210\n",
       "3      65\n",
       "Name: count, dtype: int64"
      ]
     },
     "execution_count": 66,
     "metadata": {},
     "output_type": "execute_result"
    }
   ],
   "source": [
    "y = df['class']\n",
    "y.value_counts().sort_index(ascending=True)"
   ]
  },
  {
   "cell_type": "code",
   "execution_count": 67,
   "id": "f0cf631e-4879-4361-aa80-b1e76f13771c",
   "metadata": {},
   "outputs": [
    {
     "data": {
      "text/plain": [
       "array([[False, False,  True, False],\n",
       "       [False, False,  True, False],\n",
       "       [False, False,  True, False],\n",
       "       ...,\n",
       "       [False, False,  True, False],\n",
       "       [False,  True, False, False],\n",
       "       [False, False, False,  True]])"
      ]
     },
     "execution_count": 67,
     "metadata": {},
     "output_type": "execute_result"
    }
   ],
   "source": [
    "#one hot encoding 하기\n",
    "\n",
    "y = pd.get_dummies(y).values\n",
    "y"
   ]
  },
  {
   "cell_type": "code",
   "execution_count": 68,
   "id": "8bb538eb-6f95-4072-b144-7d4bd6fe1e22",
   "metadata": {},
   "outputs": [
    {
     "data": {
      "text/html": [
       "<div>\n",
       "<style scoped>\n",
       "    .dataframe tbody tr th:only-of-type {\n",
       "        vertical-align: middle;\n",
       "    }\n",
       "\n",
       "    .dataframe tbody tr th {\n",
       "        vertical-align: top;\n",
       "    }\n",
       "\n",
       "    .dataframe thead th {\n",
       "        text-align: right;\n",
       "    }\n",
       "</style>\n",
       "<table border=\"1\" class=\"dataframe\">\n",
       "  <thead>\n",
       "    <tr style=\"text-align: right;\">\n",
       "      <th></th>\n",
       "      <th>buying</th>\n",
       "      <th>maint</th>\n",
       "      <th>doors</th>\n",
       "      <th>persons</th>\n",
       "      <th>lug_boot</th>\n",
       "      <th>safety</th>\n",
       "    </tr>\n",
       "  </thead>\n",
       "  <tbody>\n",
       "    <tr>\n",
       "      <th>520</th>\n",
       "      <td>0</td>\n",
       "      <td>3</td>\n",
       "      <td>3</td>\n",
       "      <td>0</td>\n",
       "      <td>0</td>\n",
       "      <td>2</td>\n",
       "    </tr>\n",
       "    <tr>\n",
       "      <th>621</th>\n",
       "      <td>0</td>\n",
       "      <td>0</td>\n",
       "      <td>3</td>\n",
       "      <td>0</td>\n",
       "      <td>2</td>\n",
       "      <td>1</td>\n",
       "    </tr>\n",
       "    <tr>\n",
       "      <th>1017</th>\n",
       "      <td>2</td>\n",
       "      <td>0</td>\n",
       "      <td>1</td>\n",
       "      <td>2</td>\n",
       "      <td>2</td>\n",
       "      <td>1</td>\n",
       "    </tr>\n",
       "    <tr>\n",
       "      <th>1273</th>\n",
       "      <td>2</td>\n",
       "      <td>1</td>\n",
       "      <td>3</td>\n",
       "      <td>0</td>\n",
       "      <td>1</td>\n",
       "      <td>2</td>\n",
       "    </tr>\n",
       "    <tr>\n",
       "      <th>924</th>\n",
       "      <td>2</td>\n",
       "      <td>3</td>\n",
       "      <td>2</td>\n",
       "      <td>0</td>\n",
       "      <td>0</td>\n",
       "      <td>1</td>\n",
       "    </tr>\n",
       "    <tr>\n",
       "      <th>...</th>\n",
       "      <td>...</td>\n",
       "      <td>...</td>\n",
       "      <td>...</td>\n",
       "      <td>...</td>\n",
       "      <td>...</td>\n",
       "      <td>...</td>\n",
       "    </tr>\n",
       "    <tr>\n",
       "      <th>835</th>\n",
       "      <td>0</td>\n",
       "      <td>1</td>\n",
       "      <td>2</td>\n",
       "      <td>2</td>\n",
       "      <td>0</td>\n",
       "      <td>2</td>\n",
       "    </tr>\n",
       "    <tr>\n",
       "      <th>1216</th>\n",
       "      <td>2</td>\n",
       "      <td>1</td>\n",
       "      <td>1</td>\n",
       "      <td>0</td>\n",
       "      <td>2</td>\n",
       "      <td>2</td>\n",
       "    </tr>\n",
       "    <tr>\n",
       "      <th>1653</th>\n",
       "      <td>1</td>\n",
       "      <td>1</td>\n",
       "      <td>1</td>\n",
       "      <td>0</td>\n",
       "      <td>0</td>\n",
       "      <td>1</td>\n",
       "    </tr>\n",
       "    <tr>\n",
       "      <th>559</th>\n",
       "      <td>0</td>\n",
       "      <td>0</td>\n",
       "      <td>0</td>\n",
       "      <td>2</td>\n",
       "      <td>2</td>\n",
       "      <td>2</td>\n",
       "    </tr>\n",
       "    <tr>\n",
       "      <th>684</th>\n",
       "      <td>0</td>\n",
       "      <td>2</td>\n",
       "      <td>1</td>\n",
       "      <td>1</td>\n",
       "      <td>2</td>\n",
       "      <td>1</td>\n",
       "    </tr>\n",
       "  </tbody>\n",
       "</table>\n",
       "<p>1296 rows × 6 columns</p>\n",
       "</div>"
      ],
      "text/plain": [
       "      buying  maint  doors  persons  lug_boot  safety\n",
       "520        0      3      3        0         0       2\n",
       "621        0      0      3        0         2       1\n",
       "1017       2      0      1        2         2       1\n",
       "1273       2      1      3        0         1       2\n",
       "924        2      3      2        0         0       1\n",
       "...      ...    ...    ...      ...       ...     ...\n",
       "835        0      1      2        2         0       2\n",
       "1216       2      1      1        0         2       2\n",
       "1653       1      1      1        0         0       1\n",
       "559        0      0      0        2         2       2\n",
       "684        0      2      1        1         2       1\n",
       "\n",
       "[1296 rows x 6 columns]"
      ]
     },
     "execution_count": 68,
     "metadata": {},
     "output_type": "execute_result"
    }
   ],
   "source": [
    "from sklearn.model_selection import train_test_split\n",
    "\n",
    "X_train, X_test, y_train, y_test = train_test_split(X, y, test_size=0.25, random_state=0)\n",
    "# random_state는 데이터를 무작위로 나누거나 섞을 때 사용되는 난수 발생기의 시드(seed) 값\n",
    "X_train"
   ]
  },
  {
   "cell_type": "code",
   "execution_count": 69,
   "id": "09e65929-ba54-4ff2-b0a5-0a477126ce92",
   "metadata": {},
   "outputs": [
    {
     "data": {
      "text/plain": [
       "6"
      ]
     },
     "execution_count": 69,
     "metadata": {},
     "output_type": "execute_result"
    }
   ],
   "source": [
    "X_train.shape[1]"
   ]
  },
  {
   "cell_type": "code",
   "execution_count": 70,
   "id": "82cd7a6c-3b4f-4231-ba55-7066ae178392",
   "metadata": {},
   "outputs": [
    {
     "data": {
      "text/plain": [
       "4"
      ]
     },
     "execution_count": 70,
     "metadata": {},
     "output_type": "execute_result"
    }
   ],
   "source": [
    "y_test.shape[1]"
   ]
  },
  {
   "cell_type": "code",
   "execution_count": 71,
   "id": "34a17867-486b-41a2-98ed-d9d06754060c",
   "metadata": {},
   "outputs": [],
   "source": [
    "def split_sequences(sequences, n_steps, n_features):\n",
    "    X, y = list(), list()\n",
    "    for i in range(len(sequences)):\n",
    "        # 시퀀스의 끝점 계산\n",
    "        end_ix = i + n_steps\n",
    "        # 데이터 범위를 넘어서면 중단\n",
    "        if end_ix > len(sequences):\n",
    "            break\n",
    "        # 입력 시퀀스는 n_steps 동안의 데이터 (마지막 레이블 제외)\n",
    "        seq_x = sequences[i:end_ix, :n_features]\n",
    "        seq_y = sequences[end_ix-1, n_features:] \n",
    "        X.append(seq_x)\n",
    "        y.append(seq_y)\n",
    "    \n",
    "    return np.array(X), np.array(y)"
   ]
  },
  {
   "cell_type": "code",
   "execution_count": 72,
   "id": "9a5085e2-ac83-426e-b14b-63298a4c92fc",
   "metadata": {},
   "outputs": [
    {
     "name": "stdout",
     "output_type": "stream",
     "text": [
      "[[1 3 0 ... 0 1 0]\n",
      " [3 0 0 ... 0 1 0]\n",
      " [0 2 0 ... 0 1 0]\n",
      " ...\n",
      " [0 2 3 ... 0 0 0]\n",
      " [0 2 3 ... 0 1 0]\n",
      " [2 0 3 ... 0 0 0]]\n"
     ]
    }
   ],
   "source": [
    "# Merge train and test X/y data to apply sequence transformation function\n",
    "y_train_array = np.array(y_train)\n",
    "# np.c_ : 배열을 열 방향으로 이어붙인다.\n",
    "train_set = np.c_[X_train, y_train_array]\n",
    "\n",
    "y_test_array = np.array(y_test)\n",
    "test_set = np.c_[X_test, y_test_array]\n",
    "\n",
    "print(test_set)"
   ]
  },
  {
   "cell_type": "code",
   "execution_count": 73,
   "id": "45fafd8a-7c93-48e0-a461-970046e2c08d",
   "metadata": {},
   "outputs": [
    {
     "name": "stdout",
     "output_type": "stream",
     "text": [
      "(1292, 5, 6) (1292, 4)\n",
      "(428, 5, 6) (428, 4)\n"
     ]
    }
   ],
   "source": [
    "# Apply sequence transformation using time step of 25 for both train and test data\n",
    "# All sensing modalities are recorded at a sampling rate of 50 Hz, which is considered sufficient for capturing human activity.\n",
    "\n",
    "X_train, y_train = split_sequences(train_set, 5, X_test.shape[1])\n",
    "print(X_train.shape, y_train.shape)\n",
    "\n",
    "X_test, y_test = split_sequences(test_set, 5, X_test.shape[1])\n",
    "print(X_test.shape, y_test.shape)"
   ]
  },
  {
   "cell_type": "code",
   "execution_count": 74,
   "id": "9b4ecb29-32bb-4760-8b4c-4d8d50fd57b3",
   "metadata": {},
   "outputs": [
    {
     "data": {
      "text/plain": [
       "2"
      ]
     },
     "execution_count": 74,
     "metadata": {},
     "output_type": "execute_result"
    }
   ],
   "source": [
    "n_classes = len(np.unique(y_train))\n",
    "\n",
    "idx = np.random.permutation(len(X_train))\n",
    "X_train = X_train[idx]\n",
    "y_train = y_train[idx]\n",
    "\n",
    "y_train[y_train == -1] = 0\n",
    "y_test[y_test == -1] = 0\n",
    "\n",
    "n_classes"
   ]
  },
  {
   "cell_type": "code",
   "execution_count": 75,
   "id": "67a1e5ae-0ac7-4688-b1f6-e442ed91e210",
   "metadata": {},
   "outputs": [
    {
     "name": "stdout",
     "output_type": "stream",
     "text": [
      "5 6 4\n"
     ]
    }
   ],
   "source": [
    "# 각각 스텝 수, feature 수, label 수\n",
    "n_timesteps, n_features, n_outputs = X_train.shape[1], X_train.shape[2], y_train.shape[1]\n",
    "print(n_timesteps, n_features, n_outputs)"
   ]
  },
  {
   "cell_type": "code",
   "execution_count": 76,
   "id": "32a46e16-30eb-493a-96f6-ea57d95bf088",
   "metadata": {},
   "outputs": [
    {
     "data": {
      "text/plain": [
       "(5, 6)"
      ]
     },
     "execution_count": 76,
     "metadata": {},
     "output_type": "execute_result"
    }
   ],
   "source": [
    "input_shape = X_train.shape[1:]\n",
    "input_shape"
   ]
  },
  {
   "cell_type": "code",
   "execution_count": 77,
   "id": "9a6f300a-ee81-49f5-8bca-1cd5fcc98654",
   "metadata": {},
   "outputs": [],
   "source": [
    "from tensorflow.keras.layers import Conv1D\n",
    "from tensorflow.keras.layers import Input\n",
    "from keras.layers import Dense, Flatten, Dropout"
   ]
  },
  {
   "cell_type": "markdown",
   "id": "e1e093a2-117f-4eaa-9e2f-39d8437fc4ae",
   "metadata": {},
   "source": [
    "### 3. Make a Model"
   ]
  },
  {
   "cell_type": "code",
   "execution_count": 78,
   "id": "14b8fdd4-a440-49c9-ae87-a7ba364c1cbc",
   "metadata": {},
   "outputs": [
    {
     "name": "stdout",
     "output_type": "stream",
     "text": [
      "Model: \"model_2\"\n",
      "_________________________________________________________________\n",
      " Layer (type)                Output Shape              Param #   \n",
      "=================================================================\n",
      " input_3 (InputLayer)        [(None, 5, 6)]            0         \n",
      "                                                                 \n",
      " conv1d_2 (Conv1D)           (None, 4, 32)             416       \n",
      "                                                                 \n",
      " dense_4 (Dense)             (None, 4, 64)             2112      \n",
      "                                                                 \n",
      " dropout_2 (Dropout)         (None, 4, 64)             0         \n",
      "                                                                 \n",
      " flatten_2 (Flatten)         (None, 256)               0         \n",
      "                                                                 \n",
      " dense_5 (Dense)             (None, 4)                 1028      \n",
      "                                                                 \n",
      "=================================================================\n",
      "Total params: 3556 (13.89 KB)\n",
      "Trainable params: 3556 (13.89 KB)\n",
      "Non-trainable params: 0 (0.00 Byte)\n",
      "_________________________________________________________________\n"
     ]
    }
   ],
   "source": [
    "# 신경망 모델 구축\n",
    "inputs = Input(shape=(n_timesteps, n_features,))\n",
    "\n",
    "x = Conv1D(32, 2, activation='relu')(inputs)\n",
    "x = Dense(64, activation='relu')(x)\n",
    "x = layers.Dropout(0.3)(x) # 드롭아웃으로 노드 비활성화\n",
    "x = Flatten()(x)\n",
    "prediction = Dense(n_outputs, activation='softmax')(x)\n",
    "\n",
    "model = Model(inputs=inputs, outputs=prediction)\n",
    "\n",
    "model.compile(loss='categorical_crossentropy', optimizer='adam', metrics=['accuracy'])\n",
    "model.summary()"
   ]
  },
  {
   "cell_type": "code",
   "execution_count": 79,
   "id": "855a9b7d-def8-4aa4-94cf-e0cb47ea93e7",
   "metadata": {},
   "outputs": [
    {
     "name": "stdout",
     "output_type": "stream",
     "text": [
      "Epoch 1/50\n",
      "37/37 [==============================] - 2s 12ms/step - loss: 0.9631 - accuracy: 0.6497 - val_loss: 0.8554 - val_accuracy: 0.6692\n",
      "Epoch 2/50\n",
      "37/37 [==============================] - 0s 4ms/step - loss: 0.8465 - accuracy: 0.7074 - val_loss: 0.8370 - val_accuracy: 0.6692\n",
      "Epoch 3/50\n",
      "37/37 [==============================] - 0s 4ms/step - loss: 0.8321 - accuracy: 0.7108 - val_loss: 0.8073 - val_accuracy: 0.6692\n",
      "Epoch 4/50\n",
      "37/37 [==============================] - 0s 4ms/step - loss: 0.7939 - accuracy: 0.7108 - val_loss: 0.7780 - val_accuracy: 0.6615\n",
      "Epoch 5/50\n",
      "37/37 [==============================] - 0s 4ms/step - loss: 0.7532 - accuracy: 0.7194 - val_loss: 0.7471 - val_accuracy: 0.6769\n",
      "Epoch 6/50\n",
      "37/37 [==============================] - 0s 4ms/step - loss: 0.7419 - accuracy: 0.7238 - val_loss: 0.7307 - val_accuracy: 0.6692\n",
      "Epoch 7/50\n",
      "37/37 [==============================] - 0s 4ms/step - loss: 0.7202 - accuracy: 0.7160 - val_loss: 0.7180 - val_accuracy: 0.6462\n",
      "Epoch 8/50\n",
      "37/37 [==============================] - 0s 4ms/step - loss: 0.6976 - accuracy: 0.7298 - val_loss: 0.7087 - val_accuracy: 0.6538\n",
      "Epoch 9/50\n",
      "37/37 [==============================] - 0s 4ms/step - loss: 0.6837 - accuracy: 0.7212 - val_loss: 0.6963 - val_accuracy: 0.6615\n",
      "Epoch 10/50\n",
      "37/37 [==============================] - 0s 4ms/step - loss: 0.6715 - accuracy: 0.7324 - val_loss: 0.6969 - val_accuracy: 0.6846\n",
      "Epoch 11/50\n",
      "37/37 [==============================] - 0s 4ms/step - loss: 0.6664 - accuracy: 0.7246 - val_loss: 0.6883 - val_accuracy: 0.6769\n",
      "Epoch 12/50\n",
      "37/37 [==============================] - 0s 5ms/step - loss: 0.6620 - accuracy: 0.7263 - val_loss: 0.6990 - val_accuracy: 0.6692\n",
      "Epoch 13/50\n",
      "37/37 [==============================] - 0s 4ms/step - loss: 0.6326 - accuracy: 0.7410 - val_loss: 0.6800 - val_accuracy: 0.6615\n",
      "Epoch 14/50\n",
      "37/37 [==============================] - 0s 4ms/step - loss: 0.6373 - accuracy: 0.7281 - val_loss: 0.6813 - val_accuracy: 0.6538\n",
      "Epoch 15/50\n",
      "37/37 [==============================] - 0s 4ms/step - loss: 0.6202 - accuracy: 0.7470 - val_loss: 0.6601 - val_accuracy: 0.6692\n",
      "Epoch 16/50\n",
      "37/37 [==============================] - 0s 4ms/step - loss: 0.6085 - accuracy: 0.7470 - val_loss: 0.6457 - val_accuracy: 0.6769\n",
      "Epoch 17/50\n",
      "37/37 [==============================] - 0s 4ms/step - loss: 0.5982 - accuracy: 0.7556 - val_loss: 0.6442 - val_accuracy: 0.6692\n",
      "Epoch 18/50\n",
      "37/37 [==============================] - 0s 4ms/step - loss: 0.5785 - accuracy: 0.7478 - val_loss: 0.6333 - val_accuracy: 0.6769\n",
      "Epoch 19/50\n",
      "37/37 [==============================] - 0s 4ms/step - loss: 0.5681 - accuracy: 0.7539 - val_loss: 0.6392 - val_accuracy: 0.6769\n",
      "Epoch 20/50\n",
      "37/37 [==============================] - 0s 4ms/step - loss: 0.5626 - accuracy: 0.7573 - val_loss: 0.6186 - val_accuracy: 0.6846\n",
      "Epoch 21/50\n",
      "37/37 [==============================] - 0s 4ms/step - loss: 0.5546 - accuracy: 0.7504 - val_loss: 0.6154 - val_accuracy: 0.6846\n",
      "Epoch 22/50\n",
      "37/37 [==============================] - 0s 4ms/step - loss: 0.5395 - accuracy: 0.7685 - val_loss: 0.6100 - val_accuracy: 0.6615\n",
      "Epoch 23/50\n",
      "37/37 [==============================] - 0s 4ms/step - loss: 0.5176 - accuracy: 0.7771 - val_loss: 0.5927 - val_accuracy: 0.6846\n",
      "Epoch 24/50\n",
      "37/37 [==============================] - 0s 4ms/step - loss: 0.5149 - accuracy: 0.7831 - val_loss: 0.5939 - val_accuracy: 0.6923\n",
      "Epoch 25/50\n",
      "37/37 [==============================] - 0s 4ms/step - loss: 0.4964 - accuracy: 0.7840 - val_loss: 0.5800 - val_accuracy: 0.7154\n",
      "Epoch 26/50\n",
      "37/37 [==============================] - 0s 4ms/step - loss: 0.4923 - accuracy: 0.7978 - val_loss: 0.5705 - val_accuracy: 0.7077\n",
      "Epoch 27/50\n",
      "37/37 [==============================] - 0s 4ms/step - loss: 0.4649 - accuracy: 0.8046 - val_loss: 0.5465 - val_accuracy: 0.7154\n",
      "Epoch 28/50\n",
      "37/37 [==============================] - 0s 4ms/step - loss: 0.4679 - accuracy: 0.8046 - val_loss: 0.5414 - val_accuracy: 0.7154\n",
      "Epoch 29/50\n",
      "37/37 [==============================] - 0s 4ms/step - loss: 0.4562 - accuracy: 0.8176 - val_loss: 0.5528 - val_accuracy: 0.7308\n",
      "Epoch 30/50\n",
      "37/37 [==============================] - 0s 4ms/step - loss: 0.4316 - accuracy: 0.8193 - val_loss: 0.5329 - val_accuracy: 0.7308\n",
      "Epoch 31/50\n",
      "37/37 [==============================] - 0s 4ms/step - loss: 0.4249 - accuracy: 0.8322 - val_loss: 0.5146 - val_accuracy: 0.7385\n",
      "Epoch 32/50\n",
      "37/37 [==============================] - 0s 4ms/step - loss: 0.4075 - accuracy: 0.8382 - val_loss: 0.4979 - val_accuracy: 0.7538\n",
      "Epoch 33/50\n",
      "37/37 [==============================] - 0s 4ms/step - loss: 0.3988 - accuracy: 0.8330 - val_loss: 0.5386 - val_accuracy: 0.7308\n",
      "Epoch 34/50\n",
      "37/37 [==============================] - 0s 4ms/step - loss: 0.3943 - accuracy: 0.8399 - val_loss: 0.5062 - val_accuracy: 0.7538\n",
      "Epoch 35/50\n",
      "37/37 [==============================] - 0s 4ms/step - loss: 0.3800 - accuracy: 0.8425 - val_loss: 0.4719 - val_accuracy: 0.7846\n",
      "Epoch 36/50\n",
      "37/37 [==============================] - 0s 4ms/step - loss: 0.3739 - accuracy: 0.8460 - val_loss: 0.4611 - val_accuracy: 0.7846\n",
      "Epoch 37/50\n",
      "37/37 [==============================] - 0s 4ms/step - loss: 0.3721 - accuracy: 0.8477 - val_loss: 0.4438 - val_accuracy: 0.8077\n",
      "Epoch 38/50\n",
      "37/37 [==============================] - 0s 4ms/step - loss: 0.3483 - accuracy: 0.8623 - val_loss: 0.4628 - val_accuracy: 0.8000\n",
      "Epoch 39/50\n",
      "37/37 [==============================] - 0s 4ms/step - loss: 0.3570 - accuracy: 0.8546 - val_loss: 0.4269 - val_accuracy: 0.7923\n",
      "Epoch 40/50\n",
      "37/37 [==============================] - 0s 4ms/step - loss: 0.3376 - accuracy: 0.8666 - val_loss: 0.4147 - val_accuracy: 0.8154\n",
      "Epoch 41/50\n",
      "37/37 [==============================] - 0s 4ms/step - loss: 0.3334 - accuracy: 0.8821 - val_loss: 0.4452 - val_accuracy: 0.8231\n",
      "Epoch 42/50\n",
      "37/37 [==============================] - 0s 4ms/step - loss: 0.3278 - accuracy: 0.8761 - val_loss: 0.4187 - val_accuracy: 0.8231\n",
      "Epoch 43/50\n",
      "37/37 [==============================] - 0s 4ms/step - loss: 0.3225 - accuracy: 0.8735 - val_loss: 0.4064 - val_accuracy: 0.8154\n",
      "Epoch 44/50\n",
      "37/37 [==============================] - 0s 4ms/step - loss: 0.3023 - accuracy: 0.8864 - val_loss: 0.4121 - val_accuracy: 0.8077\n",
      "Epoch 45/50\n",
      "37/37 [==============================] - 0s 4ms/step - loss: 0.3165 - accuracy: 0.8761 - val_loss: 0.3849 - val_accuracy: 0.8231\n",
      "Epoch 46/50\n",
      "37/37 [==============================] - 0s 4ms/step - loss: 0.2855 - accuracy: 0.9036 - val_loss: 0.3993 - val_accuracy: 0.8154\n",
      "Epoch 47/50\n",
      "37/37 [==============================] - 0s 5ms/step - loss: 0.2986 - accuracy: 0.8907 - val_loss: 0.3853 - val_accuracy: 0.8308\n",
      "Epoch 48/50\n",
      "37/37 [==============================] - 0s 4ms/step - loss: 0.2884 - accuracy: 0.8881 - val_loss: 0.3715 - val_accuracy: 0.8385\n",
      "Epoch 49/50\n",
      "37/37 [==============================] - 0s 4ms/step - loss: 0.2703 - accuracy: 0.8959 - val_loss: 0.3567 - val_accuracy: 0.8385\n",
      "Epoch 50/50\n",
      "37/37 [==============================] - 0s 4ms/step - loss: 0.2623 - accuracy: 0.9028 - val_loss: 0.3713 - val_accuracy: 0.8538\n",
      "14/14 [==============================] - 0s 2ms/step\n"
     ]
    }
   ],
   "source": [
    "model_history=model.fit(x=X_train, y=y_train, epochs=50, batch_size=32, validation_split = 0.1, shuffle = True)\n",
    "pred_DL = model.predict(X_test)\n",
    "\n",
    "y_test_class = np.argmax(y_test,axis=1) # 배열에서 최댓값을 가지는 원소의 인덱스를 반환하는 함수\n",
    "y_pred_class = np.argmax(pred_DL,axis=1)"
   ]
  },
  {
   "cell_type": "code",
   "execution_count": 80,
   "id": "0e872b1d-263d-4843-adf4-079ade88b2f5",
   "metadata": {},
   "outputs": [
    {
     "data": {
      "image/png": "[encoded data removed]",
      "text/plain": [
       "<Figure size 640x480 with 1 Axes>"
      ]
     },
     "metadata": {},
     "output_type": "display_data"
    }
   ],
   "source": [
    "import matplotlib.pyplot as plt\n",
    "import seaborn as sns\n",
    "\n",
    "# 훈련 손실(training loss)과 검증 손실(validation loss) 추출\n",
    "loss = model_history.history['loss']\n",
    "val_loss = model_history.history['val_loss']\n",
    "\n",
    "# 에포크(epoch) 범위 생성\n",
    "epochs = range(1, len(loss) + 1)\n",
    "\n",
    "# 훈련 손실(training loss)과 검증 손실(validation loss) 시각화\n",
    "plt.plot(epochs, loss, 'y', label='Training loss')  # 훈련 손실을 노란색(yellow)으로 플롯\n",
    "plt.plot(epochs, val_loss, 'r', label='Validation loss')  # 검증 손실을 빨간색(red)으로 플롯\n",
    "plt.title('Training and validation loss')  # 그래프 제목 설정\n",
    "plt.xlabel('Epochs')  # x축 레이블 설정\n",
    "plt.ylabel('Loss')  # y축 레이블 설정\n",
    "plt.legend()  # 범례(legend) 표시\n",
    "plt.show()  # 그래프 출력"
   ]
  },
  {
   "cell_type": "code",
   "execution_count": 81,
   "id": "436410b5-7309-4675-9c90-1e35d3afe687",
   "metadata": {},
   "outputs": [
    {
     "data": {
      "image/png": "[encoded data removed]",
      "text/plain": [
       "<Figure size 640x480 with 1 Axes>"
      ]
     },
     "metadata": {},
     "output_type": "display_data"
    }
   ],
   "source": [
    "acc =model_history.history['accuracy']\n",
    "val_acc =model_history.history['val_accuracy']\n",
    "plt.plot(epochs, acc, 'y', label='Training acc')\n",
    "plt.plot(epochs, val_acc, 'r', label='Validation acc')\n",
    "plt.title('Training and validation accuracy')\n",
    "plt.xlabel('Epochs')\n",
    "plt.ylabel('Accuracy')\n",
    "plt.legend()\n",
    "plt.show()"
   ]
  },
  {
   "cell_type": "code",
   "execution_count": 82,
   "id": "7c0451c7-6175-421b-bcbd-1cceb1cc2aa1",
   "metadata": {},
   "outputs": [
    {
     "name": "stdout",
     "output_type": "stream",
     "text": [
      "              precision    recall  f1-score   support\n",
      "\n",
      "           0       0.62      0.71      0.66        99\n",
      "           1       0.50      0.05      0.09        21\n",
      "           2       0.90      0.94      0.92       292\n",
      "           3       0.71      0.31      0.43        16\n",
      "\n",
      "    accuracy                           0.82       428\n",
      "   macro avg       0.68      0.50      0.53       428\n",
      "weighted avg       0.81      0.82      0.80       428\n",
      "\n",
      "[[ 70   0  29   0]\n",
      " [ 17   1   3   0]\n",
      " [ 15   0 275   2]\n",
      " [ 10   1   0   5]]\n"
     ]
    }
   ],
   "source": [
    "from sklearn.metrics import accuracy_score, confusion_matrix, classification_report\n",
    "#Accuracy of the predicted values\n",
    "print(classification_report(y_test_class, y_pred_class))\n",
    "print(confusion_matrix(y_test_class, y_pred_class))"
   ]
  }
 ],
 "metadata": {
  "kernelspec": {
   "display_name": "Python 3 (ipykernel)",
   "language": "python",
   "name": "python3"
  },
  "language_info": {
   "codemirror_mode": {
    "name": "ipython",
    "version": 3
   },
   "file_extension": ".py",
   "mimetype": "text/x-python",
   "name": "python",
   "nbconvert_exporter": "python",
   "pygments_lexer": "ipython3",
   "version": "3.11.7"
  }
 },
 "nbformat": 4,
 "nbformat_minor": 5
}
